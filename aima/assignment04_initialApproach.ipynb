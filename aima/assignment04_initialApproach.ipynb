{
  "cells": [
    {
      "metadata": {
        "trusted": true
      },
      "cell_type": "code",
      "source": "import sys\nsys.path.append(\"./AIMA\")\nfrom search import *\nfrom agents import*\nimport time",
      "execution_count": 1,
      "outputs": []
    },
    {
      "metadata": {
        "trusted": true
      },
      "cell_type": "code",
      "source": "#Create hte things that can be on the boards\nclass Tpiece(Thing):\n    pass\n\nclass Mobs(Thing):\n    pass\n\nclass Oobs(Thing):\n    pass\n\nclass Board(Environment):\n    #Create an environment like last assignment, mainly to add things to it and create a percept to formulate initial states\n    pass",
      "execution_count": 2,
      "outputs": []
    },
    {
      "metadata": {
        "trusted": true
      },
      "cell_type": "code",
      "source": "class PSA(SimpleProblemSolvingAgentProgram):\n    def __call__(self, board, search_method, heuristic): #Added search and heuristic method to the agent call to change it easily for experiments\n        self.percept = board.things #percept will just be the list of objects in the board environment\n        self.search_method = search_method\n        self.heuristic = heuristic\n        \n        self.state = self.update_state(self.percept)\n        if not self.seq:\n            goal = self.formulate_goal(self.state)\n            problem = self.formulate_problem(self.state, goal)\n            self.seq.append(self.search(problem))\n            #This was originally self.seq = blabla in AIMA which obviously gives an error when trying to pop it later, corrected now\n            if not self.seq:\n                return None\n        return self.seq.pop(0)\n    \n    def update_state(self, percept): #from board.things it builds a tuple of tuples to represent the initial state\n        state = {'M': [], 'O': []} #Easier to build the state as a dict\n        \n        for p in percept:\n            if isinstance(p, Agent):\n                state['A'] = p.location\n            elif isinstance(p, Tpiece):\n                state['T'] = p.location\n            elif isinstance(p, Mobs):\n                state['M'].append(p.location)\n            elif isinstance(p, Oobs):\n                state['O'].append(p.location)\n        \n        #Assembling the state into a tuple of tuple, this is necessary because tuples are hashable and graph algorithms\n        #need hashable types to add to the explored set\n        temp = {}\n        temp['A'] = state['A']\n        temp['T'] = state['T']\n        temp['M'] = tuple(state['M'])\n        temp['O'] = tuple(state['O'])\n        \n        state = []\n        for k in temp.items():\n            state.append(k)\n                \n        state = tuple(state)\n        return state\n\n    def formulate_goal(self, state): #For the PushnPull problem with 'X' in (4, 4) there are always 2 possible goal states\n        goal = [(('A', (3, 4)), ('T', (4, 4))), (('A', (4, 3)), ('T', (4, 4)))]\n        return goal\n\n    def formulate_problem(self, state, goal): #create a problem object with the initial state and goal state\n        problem = PushnPull(state, goal)\n        return problem\n    \n    def search(self, problem): #Uses some search algorithm included in AIMA to solve the problem\n        return self.search_method(problem, self.heuristic)\n        ",
      "execution_count": 86,
      "outputs": []
    },
    {
      "metadata": {
        "trusted": true
      },
      "cell_type": "code",
      "source": "class PushnPull(Problem):\n    def actions(self, state):\n        \"\"\"Return the actions that can be executed in the given\n        state. The result would typically be a list, but if there are\n        many actions, consider yielding them one at a time in an\n        iterator, rather than building them all at once.\"\"\"\n\n        possible_actions = []\n        state = dict(state)\n        agent = state['A']\n        treasure = state['T']\n        movable = []\n        obstacles = []\n        movable_objects = []\n\n        if 'M' in state:\n            movable = state['M']\n        if 'O' in state:\n            obstacles =  list(state['O'])\n\n        movable_objects.append(treasure)\n        for m in movable:\n            movable_objects.append(m)\n\n        # Booleans for movable objects\n        movable_up = checkObject(agent, movable_objects, 'up')\n        movable_down = checkObject(agent, movable_objects, 'down')\n        movable_left = checkObject(agent, movable_objects, 'left')\n        movable_right= checkObject(agent, movable_objects, 'right')\n\n        # Booleans for non movable objects\n        obstacle_up = checkObject(agent, obstacles, 'up')\n        obstacle_down = checkObject(agent, obstacles, 'down')\n        obstacle_left = checkObject(agent, obstacles, 'left')\n        obstacle_right = checkObject(agent, obstacles, 'right')\n\n        # Booleans for empty spaces for push/pull\n        can_push_up = checkPushPull(agent, movable_objects, obstacles, 'up', 'push')\n        can_push_down = checkPushPull(agent, movable_objects, obstacles, 'down', 'push')\n        can_push_left = checkPushPull(agent, movable_objects, obstacles, 'left', 'push')\n        can_push_right = checkPushPull(agent, movable_objects, obstacles, 'right', 'push')\n\n        can_pull_up = checkPushPull(agent, movable_objects, obstacles, 'up', 'pull')\n        can_pull_down = checkPushPull(agent, movable_objects, obstacles, 'down', 'pull')\n        can_pull_left = checkPushPull(agent, movable_objects, obstacles, 'left', 'pull')\n        can_pull_right = checkPushPull(agent, movable_objects, obstacles, 'right', 'pull')\n\n        # Check Agent's MOVES\n        if agent[0] > 1 and not movable_up and not obstacle_up:\n            possible_actions.append('moveUp')\n\n        if agent[0] < 4 and not movable_down and not obstacle_down:\n            possible_actions.append('moveDown')\n\n        if agent[1] > 1 and not movable_left and not obstacle_left:\n            possible_actions.append('moveLeft')\n\n        if agent[1] < 4 and not movable_right and not obstacle_right:\n            possible_actions.append('moveRight')\n\n        # Check Agent's PUSHES\n        if agent[0] > 2 and movable_up and can_push_up:\n            possible_actions.append('pushUp')\n\n        if agent[0] < 3 and movable_down and can_push_down:\n            possible_actions.append('pushDown')\n\n        if agent[1] > 2 and movable_left and can_push_left:\n            possible_actions.append('pushLeft')\n\n        if agent[1] < 3 and movable_right and can_push_right:\n            possible_actions.append('pushRight')\n\n        # Check Agent's PULLS\n        if agent[0] > 1 and movable_down and can_pull_up:\n            possible_actions.append('pullUp')\n\n        if agent[0] < 4 and movable_up and can_pull_down:\n            possible_actions.append('pullDown')\n\n        if agent[1] > 1 and movable_right and can_pull_left:\n            possible_actions.append('pullLeft')\n\n        if agent[1] < 4 and movable_left and can_pull_right:\n            possible_actions.append('pullRight')\n\n        return possible_actions\n    \n    def result(self, state, action):\n        \"\"\"Return the state that results from executing the given\n        action in the given state. The action must be one of\n        self.actions(state).\"\"\"\n        temp = dict(state)\n        #converting the state temporarily to a dictionary makes it easier to manip the data, example: {'A': (1,1), 'T': (5, 5)}\n        \n        if action == \"pushRight\":\n            out = []\n            for i in temp['M']:\n                if temp['A'][0] == i[0] and temp['A'][1] + 1 == i[1]:\n                    out.append((i[0], i[1] + 1))\n                else:\n                    out.append((i[0], i[1]))\n            temp['M'] = out\n            if temp['A'][0] == temp['T'][0] and temp['A'][1] + 1 == temp['T'][1]:\n                temp['T'] = (temp['T'][0], temp['T'][1] + 1)\n            temp['A'] = (temp['A'][0], temp['A'][1] + 1) \n            \n        elif action == \"pushLeft\":\n            out = []\n            for i in temp['M']:\n                if temp['A'][0] == i[0] and temp['A'][1] - 1 == i[1]:\n                    out.append((i[0], i[1] - 1))\n                else:\n                    out.append((i[0], i[1]))\n            temp['M'] = out\n            if temp['A'][0] == temp['T'][0] and temp['A'][1] - 1 == temp['T'][1]:\n                temp['T'] = (temp['T'][0], temp['T'][1] - 1)\n            temp['A'] = (temp['A'][0], temp['A'][1] - 1)\n\n        elif action == \"pushUp\":\n            out = []\n            for i in temp['M']:\n                if temp['A'][0] - 1 == i[0] and temp['A'][1] == i[1]:\n                    out.append((i[0] - 1, i[1]))\n                else:\n                    out.append((i[0], i[1]))\n            temp['M'] = out\n            if temp['A'][0] - 1 == temp['T'][0] and temp['A'][1] == temp['T'][1]:\n                temp['T'] = (temp['T'][0] - 1, temp['T'][1])\n            temp['A'] = (temp['A'][0] - 1, temp['A'][1])\n\n        elif action == \"pushDown\":\n            out = []\n            for i in temp['M']:\n                if temp['A'][0] + 1 == i[0] and temp['A'][1] == i[1]:\n                    out.append((i[0] + 1, i[1]))\n                else:\n                    out.append((i[0], i[1]))\n            temp['M'] = out\n            if temp['A'][0] + 1 == temp['T'][0] and temp['A'][1] == temp['T'][1]:\n                temp['T'] = (temp['T'][0] + 1, temp['T'][1])\n            temp['A'] = (temp['A'][0] + 1, temp['A'][1])\n            \n        elif action == \"pullRight\":\n            out = []\n            for i in temp['M']:\n                if temp['A'][0] == i[0] and temp['A'][1] - 1 == i[1]:\n                    out.append((i[0], i[1] + 1))\n                else:\n                    out.append((i[0], i[1]))\n            temp['M'] = out\n            if temp['A'][0] == temp['T'][0] and temp['A'][1] - 1 == temp['T'][1]:\n                temp['T'] = (temp['T'][0], temp['T'][1] + 1)\n            temp['A'] = (temp['A'][0], temp['A'][1] + 1)\n            \n        elif action == \"pullLeft\":\n            out = []\n            for i in temp['M']:\n                if temp['A'][0] == i[0] and temp['A'][1] + 1 == i[1]:\n                    out.append((i[0], i[1] - 1))\n                else:\n                    out.append((i[0], i[1]))\n            temp['M'] = out\n            if temp['A'][0] == temp['T'][0] and temp['A'][1] + 1 == temp['T'][1]:\n                temp['T'] = (temp['T'][0], temp['T'][1] - 1)\n            temp['A'] = (temp['A'][0], temp['A'][1] - 1)\n        \n        elif action == \"pullUp\":\n            out = []\n            for i in temp['M']:\n                if temp['A'][0] + 1 == i[0] and temp['A'][1] == i[1]:\n                    out.append((i[0] - 1, i[1]))\n                else:\n                    out.append((i[0], i[1]))\n            temp['M'] = out\n            if temp['A'][0] + 1 == temp['T'][0] and temp['A'][1] == temp['T'][1]:\n                temp['T'] = (temp['T'][0] - 1, temp['T'][1])\n            temp['A'] = (temp['A'][0] - 1, temp['A'][1])\n            \n        elif action == \"pullDown\":\n            out = []\n            for i in temp['M']:\n                if temp['A'][0] - 1 == i[0] and temp['A'][1] == i[1]:\n                    out.append((i[0] + 1, i[1]))\n                else:\n                    out.append((i[0], i[1]))\n            temp['M'] = out\n            if temp['A'][0] - 1 == temp['T'][0] and temp['A'][1] == temp['T'][1]:\n                temp['T'] = (temp['T'][0] + 1, temp['T'][1])\n            temp['A'] = (temp['A'][0] + 1, temp['A'][1])\n            \n        else:\n            if action == 'moveRight':\n                temp['A'] = (temp['A'][0], temp['A'][1] + 1)\n            elif action == 'moveLeft':\n                temp['A'] = (temp['A'][0], temp['A'][1] - 1)\n            elif action == 'moveUp':\n                temp['A'] = (temp['A'][0] - 1, temp['A'][1])\n            elif action == 'moveDown':\n                temp['A'] = (temp['A'][0] + 1, temp['A'][1])\n        \n        #This next block simply builds a proper tuple formatted state from the edited dictionary\n        out = {}\n        out['A'] = temp['A']\n        out['T'] = temp['T']\n        out['M'] = tuple(temp['M'])\n        out['O'] = temp['O']\n        \n        result = []\n        for k in out.items():\n            result.append(k)\n                \n        result = tuple(result)\n        return result\n    \n    \n    def goal_test(self, state):\n        state = dict(state)\n        agent = ('A', state['A'])\n        piece = ('T', state['T'])\n\n        for g in self.goal:\n            g_agent = g[0]\n            g_piece = g[1]\n            if g_agent == agent and g_piece == piece:\n                return True\n        return False",
      "execution_count": 34,
      "outputs": []
    },
    {
      "metadata": {
        "trusted": true
      },
      "cell_type": "code",
      "source": "#These are custom additional functions we use to facilitate our tasks\n\ndef simpleManhattanHeuristic(node):\n    temp = dict(node.path()[-1].state)\n    \n    d = abs(temp['T'][1] - 4) + abs(temp['T'][0] - 4)\n    return d\n\ndef doubleManhattanHeuristic(node):\n    temp = dict(node.path()[-1].state)\n    \n    d_target = abs(temp['T'][1] - 4) + abs(temp['T'][0] - 4)\n    d_piece = abs(temp['T'][1] - temp['A'][1]) + abs(temp['T'][0] - temp['A'][0]) - 1\n    \n    return d_target + d_piece\n\ndef checkPushPull(agent, movable_objects, obstacles, direction, movement): #used in problem.actions()\n    location = list(agent)\n\n    if direction == 'up':\n        if movement == 'push':\n            location[0] -= 2\n        elif movement == 'pull':\n            location[0] -= 1\n    elif direction == 'down':\n        if movement == 'push':\n            location[0] += 2\n        elif movement == 'pull':\n            location[0] += 1\n    elif direction == 'left':\n        if movement == 'push':\n            location[1] -= 2\n        elif movement == 'pull':\n            location[1] -= 1\n    else:\n        if movement == 'push':\n            location[1] += 2\n        elif movement == 'pull':\n            location[1] += 1\n\n    if location[0] > 4 or location[0] < 1 or location[1] > 4 or location[1] < 1:\n        return False\n\n    for ob in obstacles:\n        if tuple(location) == ob:\n            return False\n\n    for mo in movable_objects:\n        if tuple(location) == mo:\n            return False\n    return True\n\ndef checkObject(agent, objects, direction): #Used in problem.actions()\n    location = list(agent)\n\n    if direction == 'up':\n        location[0] -= 1\n    elif direction == 'down':\n        location[0] += 1\n    elif direction == 'left':\n        location[1] -= 1\n    else:\n        location[1] += 1\n\n    if location[0] > 4 or location[0] < 1 or location[1] > 4 or location[1] < 1:\n        return False\n\n    for ob in objects:\n        if tuple(location) == ob:\n            return True\n\n    return False\n\ndef printStepsStatesMatrix(search_result): #Graphically represent state changes and actions during solving a board of PushnPull\n    if search_result == None:\n        print(\"No solution found\")\n        return None\n    \n    array_states = search_result.path()\n    array_actions = search_result.solution()\n    step=-1\n    \n    for state in array_states:\n        step += 1\n        print(\"<STEP\" + str(step) + \">\")\n        print(\"state: \" + str(state.state))\n        print(\"heuristic estimation: \" + str(state.f))\n        temp = dict(state.state)\n    \n        for i in range(1, 7):\n            for j in range(1, 7):\n                if i == 1:\n                    if j == 1:\n                        print('+ ', end = '')\n                    elif j == 6:\n                        print('+')\n                    else:\n                        print(str(j - 1) + ' ', end = '')\n            \n                elif i == 6:\n                    if j == 1:\n                        print('+ ', end = '')\n                    elif j == 6:\n                        print('+')\n                    else:\n                        print(str(j - 1) + ' ', end = '')\n            \n                else:\n                    if j == 1:\n                        print(str(i - 1) + ' ', end = '')\n                    elif j == 6:\n                        print(str(i - 1))\n                    else:\n                        if temp['A'] == (i - 1, j - 1):\n                            print('A ', end = '')\n                        elif temp['T'] == (i - 1, j - 1):\n                            print('T ', end = '')\n                        elif [locus for locus in list(temp['M']) if locus == (i - 1, j - 1)]:\n                            print('M ', end = '')\n                        elif [locus for locus in list(temp['O']) if locus == (i - 1, j - 1)]:\n                            print('O ', end = '')\n                        elif i == 5 and j == 5:\n                            print('X ', end = '')\n                        else:\n                            print('- ', end = '')\n                            \n        if step == len(array_actions):\n            break\n        else:\n            print(\"action: \" + str(array_actions[step]) + \"\\n\")",
      "execution_count": 44,
      "outputs": []
    },
    {
      "metadata": {
        "trusted": true
      },
      "cell_type": "code",
      "source": "board1 = Board()\nmike1 = PSA()\nt1 = Tpiece()\n\nboard1.add_thing(mike1, (1, 1))\nboard1.add_thing(t1, (4, 2))",
      "execution_count": 87,
      "outputs": []
    },
    {
      "metadata": {
        "trusted": true
      },
      "cell_type": "code",
      "source": "start = time.time()\nboard1_uninformedIDS_test = mike1(board1, iterative_deepening_search)\nend = time.time()\nprint(\"Time to compute: \" + str(end - start) + \" seconds\")",
      "execution_count": 88,
      "outputs": [
        {
          "output_type": "stream",
          "text": "Time to compute: 0.014095306396484375 seconds\n",
          "name": "stdout"
        }
      ]
    },
    {
      "metadata": {
        "trusted": true
      },
      "cell_type": "code",
      "source": "printStepsStatesMatrix(board1_uninformedIDS_test)",
      "execution_count": 22,
      "outputs": [
        {
          "output_type": "stream",
          "text": "<STEP0>\nstate: (('A', (1, 1)), ('T', (4, 2)), ('M', ()), ('O', ()))\n+ 1 2 3 4 +\n1 A - - - 1\n2 - - - - 2\n3 - - - - 3\n4 - T - X 4\n+ 1 2 3 4 +\naction: moveDown\n\n<STEP1>\nstate: (('A', (2, 1)), ('T', (4, 2)), ('M', ()), ('O', ()))\n+ 1 2 3 4 +\n1 - - - - 1\n2 A - - - 2\n3 - - - - 3\n4 - T - X 4\n+ 1 2 3 4 +\naction: moveDown\n\n<STEP2>\nstate: (('A', (3, 1)), ('T', (4, 2)), ('M', ()), ('O', ()))\n+ 1 2 3 4 +\n1 - - - - 1\n2 - - - - 2\n3 A - - - 3\n4 - T - X 4\n+ 1 2 3 4 +\naction: moveDown\n\n<STEP3>\nstate: (('A', (4, 1)), ('T', (4, 2)), ('M', ()), ('O', ()))\n+ 1 2 3 4 +\n1 - - - - 1\n2 - - - - 2\n3 - - - - 3\n4 A T - X 4\n+ 1 2 3 4 +\naction: pushRight\n\n<STEP4>\nstate: (('A', (4, 2)), ('T', (4, 3)), ('M', ()), ('O', ()))\n+ 1 2 3 4 +\n1 - - - - 1\n2 - - - - 2\n3 - - - - 3\n4 - A T X 4\n+ 1 2 3 4 +\naction: pushRight\n\n<STEP5>\nstate: (('A', (4, 3)), ('T', (4, 4)), ('M', ()), ('O', ()))\n+ 1 2 3 4 +\n1 - - - - 1\n2 - - - - 2\n3 - - - - 3\n4 - - A T 4\n+ 1 2 3 4 +\n",
          "name": "stdout"
        }
      ]
    },
    {
      "metadata": {
        "trusted": true
      },
      "cell_type": "code",
      "source": "start = time.time()\nboard1_greedy_simpleManhattan = mike1(board1, greedy_best_first_graph_search, simpleManhattanHeuristic)\nend = time.time()\nprint(\"Time to compute: \" + str(end - start) + \" seconds\")",
      "execution_count": 63,
      "outputs": [
        {
          "output_type": "stream",
          "text": "Time to compute: 0.008603572845458984 seconds\n",
          "name": "stdout"
        }
      ]
    },
    {
      "metadata": {
        "trusted": true
      },
      "cell_type": "code",
      "source": "printStepsStatesMatrix(board1_greedy_simpleManhattan)",
      "execution_count": 64,
      "outputs": [
        {
          "output_type": "stream",
          "text": "<STEP0>\nstate: (('A', (1, 1)), ('T', (4, 2)), ('M', ()), ('O', ()))\nheuristic estimation: 2\n+ 1 2 3 4 +\n1 A - - - 1\n2 - - - - 2\n3 - - - - 3\n4 - T - X 4\n+ 1 2 3 4 +\naction: moveDown\n\n<STEP1>\nstate: (('A', (2, 1)), ('T', (4, 2)), ('M', ()), ('O', ()))\nheuristic estimation: 2\n+ 1 2 3 4 +\n1 - - - - 1\n2 A - - - 2\n3 - - - - 3\n4 - T - X 4\n+ 1 2 3 4 +\naction: moveDown\n\n<STEP2>\nstate: (('A', (3, 1)), ('T', (4, 2)), ('M', ()), ('O', ()))\nheuristic estimation: 2\n+ 1 2 3 4 +\n1 - - - - 1\n2 - - - - 2\n3 A - - - 3\n4 - T - X 4\n+ 1 2 3 4 +\naction: moveDown\n\n<STEP3>\nstate: (('A', (4, 1)), ('T', (4, 2)), ('M', ()), ('O', ()))\nheuristic estimation: 2\n+ 1 2 3 4 +\n1 - - - - 1\n2 - - - - 2\n3 - - - - 3\n4 A T - X 4\n+ 1 2 3 4 +\naction: pushRight\n\n<STEP4>\nstate: (('A', (4, 2)), ('T', (4, 3)), ('M', ()), ('O', ()))\nheuristic estimation: 1\n+ 1 2 3 4 +\n1 - - - - 1\n2 - - - - 2\n3 - - - - 3\n4 - A T X 4\n+ 1 2 3 4 +\naction: pushRight\n\n<STEP5>\nstate: (('A', (4, 3)), ('T', (4, 4)), ('M', ()), ('O', ()))\nheuristic estimation: 0\n+ 1 2 3 4 +\n1 - - - - 1\n2 - - - - 2\n3 - - - - 3\n4 - - A T 4\n+ 1 2 3 4 +\n",
          "name": "stdout"
        }
      ]
    },
    {
      "metadata": {
        "trusted": true
      },
      "cell_type": "code",
      "source": "start = time.time()\nboard1_greedy_doubleManhattan = mike1(board1, greedy_best_first_graph_search, doubleManhattanHeuristic)\nend = time.time()\nprint(\"Time to compute: \" + str(end - start) + \" seconds\")",
      "execution_count": 65,
      "outputs": [
        {
          "output_type": "stream",
          "text": "Time to compute: 0.004264354705810547 seconds\n",
          "name": "stdout"
        }
      ]
    },
    {
      "metadata": {
        "trusted": true
      },
      "cell_type": "code",
      "source": "printStepsStatesMatrix(board1_greedy_doubleManhattan)",
      "execution_count": 66,
      "outputs": [
        {
          "output_type": "stream",
          "text": "<STEP0>\nstate: (('A', (1, 1)), ('T', (4, 2)), ('M', ()), ('O', ()))\nheuristic estimation: 5\n+ 1 2 3 4 +\n1 A - - - 1\n2 - - - - 2\n3 - - - - 3\n4 - T - X 4\n+ 1 2 3 4 +\naction: moveRight\n\n<STEP1>\nstate: (('A', (1, 2)), ('T', (4, 2)), ('M', ()), ('O', ()))\nheuristic estimation: 4\n+ 1 2 3 4 +\n1 - A - - 1\n2 - - - - 2\n3 - - - - 3\n4 - T - X 4\n+ 1 2 3 4 +\naction: moveDown\n\n<STEP2>\nstate: (('A', (2, 2)), ('T', (4, 2)), ('M', ()), ('O', ()))\nheuristic estimation: 3\n+ 1 2 3 4 +\n1 - - - - 1\n2 - A - - 2\n3 - - - - 3\n4 - T - X 4\n+ 1 2 3 4 +\naction: moveDown\n\n<STEP3>\nstate: (('A', (3, 2)), ('T', (4, 2)), ('M', ()), ('O', ()))\nheuristic estimation: 2\n+ 1 2 3 4 +\n1 - - - - 1\n2 - - - - 2\n3 - A - - 3\n4 - T - X 4\n+ 1 2 3 4 +\naction: moveLeft\n\n<STEP4>\nstate: (('A', (3, 1)), ('T', (4, 2)), ('M', ()), ('O', ()))\nheuristic estimation: 3\n+ 1 2 3 4 +\n1 - - - - 1\n2 - - - - 2\n3 A - - - 3\n4 - T - X 4\n+ 1 2 3 4 +\naction: moveDown\n\n<STEP5>\nstate: (('A', (4, 1)), ('T', (4, 2)), ('M', ()), ('O', ()))\nheuristic estimation: 2\n+ 1 2 3 4 +\n1 - - - - 1\n2 - - - - 2\n3 - - - - 3\n4 A T - X 4\n+ 1 2 3 4 +\naction: pushRight\n\n<STEP6>\nstate: (('A', (4, 2)), ('T', (4, 3)), ('M', ()), ('O', ()))\nheuristic estimation: 1\n+ 1 2 3 4 +\n1 - - - - 1\n2 - - - - 2\n3 - - - - 3\n4 - A T X 4\n+ 1 2 3 4 +\naction: pushRight\n\n<STEP7>\nstate: (('A', (4, 3)), ('T', (4, 4)), ('M', ()), ('O', ()))\nheuristic estimation: 0\n+ 1 2 3 4 +\n1 - - - - 1\n2 - - - - 2\n3 - - - - 3\n4 - - A T 4\n+ 1 2 3 4 +\n",
          "name": "stdout"
        }
      ]
    },
    {
      "metadata": {
        "trusted": true
      },
      "cell_type": "code",
      "source": "board2 = Board()\nmike2 = PSA()\nt2 = Tpiece()\nm1_2 = Mobs()\nm2_2 = Mobs()\nm3_2 = Mobs()\no1_2 = Oobs()\n\nboard2.add_thing(mike2, (4, 1))\nboard2.add_thing(t2, (2, 3))\nboard2.add_thing(m1_2, (3, 2))\nboard2.add_thing(m2_2, (3, 3))\nboard2.add_thing(m3_2, (3, 4))\nboard2.add_thing(o1_2, (3, 1))\n",
      "execution_count": 67,
      "outputs": []
    },
    {
      "metadata": {
        "trusted": true
      },
      "cell_type": "code",
      "source": "start = time.time()\nboard2_uninformedIDS_test = mike2(board2, iterative_deepening_search)\nend = time.time()\nprint(\"Time to compute: \" + str(end - start) + \" seconds\")",
      "execution_count": 30,
      "outputs": [
        {
          "output_type": "stream",
          "text": "Time to compute: 8.323825359344482 seconds\n",
          "name": "stdout"
        }
      ]
    },
    {
      "metadata": {
        "trusted": true
      },
      "cell_type": "code",
      "source": "printStepsStatesMatrix(board2_uninformedIDS_test)",
      "execution_count": 19,
      "outputs": [
        {
          "output_type": "stream",
          "text": "<STEP0>\nstate: (('A', (4, 1)), ('T', (2, 3)), ('M', ((3, 2), (3, 3), (3, 4))), ('O', ((3, 1),)))\n+ 1 2 3 4 +\n1 - - - - 1\n2 - - T - 2\n3 O M M M 3\n4 A - - X 4\n+ 1 2 3 4 +\naction: moveRight\n\n<STEP1>\nstate: (('A', (4, 2)), ('T', (2, 3)), ('M', ((3, 2), (3, 3), (3, 4))), ('O', ((3, 1),)))\n+ 1 2 3 4 +\n1 - - - - 1\n2 - - T - 2\n3 O M M M 3\n4 - A - X 4\n+ 1 2 3 4 +\naction: pushUp\n\n<STEP2>\nstate: (('A', (3, 2)), ('T', (2, 3)), ('M', ((2, 2), (3, 3), (3, 4))), ('O', ((3, 1),)))\n+ 1 2 3 4 +\n1 - - - - 1\n2 - M T - 2\n3 O A M M 3\n4 - - - X 4\n+ 1 2 3 4 +\naction: pushUp\n\n<STEP3>\nstate: (('A', (2, 2)), ('T', (2, 3)), ('M', ((1, 2), (3, 3), (3, 4))), ('O', ((3, 1),)))\n+ 1 2 3 4 +\n1 - M - - 1\n2 - A T - 2\n3 O - M M 3\n4 - - - X 4\n+ 1 2 3 4 +\naction: pushRight\n\n<STEP4>\nstate: (('A', (2, 3)), ('T', (2, 4)), ('M', ((1, 2), (3, 3), (3, 4))), ('O', ((3, 1),)))\n+ 1 2 3 4 +\n1 - M - - 1\n2 - - A T 2\n3 O - M M 3\n4 - - - X 4\n+ 1 2 3 4 +\naction: pushDown\n\n<STEP5>\nstate: (('A', (3, 3)), ('T', (2, 4)), ('M', ((1, 2), (4, 3), (3, 4))), ('O', ((3, 1),)))\n+ 1 2 3 4 +\n1 - M - - 1\n2 - - - T 2\n3 O - A M 3\n4 - - M X 4\n+ 1 2 3 4 +\naction: pullLeft\n\n<STEP6>\nstate: (('A', (3, 2)), ('T', (2, 4)), ('M', ((1, 2), (4, 3), (3, 3))), ('O', ((3, 1),)))\n+ 1 2 3 4 +\n1 - M - - 1\n2 - - - T 2\n3 O A M - 3\n4 - - M X 4\n+ 1 2 3 4 +\naction: moveUp\n\n<STEP7>\nstate: (('A', (2, 2)), ('T', (2, 4)), ('M', ((1, 2), (4, 3), (3, 3))), ('O', ((3, 1),)))\n+ 1 2 3 4 +\n1 - M - - 1\n2 - A - T 2\n3 O - M - 3\n4 - - M X 4\n+ 1 2 3 4 +\naction: moveRight\n\n<STEP8>\nstate: (('A', (2, 3)), ('T', (2, 4)), ('M', ((1, 2), (4, 3), (3, 3))), ('O', ((3, 1),)))\n+ 1 2 3 4 +\n1 - M - - 1\n2 - - A T 2\n3 O - M - 3\n4 - - M X 4\n+ 1 2 3 4 +\naction: moveUp\n\n<STEP9>\nstate: (('A', (1, 3)), ('T', (2, 4)), ('M', ((1, 2), (4, 3), (3, 3))), ('O', ((3, 1),)))\n+ 1 2 3 4 +\n1 - M A - 1\n2 - - - T 2\n3 O - M - 3\n4 - - M X 4\n+ 1 2 3 4 +\naction: moveRight\n\n<STEP10>\nstate: (('A', (1, 4)), ('T', (2, 4)), ('M', ((1, 2), (4, 3), (3, 3))), ('O', ((3, 1),)))\n+ 1 2 3 4 +\n1 - M - A 1\n2 - - - T 2\n3 O - M - 3\n4 - - M X 4\n+ 1 2 3 4 +\naction: pushDown\n\n<STEP11>\nstate: (('A', (2, 4)), ('T', (3, 4)), ('M', ((1, 2), (4, 3), (3, 3))), ('O', ((3, 1),)))\n+ 1 2 3 4 +\n1 - M - - 1\n2 - - - A 2\n3 O - M T 3\n4 - - M X 4\n+ 1 2 3 4 +\naction: pushDown\n\n<STEP12>\nstate: (('A', (3, 4)), ('T', (4, 4)), ('M', ((1, 2), (4, 3), (3, 3))), ('O', ((3, 1),)))\n+ 1 2 3 4 +\n1 - M - - 1\n2 - - - - 2\n3 O - M A 3\n4 - - M T 4\n+ 1 2 3 4 +\n",
          "name": "stdout"
        }
      ]
    },
    {
      "metadata": {
        "trusted": true
      },
      "cell_type": "code",
      "source": "start = time.time()\nboard2_greedy_simpleManhattan = mike2(board2, greedy_best_first_graph_search, simpleManhattanHeuristic)\nend = time.time()\nprint(\"Time to compute: \" + str(end - start) + \" seconds\")",
      "execution_count": 68,
      "outputs": [
        {
          "output_type": "stream",
          "text": "Time to compute: 0.10686039924621582 seconds\n",
          "name": "stdout"
        }
      ]
    },
    {
      "metadata": {
        "trusted": true
      },
      "cell_type": "code",
      "source": "printStepsStatesMatrix(board2_greedy_simpleManhattan)",
      "execution_count": 69,
      "outputs": [
        {
          "output_type": "stream",
          "text": "<STEP0>\nstate: (('A', (4, 1)), ('T', (2, 3)), ('M', ((3, 2), (3, 3), (3, 4))), ('O', ((3, 1),)))\nheuristic estimation: 3\n+ 1 2 3 4 +\n1 - - - - 1\n2 - - T - 2\n3 O M M M 3\n4 A - - X 4\n+ 1 2 3 4 +\naction: moveRight\n\n<STEP1>\nstate: (('A', (4, 2)), ('T', (2, 3)), ('M', ((3, 2), (3, 3), (3, 4))), ('O', ((3, 1),)))\nheuristic estimation: 3\n+ 1 2 3 4 +\n1 - - - - 1\n2 - - T - 2\n3 O M M M 3\n4 - A - X 4\n+ 1 2 3 4 +\naction: pushUp\n\n<STEP2>\nstate: (('A', (3, 2)), ('T', (2, 3)), ('M', ((2, 2), (3, 3), (3, 4))), ('O', ((3, 1),)))\nheuristic estimation: 3\n+ 1 2 3 4 +\n1 - - - - 1\n2 - M T - 2\n3 O A M M 3\n4 - - - X 4\n+ 1 2 3 4 +\naction: pushUp\n\n<STEP3>\nstate: (('A', (2, 2)), ('T', (2, 3)), ('M', ((1, 2), (3, 3), (3, 4))), ('O', ((3, 1),)))\nheuristic estimation: 3\n+ 1 2 3 4 +\n1 - M - - 1\n2 - A T - 2\n3 O - M M 3\n4 - - - X 4\n+ 1 2 3 4 +\naction: pushRight\n\n<STEP4>\nstate: (('A', (2, 3)), ('T', (2, 4)), ('M', ((1, 2), (3, 3), (3, 4))), ('O', ((3, 1),)))\nheuristic estimation: 2\n+ 1 2 3 4 +\n1 - M - - 1\n2 - - A T 2\n3 O - M M 3\n4 - - - X 4\n+ 1 2 3 4 +\naction: moveLeft\n\n<STEP5>\nstate: (('A', (2, 2)), ('T', (2, 4)), ('M', ((1, 2), (3, 3), (3, 4))), ('O', ((3, 1),)))\nheuristic estimation: 2\n+ 1 2 3 4 +\n1 - M - - 1\n2 - A - T 2\n3 O - M M 3\n4 - - - X 4\n+ 1 2 3 4 +\naction: moveLeft\n\n<STEP6>\nstate: (('A', (2, 1)), ('T', (2, 4)), ('M', ((1, 2), (3, 3), (3, 4))), ('O', ((3, 1),)))\nheuristic estimation: 2\n+ 1 2 3 4 +\n1 - M - - 1\n2 A - - T 2\n3 O - M M 3\n4 - - - X 4\n+ 1 2 3 4 +\naction: moveUp\n\n<STEP7>\nstate: (('A', (1, 1)), ('T', (2, 4)), ('M', ((1, 2), (3, 3), (3, 4))), ('O', ((3, 1),)))\nheuristic estimation: 2\n+ 1 2 3 4 +\n1 A M - - 1\n2 - - - T 2\n3 O - M M 3\n4 - - - X 4\n+ 1 2 3 4 +\naction: pushRight\n\n<STEP8>\nstate: (('A', (1, 2)), ('T', (2, 4)), ('M', ((1, 3), (3, 3), (3, 4))), ('O', ((3, 1),)))\nheuristic estimation: 2\n+ 1 2 3 4 +\n1 - A M - 1\n2 - - - T 2\n3 O - M M 3\n4 - - - X 4\n+ 1 2 3 4 +\naction: pushRight\n\n<STEP9>\nstate: (('A', (1, 3)), ('T', (2, 4)), ('M', ((1, 4), (3, 3), (3, 4))), ('O', ((3, 1),)))\nheuristic estimation: 2\n+ 1 2 3 4 +\n1 - - A M 1\n2 - - - T 2\n3 O - M M 3\n4 - - - X 4\n+ 1 2 3 4 +\naction: moveDown\n\n<STEP10>\nstate: (('A', (2, 3)), ('T', (2, 4)), ('M', ((1, 4), (3, 3), (3, 4))), ('O', ((3, 1),)))\nheuristic estimation: 2\n+ 1 2 3 4 +\n1 - - - M 1\n2 - - A T 2\n3 O - M M 3\n4 - - - X 4\n+ 1 2 3 4 +\naction: pullUp\n\n<STEP11>\nstate: (('A', (1, 3)), ('T', (2, 4)), ('M', ((1, 4), (2, 3), (3, 4))), ('O', ((3, 1),)))\nheuristic estimation: 2\n+ 1 2 3 4 +\n1 - - A M 1\n2 - - M T 2\n3 O - - M 3\n4 - - - X 4\n+ 1 2 3 4 +\naction: pullLeft\n\n<STEP12>\nstate: (('A', (1, 2)), ('T', (2, 4)), ('M', ((1, 3), (2, 3), (3, 4))), ('O', ((3, 1),)))\nheuristic estimation: 2\n+ 1 2 3 4 +\n1 - A M - 1\n2 - - M T 2\n3 O - - M 3\n4 - - - X 4\n+ 1 2 3 4 +\naction: pullLeft\n\n<STEP13>\nstate: (('A', (1, 1)), ('T', (2, 4)), ('M', ((1, 2), (2, 3), (3, 4))), ('O', ((3, 1),)))\nheuristic estimation: 2\n+ 1 2 3 4 +\n1 A M - - 1\n2 - - M T 2\n3 O - - M 3\n4 - - - X 4\n+ 1 2 3 4 +\naction: moveDown\n\n<STEP14>\nstate: (('A', (2, 1)), ('T', (2, 4)), ('M', ((1, 2), (2, 3), (3, 4))), ('O', ((3, 1),)))\nheuristic estimation: 2\n+ 1 2 3 4 +\n1 - M - - 1\n2 A - M T 2\n3 O - - M 3\n4 - - - X 4\n+ 1 2 3 4 +\naction: moveRight\n\n<STEP15>\nstate: (('A', (2, 2)), ('T', (2, 4)), ('M', ((1, 2), (2, 3), (3, 4))), ('O', ((3, 1),)))\nheuristic estimation: 2\n+ 1 2 3 4 +\n1 - M - - 1\n2 - A M T 2\n3 O - - M 3\n4 - - - X 4\n+ 1 2 3 4 +\naction: pullLeft\n\n<STEP16>\nstate: (('A', (2, 1)), ('T', (2, 4)), ('M', ((1, 2), (2, 2), (3, 4))), ('O', ((3, 1),)))\nheuristic estimation: 2\n+ 1 2 3 4 +\n1 - M - - 1\n2 A M - T 2\n3 O - - M 3\n4 - - - X 4\n+ 1 2 3 4 +\naction: moveUp\n\n<STEP17>\nstate: (('A', (1, 1)), ('T', (2, 4)), ('M', ((1, 2), (2, 2), (3, 4))), ('O', ((3, 1),)))\nheuristic estimation: 2\n+ 1 2 3 4 +\n1 A M - - 1\n2 - M - T 2\n3 O - - M 3\n4 - - - X 4\n+ 1 2 3 4 +\naction: pushRight\n\n<STEP18>\nstate: (('A', (1, 2)), ('T', (2, 4)), ('M', ((1, 3), (2, 2), (3, 4))), ('O', ((3, 1),)))\nheuristic estimation: 2\n+ 1 2 3 4 +\n1 - A M - 1\n2 - M - T 2\n3 O - - M 3\n4 - - - X 4\n+ 1 2 3 4 +\naction: pushDown\n\n<STEP19>\nstate: (('A', (2, 2)), ('T', (2, 4)), ('M', ((1, 3), (3, 2), (3, 4))), ('O', ((3, 1),)))\nheuristic estimation: 2\n+ 1 2 3 4 +\n1 - - M - 1\n2 - A - T 2\n3 O M - M 3\n4 - - - X 4\n+ 1 2 3 4 +\naction: moveUp\n\n<STEP20>\nstate: (('A', (1, 2)), ('T', (2, 4)), ('M', ((1, 3), (3, 2), (3, 4))), ('O', ((3, 1),)))\nheuristic estimation: 2\n+ 1 2 3 4 +\n1 - A M - 1\n2 - - - T 2\n3 O M - M 3\n4 - - - X 4\n+ 1 2 3 4 +\naction: pullLeft\n\n<STEP21>\nstate: (('A', (1, 1)), ('T', (2, 4)), ('M', ((1, 2), (3, 2), (3, 4))), ('O', ((3, 1),)))\nheuristic estimation: 2\n+ 1 2 3 4 +\n1 A M - - 1\n2 - - - T 2\n3 O M - M 3\n4 - - - X 4\n+ 1 2 3 4 +\naction: moveDown\n\n<STEP22>\nstate: (('A', (2, 1)), ('T', (2, 4)), ('M', ((1, 2), (3, 2), (3, 4))), ('O', ((3, 1),)))\nheuristic estimation: 2\n+ 1 2 3 4 +\n1 - M - - 1\n2 A - - T 2\n3 O M - M 3\n4 - - - X 4\n+ 1 2 3 4 +\naction: moveRight\n\n<STEP23>\nstate: (('A', (2, 2)), ('T', (2, 4)), ('M', ((1, 2), (3, 2), (3, 4))), ('O', ((3, 1),)))\nheuristic estimation: 2\n+ 1 2 3 4 +\n1 - M - - 1\n2 - A - T 2\n3 O M - M 3\n4 - - - X 4\n+ 1 2 3 4 +\naction: moveRight\n\n<STEP24>\nstate: (('A', (2, 3)), ('T', (2, 4)), ('M', ((1, 2), (3, 2), (3, 4))), ('O', ((3, 1),)))\nheuristic estimation: 2\n+ 1 2 3 4 +\n1 - M - - 1\n2 - - A T 2\n3 O M - M 3\n4 - - - X 4\n+ 1 2 3 4 +\naction: moveUp\n\n<STEP25>\nstate: (('A', (1, 3)), ('T', (2, 4)), ('M', ((1, 2), (3, 2), (3, 4))), ('O', ((3, 1),)))\nheuristic estimation: 2\n+ 1 2 3 4 +\n1 - M A - 1\n2 - - - T 2\n3 O M - M 3\n4 - - - X 4\n+ 1 2 3 4 +\naction: pushLeft\n\n<STEP26>\nstate: (('A', (1, 2)), ('T', (2, 4)), ('M', ((1, 1), (3, 2), (3, 4))), ('O', ((3, 1),)))\nheuristic estimation: 2\n+ 1 2 3 4 +\n1 M A - - 1\n2 - - - T 2\n3 O M - M 3\n4 - - - X 4\n+ 1 2 3 4 +\naction: moveDown\n\n<STEP27>\nstate: (('A', (2, 2)), ('T', (2, 4)), ('M', ((1, 1), (3, 2), (3, 4))), ('O', ((3, 1),)))\nheuristic estimation: 2\n+ 1 2 3 4 +\n1 M - - - 1\n2 - A - T 2\n3 O M - M 3\n4 - - - X 4\n+ 1 2 3 4 +\naction: pullUp\n\n<STEP28>\nstate: (('A', (1, 2)), ('T', (2, 4)), ('M', ((1, 1), (2, 2), (3, 4))), ('O', ((3, 1),)))\nheuristic estimation: 2\n+ 1 2 3 4 +\n1 M A - - 1\n2 - M - T 2\n3 O - - M 3\n4 - - - X 4\n+ 1 2 3 4 +\naction: moveRight\n\n<STEP29>\nstate: (('A', (1, 3)), ('T', (2, 4)), ('M', ((1, 1), (2, 2), (3, 4))), ('O', ((3, 1),)))\nheuristic estimation: 2\n+ 1 2 3 4 +\n1 M - A - 1\n2 - M - T 2\n3 O - - M 3\n4 - - - X 4\n+ 1 2 3 4 +\naction: moveDown\n\n<STEP30>\nstate: (('A', (2, 3)), ('T', (2, 4)), ('M', ((1, 1), (2, 2), (3, 4))), ('O', ((3, 1),)))\nheuristic estimation: 2\n+ 1 2 3 4 +\n1 M - - - 1\n2 - M A T 2\n3 O - - M 3\n4 - - - X 4\n+ 1 2 3 4 +\naction: pushLeft\n\n<STEP31>\nstate: (('A', (2, 2)), ('T', (2, 4)), ('M', ((1, 1), (2, 1), (3, 4))), ('O', ((3, 1),)))\nheuristic estimation: 2\n+ 1 2 3 4 +\n1 M - - - 1\n2 M A - T 2\n3 O - - M 3\n4 - - - X 4\n+ 1 2 3 4 +\naction: moveRight\n\n<STEP32>\nstate: (('A', (2, 3)), ('T', (2, 4)), ('M', ((1, 1), (2, 1), (3, 4))), ('O', ((3, 1),)))\nheuristic estimation: 2\n+ 1 2 3 4 +\n1 M - - - 1\n2 M - A T 2\n3 O - - M 3\n4 - - - X 4\n+ 1 2 3 4 +\naction: moveDown\n\n<STEP33>\nstate: (('A', (3, 3)), ('T', (2, 4)), ('M', ((1, 1), (2, 1), (3, 4))), ('O', ((3, 1),)))\nheuristic estimation: 2\n+ 1 2 3 4 +\n1 M - - - 1\n2 M - - T 2\n3 O - A M 3\n4 - - - X 4\n+ 1 2 3 4 +\naction: pullLeft\n\n<STEP34>\nstate: (('A', (3, 2)), ('T', (2, 4)), ('M', ((1, 1), (2, 1), (3, 3))), ('O', ((3, 1),)))\nheuristic estimation: 2\n+ 1 2 3 4 +\n1 M - - - 1\n2 M - - T 2\n3 O A M - 3\n4 - - - X 4\n+ 1 2 3 4 +\naction: moveUp\n\n<STEP35>\nstate: (('A', (2, 2)), ('T', (2, 4)), ('M', ((1, 1), (2, 1), (3, 3))), ('O', ((3, 1),)))\nheuristic estimation: 2\n+ 1 2 3 4 +\n1 M - - - 1\n2 M A - T 2\n3 O - M - 3\n4 - - - X 4\n+ 1 2 3 4 +\naction: moveUp\n\n<STEP36>\nstate: (('A', (1, 2)), ('T', (2, 4)), ('M', ((1, 1), (2, 1), (3, 3))), ('O', ((3, 1),)))\nheuristic estimation: 2\n+ 1 2 3 4 +\n1 M A - - 1\n2 M - - T 2\n3 O - M - 3\n4 - - - X 4\n+ 1 2 3 4 +\naction: moveRight\n\n<STEP37>\nstate: (('A', (1, 3)), ('T', (2, 4)), ('M', ((1, 1), (2, 1), (3, 3))), ('O', ((3, 1),)))\nheuristic estimation: 2\n+ 1 2 3 4 +\n1 M - A - 1\n2 M - - T 2\n3 O - M - 3\n4 - - - X 4\n+ 1 2 3 4 +\naction: moveRight\n\n<STEP38>\nstate: (('A', (1, 4)), ('T', (2, 4)), ('M', ((1, 1), (2, 1), (3, 3))), ('O', ((3, 1),)))\nheuristic estimation: 2\n+ 1 2 3 4 +\n1 M - - A 1\n2 M - - T 2\n3 O - M - 3\n4 - - - X 4\n+ 1 2 3 4 +\naction: pushDown\n\n<STEP39>\nstate: (('A', (2, 4)), ('T', (3, 4)), ('M', ((1, 1), (2, 1), (3, 3))), ('O', ((3, 1),)))\nheuristic estimation: 1\n+ 1 2 3 4 +\n1 M - - - 1\n2 M - - A 2\n3 O - M T 3\n4 - - - X 4\n+ 1 2 3 4 +\naction: pushDown\n\n<STEP40>\nstate: (('A', (3, 4)), ('T', (4, 4)), ('M', ((1, 1), (2, 1), (3, 3))), ('O', ((3, 1),)))\nheuristic estimation: 0\n+ 1 2 3 4 +\n1 M - - - 1\n2 M - - - 2\n3 O - M A 3\n4 - - - T 4\n+ 1 2 3 4 +\n",
          "name": "stdout"
        }
      ]
    },
    {
      "metadata": {
        "trusted": true
      },
      "cell_type": "code",
      "source": "start = time.time()\nboard2_greedy_doubleManhattan = mike2(board2, greedy_best_first_graph_search, doubleManhattanHeuristic)\nend = time.time()\nprint(\"Time to compute: \" + str(end - start) + \" seconds\")",
      "execution_count": 70,
      "outputs": [
        {
          "output_type": "stream",
          "text": "Time to compute: 0.27960777282714844 seconds\n",
          "name": "stdout"
        }
      ]
    },
    {
      "metadata": {
        "trusted": true
      },
      "cell_type": "code",
      "source": "printStepsStatesMatrix(board2_greedy_doubleManhattan)",
      "execution_count": 71,
      "outputs": [
        {
          "output_type": "stream",
          "text": "<STEP0>\nstate: (('A', (4, 1)), ('T', (2, 3)), ('M', ((3, 2), (3, 3), (3, 4))), ('O', ((3, 1),)))\nheuristic estimation: 6\n+ 1 2 3 4 +\n1 - - - - 1\n2 - - T - 2\n3 O M M M 3\n4 A - - X 4\n+ 1 2 3 4 +\naction: moveRight\n\n<STEP1>\nstate: (('A', (4, 2)), ('T', (2, 3)), ('M', ((3, 2), (3, 3), (3, 4))), ('O', ((3, 1),)))\nheuristic estimation: 5\n+ 1 2 3 4 +\n1 - - - - 1\n2 - - T - 2\n3 O M M M 3\n4 - A - X 4\n+ 1 2 3 4 +\naction: pushUp\n\n<STEP2>\nstate: (('A', (3, 2)), ('T', (2, 3)), ('M', ((2, 2), (3, 3), (3, 4))), ('O', ((3, 1),)))\nheuristic estimation: 4\n+ 1 2 3 4 +\n1 - - - - 1\n2 - M T - 2\n3 O A M M 3\n4 - - - X 4\n+ 1 2 3 4 +\naction: pushUp\n\n<STEP3>\nstate: (('A', (2, 2)), ('T', (2, 3)), ('M', ((1, 2), (3, 3), (3, 4))), ('O', ((3, 1),)))\nheuristic estimation: 3\n+ 1 2 3 4 +\n1 - M - - 1\n2 - A T - 2\n3 O - M M 3\n4 - - - X 4\n+ 1 2 3 4 +\naction: pushRight\n\n<STEP4>\nstate: (('A', (2, 3)), ('T', (2, 4)), ('M', ((1, 2), (3, 3), (3, 4))), ('O', ((3, 1),)))\nheuristic estimation: 2\n+ 1 2 3 4 +\n1 - M - - 1\n2 - - A T 2\n3 O - M M 3\n4 - - - X 4\n+ 1 2 3 4 +\naction: pullUp\n\n<STEP5>\nstate: (('A', (1, 3)), ('T', (2, 4)), ('M', ((1, 2), (2, 3), (3, 4))), ('O', ((3, 1),)))\nheuristic estimation: 3\n+ 1 2 3 4 +\n1 - M A - 1\n2 - - M T 2\n3 O - - M 3\n4 - - - X 4\n+ 1 2 3 4 +\naction: pushLeft\n\n<STEP6>\nstate: (('A', (1, 2)), ('T', (2, 4)), ('M', ((1, 1), (2, 3), (3, 4))), ('O', ((3, 1),)))\nheuristic estimation: 4\n+ 1 2 3 4 +\n1 M A - - 1\n2 - - M T 2\n3 O - - M 3\n4 - - - X 4\n+ 1 2 3 4 +\naction: moveRight\n\n<STEP7>\nstate: (('A', (1, 3)), ('T', (2, 4)), ('M', ((1, 1), (2, 3), (3, 4))), ('O', ((3, 1),)))\nheuristic estimation: 3\n+ 1 2 3 4 +\n1 M - A - 1\n2 - - M T 2\n3 O - - M 3\n4 - - - X 4\n+ 1 2 3 4 +\naction: pushDown\n\n<STEP8>\nstate: (('A', (2, 3)), ('T', (2, 4)), ('M', ((1, 1), (3, 3), (3, 4))), ('O', ((3, 1),)))\nheuristic estimation: 2\n+ 1 2 3 4 +\n1 M - - - 1\n2 - - A T 2\n3 O - M M 3\n4 - - - X 4\n+ 1 2 3 4 +\naction: pushDown\n\n<STEP9>\nstate: (('A', (3, 3)), ('T', (2, 4)), ('M', ((1, 1), (4, 3), (3, 4))), ('O', ((3, 1),)))\nheuristic estimation: 3\n+ 1 2 3 4 +\n1 M - - - 1\n2 - - - T 2\n3 O - A M 3\n4 - - M X 4\n+ 1 2 3 4 +\naction: moveUp\n\n<STEP10>\nstate: (('A', (2, 3)), ('T', (2, 4)), ('M', ((1, 1), (4, 3), (3, 4))), ('O', ((3, 1),)))\nheuristic estimation: 2\n+ 1 2 3 4 +\n1 M - - - 1\n2 - - A T 2\n3 O - - M 3\n4 - - M X 4\n+ 1 2 3 4 +\naction: pullLeft\n\n<STEP11>\nstate: (('A', (2, 2)), ('T', (2, 3)), ('M', ((1, 1), (4, 3), (3, 4))), ('O', ((3, 1),)))\nheuristic estimation: 3\n+ 1 2 3 4 +\n1 M - - - 1\n2 - A T - 2\n3 O - - M 3\n4 - - M X 4\n+ 1 2 3 4 +\naction: moveUp\n\n<STEP12>\nstate: (('A', (1, 2)), ('T', (2, 3)), ('M', ((1, 1), (4, 3), (3, 4))), ('O', ((3, 1),)))\nheuristic estimation: 4\n+ 1 2 3 4 +\n1 M A - - 1\n2 - - T - 2\n3 O - - M 3\n4 - - M X 4\n+ 1 2 3 4 +\naction: moveRight\n\n<STEP13>\nstate: (('A', (1, 3)), ('T', (2, 3)), ('M', ((1, 1), (4, 3), (3, 4))), ('O', ((3, 1),)))\nheuristic estimation: 3\n+ 1 2 3 4 +\n1 M - A - 1\n2 - - T - 2\n3 O - - M 3\n4 - - M X 4\n+ 1 2 3 4 +\naction: pushDown\n\n<STEP14>\nstate: (('A', (2, 3)), ('T', (3, 3)), ('M', ((1, 1), (4, 3), (3, 4))), ('O', ((3, 1),)))\nheuristic estimation: 2\n+ 1 2 3 4 +\n1 M - - - 1\n2 - - A - 2\n3 O - T M 3\n4 - - M X 4\n+ 1 2 3 4 +\naction: moveRight\n\n<STEP15>\nstate: (('A', (2, 4)), ('T', (3, 3)), ('M', ((1, 1), (4, 3), (3, 4))), ('O', ((3, 1),)))\nheuristic estimation: 3\n+ 1 2 3 4 +\n1 M - - - 1\n2 - - - A 2\n3 O - T M 3\n4 - - M X 4\n+ 1 2 3 4 +\naction: pushDown\n\n<STEP16>\nstate: (('A', (3, 4)), ('T', (3, 3)), ('M', ((1, 1), (4, 3), (4, 4))), ('O', ((3, 1),)))\nheuristic estimation: 2\n+ 1 2 3 4 +\n1 M - - - 1\n2 - - - - 2\n3 O - T A 3\n4 - - M M 4\n+ 1 2 3 4 +\naction: moveUp\n\n<STEP17>\nstate: (('A', (2, 4)), ('T', (3, 3)), ('M', ((1, 1), (4, 3), (4, 4))), ('O', ((3, 1),)))\nheuristic estimation: 3\n+ 1 2 3 4 +\n1 M - - - 1\n2 - - - A 2\n3 O - T - 3\n4 - - M M 4\n+ 1 2 3 4 +\naction: moveLeft\n\n<STEP18>\nstate: (('A', (2, 3)), ('T', (3, 3)), ('M', ((1, 1), (4, 3), (4, 4))), ('O', ((3, 1),)))\nheuristic estimation: 2\n+ 1 2 3 4 +\n1 M - - - 1\n2 - - A - 2\n3 O - T - 3\n4 - - M M 4\n+ 1 2 3 4 +\naction: moveLeft\n\n<STEP19>\nstate: (('A', (2, 2)), ('T', (3, 3)), ('M', ((1, 1), (4, 3), (4, 4))), ('O', ((3, 1),)))\nheuristic estimation: 3\n+ 1 2 3 4 +\n1 M - - - 1\n2 - A - - 2\n3 O - T - 3\n4 - - M M 4\n+ 1 2 3 4 +\naction: moveDown\n\n<STEP20>\nstate: (('A', (3, 2)), ('T', (3, 3)), ('M', ((1, 1), (4, 3), (4, 4))), ('O', ((3, 1),)))\nheuristic estimation: 2\n+ 1 2 3 4 +\n1 M - - - 1\n2 - - - - 2\n3 O A T - 3\n4 - - M M 4\n+ 1 2 3 4 +\naction: pushRight\n\n<STEP21>\nstate: (('A', (3, 3)), ('T', (3, 4)), ('M', ((1, 1), (4, 3), (4, 4))), ('O', ((3, 1),)))\nheuristic estimation: 1\n+ 1 2 3 4 +\n1 M - - - 1\n2 - - - - 2\n3 O - A T 3\n4 - - M M 4\n+ 1 2 3 4 +\naction: pullUp\n\n<STEP22>\nstate: (('A', (2, 3)), ('T', (3, 4)), ('M', ((1, 1), (3, 3), (4, 4))), ('O', ((3, 1),)))\nheuristic estimation: 2\n+ 1 2 3 4 +\n1 M - - - 1\n2 - - A - 2\n3 O - M T 3\n4 - - - M 4\n+ 1 2 3 4 +\naction: moveRight\n\n<STEP23>\nstate: (('A', (2, 4)), ('T', (3, 4)), ('M', ((1, 1), (3, 3), (4, 4))), ('O', ((3, 1),)))\nheuristic estimation: 1\n+ 1 2 3 4 +\n1 M - - - 1\n2 - - - A 2\n3 O - M T 3\n4 - - - M 4\n+ 1 2 3 4 +\naction: pullUp\n\n<STEP24>\nstate: (('A', (1, 4)), ('T', (2, 4)), ('M', ((1, 1), (3, 3), (4, 4))), ('O', ((3, 1),)))\nheuristic estimation: 2\n+ 1 2 3 4 +\n1 M - - A 1\n2 - - - T 2\n3 O - M - 3\n4 - - - M 4\n+ 1 2 3 4 +\naction: moveLeft\n\n<STEP25>\nstate: (('A', (1, 3)), ('T', (2, 4)), ('M', ((1, 1), (3, 3), (4, 4))), ('O', ((3, 1),)))\nheuristic estimation: 3\n+ 1 2 3 4 +\n1 M - A - 1\n2 - - - T 2\n3 O - M - 3\n4 - - - M 4\n+ 1 2 3 4 +\naction: moveDown\n\n<STEP26>\nstate: (('A', (2, 3)), ('T', (2, 4)), ('M', ((1, 1), (3, 3), (4, 4))), ('O', ((3, 1),)))\nheuristic estimation: 2\n+ 1 2 3 4 +\n1 M - - - 1\n2 - - A T 2\n3 O - M - 3\n4 - - - M 4\n+ 1 2 3 4 +\naction: pullUp\n\n<STEP27>\nstate: (('A', (1, 3)), ('T', (2, 4)), ('M', ((1, 1), (2, 3), (4, 4))), ('O', ((3, 1),)))\nheuristic estimation: 3\n+ 1 2 3 4 +\n1 M - A - 1\n2 - - M T 2\n3 O - - - 3\n4 - - - M 4\n+ 1 2 3 4 +\naction: moveRight\n\n<STEP28>\nstate: (('A', (1, 4)), ('T', (2, 4)), ('M', ((1, 1), (2, 3), (4, 4))), ('O', ((3, 1),)))\nheuristic estimation: 2\n+ 1 2 3 4 +\n1 M - - A 1\n2 - - M T 2\n3 O - - - 3\n4 - - - M 4\n+ 1 2 3 4 +\naction: pushDown\n\n<STEP29>\nstate: (('A', (2, 4)), ('T', (3, 4)), ('M', ((1, 1), (2, 3), (4, 4))), ('O', ((3, 1),)))\nheuristic estimation: 1\n+ 1 2 3 4 +\n1 M - - - 1\n2 - - M A 2\n3 O - - T 3\n4 - - - M 4\n+ 1 2 3 4 +\naction: pushLeft\n\n<STEP30>\nstate: (('A', (2, 3)), ('T', (3, 4)), ('M', ((1, 1), (2, 2), (4, 4))), ('O', ((3, 1),)))\nheuristic estimation: 2\n+ 1 2 3 4 +\n1 M - - - 1\n2 - M A - 2\n3 O - - T 3\n4 - - - M 4\n+ 1 2 3 4 +\naction: moveDown\n\n<STEP31>\nstate: (('A', (3, 3)), ('T', (3, 4)), ('M', ((1, 1), (2, 2), (4, 4))), ('O', ((3, 1),)))\nheuristic estimation: 1\n+ 1 2 3 4 +\n1 M - - - 1\n2 - M - - 2\n3 O - A T 3\n4 - - - M 4\n+ 1 2 3 4 +\naction: pullLeft\n\n<STEP32>\nstate: (('A', (3, 2)), ('T', (3, 3)), ('M', ((1, 1), (2, 2), (4, 4))), ('O', ((3, 1),)))\nheuristic estimation: 2\n+ 1 2 3 4 +\n1 M - - - 1\n2 - M - - 2\n3 O A T - 3\n4 - - - M 4\n+ 1 2 3 4 +\naction: pushUp\n\n<STEP33>\nstate: (('A', (2, 2)), ('T', (3, 3)), ('M', ((1, 1), (1, 2), (4, 4))), ('O', ((3, 1),)))\nheuristic estimation: 3\n+ 1 2 3 4 +\n1 M M - - 1\n2 - A - - 2\n3 O - T - 3\n4 - - - M 4\n+ 1 2 3 4 +\naction: moveRight\n\n<STEP34>\nstate: (('A', (2, 3)), ('T', (3, 3)), ('M', ((1, 1), (1, 2), (4, 4))), ('O', ((3, 1),)))\nheuristic estimation: 2\n+ 1 2 3 4 +\n1 M M - - 1\n2 - - A - 2\n3 O - T - 3\n4 - - - M 4\n+ 1 2 3 4 +\naction: moveRight\n\n<STEP35>\nstate: (('A', (2, 4)), ('T', (3, 3)), ('M', ((1, 1), (1, 2), (4, 4))), ('O', ((3, 1),)))\nheuristic estimation: 3\n+ 1 2 3 4 +\n1 M M - - 1\n2 - - - A 2\n3 O - T - 3\n4 - - - M 4\n+ 1 2 3 4 +\naction: moveDown\n\n<STEP36>\nstate: (('A', (3, 4)), ('T', (3, 3)), ('M', ((1, 1), (1, 2), (4, 4))), ('O', ((3, 1),)))\nheuristic estimation: 2\n+ 1 2 3 4 +\n1 M M - - 1\n2 - - - - 2\n3 O - T A 3\n4 - - - M 4\n+ 1 2 3 4 +\naction: pullUp\n\n<STEP37>\nstate: (('A', (2, 4)), ('T', (3, 3)), ('M', ((1, 1), (1, 2), (3, 4))), ('O', ((3, 1),)))\nheuristic estimation: 3\n+ 1 2 3 4 +\n1 M M - - 1\n2 - - - A 2\n3 O - T M 3\n4 - - - X 4\n+ 1 2 3 4 +\naction: moveLeft\n\n<STEP38>\nstate: (('A', (2, 3)), ('T', (3, 3)), ('M', ((1, 1), (1, 2), (3, 4))), ('O', ((3, 1),)))\nheuristic estimation: 2\n+ 1 2 3 4 +\n1 M M - - 1\n2 - - A - 2\n3 O - T M 3\n4 - - - X 4\n+ 1 2 3 4 +\naction: pushDown\n\n<STEP39>\nstate: (('A', (3, 3)), ('T', (4, 3)), ('M', ((1, 1), (1, 2), (3, 4))), ('O', ((3, 1),)))\nheuristic estimation: 1\n+ 1 2 3 4 +\n1 M M - - 1\n2 - - - - 2\n3 O - A M 3\n4 - - T X 4\n+ 1 2 3 4 +\naction: pullLeft\n\n<STEP40>\nstate: (('A', (3, 2)), ('T', (4, 3)), ('M', ((1, 1), (1, 2), (3, 3))), ('O', ((3, 1),)))\nheuristic estimation: 2\n+ 1 2 3 4 +\n1 M M - - 1\n2 - - - - 2\n3 O A M - 3\n4 - - T X 4\n+ 1 2 3 4 +\naction: moveDown\n\n<STEP41>\nstate: (('A', (4, 2)), ('T', (4, 3)), ('M', ((1, 1), (1, 2), (3, 3))), ('O', ((3, 1),)))\nheuristic estimation: 1\n+ 1 2 3 4 +\n1 M M - - 1\n2 - - - - 2\n3 O - M - 3\n4 - A T X 4\n+ 1 2 3 4 +\naction: pushRight\n\n<STEP42>\nstate: (('A', (4, 3)), ('T', (4, 4)), ('M', ((1, 1), (1, 2), (3, 3))), ('O', ((3, 1),)))\nheuristic estimation: 0\n+ 1 2 3 4 +\n1 M M - - 1\n2 - - - - 2\n3 O - M - 3\n4 - - A T 4\n+ 1 2 3 4 +\n",
          "name": "stdout"
        }
      ]
    },
    {
      "metadata": {
        "trusted": true
      },
      "cell_type": "code",
      "source": "board3 = Board()\nmike3 = PSA()\nt3 = Tpiece()\nm1_3 = Mobs()\no1_3 = Oobs()\no2_3 = Oobs()\n\nboard3.add_thing(mike3, (4, 4))\nboard3.add_thing(t3, (2, 3))\nboard3.add_thing(m1_3, (3, 3))\nboard3.add_thing(o1_3, (3, 2))\nboard3.add_thing(o2_3, (3, 1))",
      "execution_count": 73,
      "outputs": []
    },
    {
      "metadata": {
        "trusted": true
      },
      "cell_type": "code",
      "source": "start = time.time()\nboard3_uninformedIDS_test = mike3(board3, iterative_deepening_search)\nend = time.time()\nprint(\"Time to compute: \" + str(end - start) + \" seconds\")",
      "execution_count": 31,
      "outputs": [
        {
          "output_type": "stream",
          "text": "Time to compute: 1.4187755584716797 seconds\n",
          "name": "stdout"
        }
      ]
    },
    {
      "metadata": {
        "trusted": true
      },
      "cell_type": "code",
      "source": "printStepsStatesMatrix(board3_uninformedIDS_test)",
      "execution_count": 25,
      "outputs": [
        {
          "output_type": "stream",
          "text": "<STEP0>\nstate: (('A', (4, 4)), ('T', (2, 3)), ('M', ((3, 3),)), ('O', ((3, 2), (3, 1))))\n+ 1 2 3 4 +\n1 - - - - 1\n2 - - T - 2\n3 O O M - 3\n4 - - - A 4\n+ 1 2 3 4 +\naction: moveUp\n\n<STEP1>\nstate: (('A', (3, 4)), ('T', (2, 3)), ('M', ((3, 3),)), ('O', ((3, 2), (3, 1))))\n+ 1 2 3 4 +\n1 - - - - 1\n2 - - T - 2\n3 O O M A 3\n4 - - - X 4\n+ 1 2 3 4 +\naction: moveUp\n\n<STEP2>\nstate: (('A', (2, 4)), ('T', (2, 3)), ('M', ((3, 3),)), ('O', ((3, 2), (3, 1))))\n+ 1 2 3 4 +\n1 - - - - 1\n2 - - T A 2\n3 O O M - 3\n4 - - - X 4\n+ 1 2 3 4 +\naction: moveUp\n\n<STEP3>\nstate: (('A', (1, 4)), ('T', (2, 3)), ('M', ((3, 3),)), ('O', ((3, 2), (3, 1))))\n+ 1 2 3 4 +\n1 - - - A 1\n2 - - T - 2\n3 O O M - 3\n4 - - - X 4\n+ 1 2 3 4 +\naction: moveLeft\n\n<STEP4>\nstate: (('A', (1, 3)), ('T', (2, 3)), ('M', ((3, 3),)), ('O', ((3, 2), (3, 1))))\n+ 1 2 3 4 +\n1 - - A - 1\n2 - - T - 2\n3 O O M - 3\n4 - - - X 4\n+ 1 2 3 4 +\naction: moveLeft\n\n<STEP5>\nstate: (('A', (1, 2)), ('T', (2, 3)), ('M', ((3, 3),)), ('O', ((3, 2), (3, 1))))\n+ 1 2 3 4 +\n1 - A - - 1\n2 - - T - 2\n3 O O M - 3\n4 - - - X 4\n+ 1 2 3 4 +\naction: moveDown\n\n<STEP6>\nstate: (('A', (2, 2)), ('T', (2, 3)), ('M', ((3, 3),)), ('O', ((3, 2), (3, 1))))\n+ 1 2 3 4 +\n1 - - - - 1\n2 - A T - 2\n3 O O M - 3\n4 - - - X 4\n+ 1 2 3 4 +\naction: pushRight\n\n<STEP7>\nstate: (('A', (2, 3)), ('T', (2, 4)), ('M', ((3, 3),)), ('O', ((3, 2), (3, 1))))\n+ 1 2 3 4 +\n1 - - - - 1\n2 - - A T 2\n3 O O M - 3\n4 - - - X 4\n+ 1 2 3 4 +\naction: moveUp\n\n<STEP8>\nstate: (('A', (1, 3)), ('T', (2, 4)), ('M', ((3, 3),)), ('O', ((3, 2), (3, 1))))\n+ 1 2 3 4 +\n1 - - A - 1\n2 - - - T 2\n3 O O M - 3\n4 - - - X 4\n+ 1 2 3 4 +\naction: moveRight\n\n<STEP9>\nstate: (('A', (1, 4)), ('T', (2, 4)), ('M', ((3, 3),)), ('O', ((3, 2), (3, 1))))\n+ 1 2 3 4 +\n1 - - - A 1\n2 - - - T 2\n3 O O M - 3\n4 - - - X 4\n+ 1 2 3 4 +\naction: pushDown\n\n<STEP10>\nstate: (('A', (2, 4)), ('T', (3, 4)), ('M', ((3, 3),)), ('O', ((3, 2), (3, 1))))\n+ 1 2 3 4 +\n1 - - - - 1\n2 - - - A 2\n3 O O M T 3\n4 - - - X 4\n+ 1 2 3 4 +\naction: pushDown\n\n<STEP11>\nstate: (('A', (3, 4)), ('T', (4, 4)), ('M', ((3, 3),)), ('O', ((3, 2), (3, 1))))\n+ 1 2 3 4 +\n1 - - - - 1\n2 - - - - 2\n3 O O M A 3\n4 - - - T 4\n+ 1 2 3 4 +\n",
          "name": "stdout"
        }
      ]
    },
    {
      "metadata": {
        "trusted": true
      },
      "cell_type": "code",
      "source": "start = time.time()\nboard3_greedy_simpleManhattan = mike3(board3, greedy_best_first_graph_search, simpleManhattanHeuristic)\nend = time.time()\nprint(\"Time to compute: \" + str(end - start) + \" seconds\")",
      "execution_count": 74,
      "outputs": [
        {
          "output_type": "stream",
          "text": "Time to compute: 0.009123563766479492 seconds\n",
          "name": "stdout"
        }
      ]
    },
    {
      "metadata": {
        "trusted": true
      },
      "cell_type": "code",
      "source": "printStepsStatesMatrix(board3_greedy_simpleManhattan)",
      "execution_count": 75,
      "outputs": [
        {
          "output_type": "stream",
          "text": "<STEP0>\nstate: (('A', (4, 4)), ('T', (2, 3)), ('M', ((3, 3),)), ('O', ((3, 2), (3, 1))))\nheuristic estimation: 3\n+ 1 2 3 4 +\n1 - - - - 1\n2 - - T - 2\n3 O O M - 3\n4 - - - A 4\n+ 1 2 3 4 +\naction: moveUp\n\n<STEP1>\nstate: (('A', (3, 4)), ('T', (2, 3)), ('M', ((3, 3),)), ('O', ((3, 2), (3, 1))))\nheuristic estimation: 3\n+ 1 2 3 4 +\n1 - - - - 1\n2 - - T - 2\n3 O O M A 3\n4 - - - X 4\n+ 1 2 3 4 +\naction: moveUp\n\n<STEP2>\nstate: (('A', (2, 4)), ('T', (2, 3)), ('M', ((3, 3),)), ('O', ((3, 2), (3, 1))))\nheuristic estimation: 3\n+ 1 2 3 4 +\n1 - - - - 1\n2 - - T A 2\n3 O O M - 3\n4 - - - X 4\n+ 1 2 3 4 +\naction: moveUp\n\n<STEP3>\nstate: (('A', (1, 4)), ('T', (2, 3)), ('M', ((3, 3),)), ('O', ((3, 2), (3, 1))))\nheuristic estimation: 3\n+ 1 2 3 4 +\n1 - - - A 1\n2 - - T - 2\n3 O O M - 3\n4 - - - X 4\n+ 1 2 3 4 +\naction: moveLeft\n\n<STEP4>\nstate: (('A', (1, 3)), ('T', (2, 3)), ('M', ((3, 3),)), ('O', ((3, 2), (3, 1))))\nheuristic estimation: 3\n+ 1 2 3 4 +\n1 - - A - 1\n2 - - T - 2\n3 O O M - 3\n4 - - - X 4\n+ 1 2 3 4 +\naction: moveLeft\n\n<STEP5>\nstate: (('A', (1, 2)), ('T', (2, 3)), ('M', ((3, 3),)), ('O', ((3, 2), (3, 1))))\nheuristic estimation: 3\n+ 1 2 3 4 +\n1 - A - - 1\n2 - - T - 2\n3 O O M - 3\n4 - - - X 4\n+ 1 2 3 4 +\naction: moveDown\n\n<STEP6>\nstate: (('A', (2, 2)), ('T', (2, 3)), ('M', ((3, 3),)), ('O', ((3, 2), (3, 1))))\nheuristic estimation: 3\n+ 1 2 3 4 +\n1 - - - - 1\n2 - A T - 2\n3 O O M - 3\n4 - - - X 4\n+ 1 2 3 4 +\naction: pushRight\n\n<STEP7>\nstate: (('A', (2, 3)), ('T', (2, 4)), ('M', ((3, 3),)), ('O', ((3, 2), (3, 1))))\nheuristic estimation: 2\n+ 1 2 3 4 +\n1 - - - - 1\n2 - - A T 2\n3 O O M - 3\n4 - - - X 4\n+ 1 2 3 4 +\naction: pullUp\n\n<STEP8>\nstate: (('A', (1, 3)), ('T', (2, 4)), ('M', ((2, 3),)), ('O', ((3, 2), (3, 1))))\nheuristic estimation: 2\n+ 1 2 3 4 +\n1 - - A - 1\n2 - - M T 2\n3 O O - - 3\n4 - - - X 4\n+ 1 2 3 4 +\naction: moveRight\n\n<STEP9>\nstate: (('A', (1, 4)), ('T', (2, 4)), ('M', ((2, 3),)), ('O', ((3, 2), (3, 1))))\nheuristic estimation: 2\n+ 1 2 3 4 +\n1 - - - A 1\n2 - - M T 2\n3 O O - - 3\n4 - - - X 4\n+ 1 2 3 4 +\naction: pushDown\n\n<STEP10>\nstate: (('A', (2, 4)), ('T', (3, 4)), ('M', ((2, 3),)), ('O', ((3, 2), (3, 1))))\nheuristic estimation: 1\n+ 1 2 3 4 +\n1 - - - - 1\n2 - - M A 2\n3 O O - T 3\n4 - - - X 4\n+ 1 2 3 4 +\naction: pushDown\n\n<STEP11>\nstate: (('A', (3, 4)), ('T', (4, 4)), ('M', ((2, 3),)), ('O', ((3, 2), (3, 1))))\nheuristic estimation: 0\n+ 1 2 3 4 +\n1 - - - - 1\n2 - - M - 2\n3 O O - A 3\n4 - - - T 4\n+ 1 2 3 4 +\n",
          "name": "stdout"
        }
      ]
    },
    {
      "metadata": {
        "trusted": true
      },
      "cell_type": "code",
      "source": "start = time.time()\nboard3_greedy_doubleManhattan = mike3(board3, greedy_best_first_graph_search, doubleManhattanHeuristic)\nend = time.time()\nprint(\"Time to compute: \" + str(end - start) + \" seconds\")",
      "execution_count": 76,
      "outputs": [
        {
          "output_type": "stream",
          "text": "Time to compute: 0.009325027465820312 seconds\n",
          "name": "stdout"
        }
      ]
    },
    {
      "metadata": {
        "trusted": true
      },
      "cell_type": "code",
      "source": "printStepsStatesMatrix(board3_greedy_doubleManhattan)",
      "execution_count": 77,
      "outputs": [
        {
          "output_type": "stream",
          "text": "<STEP0>\nstate: (('A', (4, 4)), ('T', (2, 3)), ('M', ((3, 3),)), ('O', ((3, 2), (3, 1))))\nheuristic estimation: 5\n+ 1 2 3 4 +\n1 - - - - 1\n2 - - T - 2\n3 O O M - 3\n4 - - - A 4\n+ 1 2 3 4 +\naction: moveUp\n\n<STEP1>\nstate: (('A', (3, 4)), ('T', (2, 3)), ('M', ((3, 3),)), ('O', ((3, 2), (3, 1))))\nheuristic estimation: 4\n+ 1 2 3 4 +\n1 - - - - 1\n2 - - T - 2\n3 O O M A 3\n4 - - - X 4\n+ 1 2 3 4 +\naction: moveUp\n\n<STEP2>\nstate: (('A', (2, 4)), ('T', (2, 3)), ('M', ((3, 3),)), ('O', ((3, 2), (3, 1))))\nheuristic estimation: 3\n+ 1 2 3 4 +\n1 - - - - 1\n2 - - T A 2\n3 O O M - 3\n4 - - - X 4\n+ 1 2 3 4 +\naction: moveUp\n\n<STEP3>\nstate: (('A', (1, 4)), ('T', (2, 3)), ('M', ((3, 3),)), ('O', ((3, 2), (3, 1))))\nheuristic estimation: 4\n+ 1 2 3 4 +\n1 - - - A 1\n2 - - T - 2\n3 O O M - 3\n4 - - - X 4\n+ 1 2 3 4 +\naction: moveLeft\n\n<STEP4>\nstate: (('A', (1, 3)), ('T', (2, 3)), ('M', ((3, 3),)), ('O', ((3, 2), (3, 1))))\nheuristic estimation: 3\n+ 1 2 3 4 +\n1 - - A - 1\n2 - - T - 2\n3 O O M - 3\n4 - - - X 4\n+ 1 2 3 4 +\naction: moveLeft\n\n<STEP5>\nstate: (('A', (1, 2)), ('T', (2, 3)), ('M', ((3, 3),)), ('O', ((3, 2), (3, 1))))\nheuristic estimation: 4\n+ 1 2 3 4 +\n1 - A - - 1\n2 - - T - 2\n3 O O M - 3\n4 - - - X 4\n+ 1 2 3 4 +\naction: moveDown\n\n<STEP6>\nstate: (('A', (2, 2)), ('T', (2, 3)), ('M', ((3, 3),)), ('O', ((3, 2), (3, 1))))\nheuristic estimation: 3\n+ 1 2 3 4 +\n1 - - - - 1\n2 - A T - 2\n3 O O M - 3\n4 - - - X 4\n+ 1 2 3 4 +\naction: pushRight\n\n<STEP7>\nstate: (('A', (2, 3)), ('T', (2, 4)), ('M', ((3, 3),)), ('O', ((3, 2), (3, 1))))\nheuristic estimation: 2\n+ 1 2 3 4 +\n1 - - - - 1\n2 - - A T 2\n3 O O M - 3\n4 - - - X 4\n+ 1 2 3 4 +\naction: pullUp\n\n<STEP8>\nstate: (('A', (1, 3)), ('T', (2, 4)), ('M', ((2, 3),)), ('O', ((3, 2), (3, 1))))\nheuristic estimation: 3\n+ 1 2 3 4 +\n1 - - A - 1\n2 - - M T 2\n3 O O - - 3\n4 - - - X 4\n+ 1 2 3 4 +\naction: moveRight\n\n<STEP9>\nstate: (('A', (1, 4)), ('T', (2, 4)), ('M', ((2, 3),)), ('O', ((3, 2), (3, 1))))\nheuristic estimation: 2\n+ 1 2 3 4 +\n1 - - - A 1\n2 - - M T 2\n3 O O - - 3\n4 - - - X 4\n+ 1 2 3 4 +\naction: pushDown\n\n<STEP10>\nstate: (('A', (2, 4)), ('T', (3, 4)), ('M', ((2, 3),)), ('O', ((3, 2), (3, 1))))\nheuristic estimation: 1\n+ 1 2 3 4 +\n1 - - - - 1\n2 - - M A 2\n3 O O - T 3\n4 - - - X 4\n+ 1 2 3 4 +\naction: pushDown\n\n<STEP11>\nstate: (('A', (3, 4)), ('T', (4, 4)), ('M', ((2, 3),)), ('O', ((3, 2), (3, 1))))\nheuristic estimation: 0\n+ 1 2 3 4 +\n1 - - - - 1\n2 - - M - 2\n3 O O - A 3\n4 - - - T 4\n+ 1 2 3 4 +\n",
          "name": "stdout"
        }
      ]
    },
    {
      "metadata": {
        "trusted": true
      },
      "cell_type": "code",
      "source": "board4 = Board()\nmike4 = PSA()\nt4 = Tpiece()\nm1_4 = Mobs()\nm2_4 = Mobs()\no1_4 = Oobs()\no2_4 = Oobs()\n\nboard4.add_thing(mike4, (1, 1))\nboard4.add_thing(t4, (2, 4))\nboard4.add_thing(m1_4, (2, 3))\nboard4.add_thing(m2_4, (3, 2))\nboard4.add_thing(o1_4, (3, 4))\nboard4.add_thing(o2_4, (3, 1))",
      "execution_count": 78,
      "outputs": []
    },
    {
      "metadata": {
        "trusted": true
      },
      "cell_type": "code",
      "source": "start = time.time()\nboard4_uninformedIDS_test = mike4(board4, iterative_deepening_search)\nend = time.time()\nprint(\"Time to compute: \" + str(end - start) + \" seconds\")",
      "execution_count": 32,
      "outputs": [
        {
          "output_type": "stream",
          "text": "Time to compute: 681.1913666725159 seconds\n",
          "name": "stdout"
        }
      ]
    },
    {
      "metadata": {
        "trusted": true
      },
      "cell_type": "code",
      "source": "printStepsStatesMatrix(board4_uninformedIDS_test)",
      "execution_count": 28,
      "outputs": [
        {
          "output_type": "stream",
          "text": "<STEP0>\nstate: (('A', (1, 1)), ('T', (2, 4)), ('M', ((2, 3), (3, 2))), ('O', ((3, 4), (3, 1))))\n+ 1 2 3 4 +\n1 A - - - 1\n2 - - M T 2\n3 O M - O 3\n4 - - - X 4\n+ 1 2 3 4 +\naction: moveDown\n\n<STEP1>\nstate: (('A', (2, 1)), ('T', (2, 4)), ('M', ((2, 3), (3, 2))), ('O', ((3, 4), (3, 1))))\n+ 1 2 3 4 +\n1 - - - - 1\n2 A - M T 2\n3 O M - O 3\n4 - - - X 4\n+ 1 2 3 4 +\naction: moveRight\n\n<STEP2>\nstate: (('A', (2, 2)), ('T', (2, 4)), ('M', ((2, 3), (3, 2))), ('O', ((3, 4), (3, 1))))\n+ 1 2 3 4 +\n1 - - - - 1\n2 - A M T 2\n3 O M - O 3\n4 - - - X 4\n+ 1 2 3 4 +\naction: pushDown\n\n<STEP3>\nstate: (('A', (3, 2)), ('T', (2, 4)), ('M', ((2, 3), (4, 2))), ('O', ((3, 4), (3, 1))))\n+ 1 2 3 4 +\n1 - - - - 1\n2 - - M T 2\n3 O A - O 3\n4 - M - X 4\n+ 1 2 3 4 +\naction: moveRight\n\n<STEP4>\nstate: (('A', (3, 3)), ('T', (2, 4)), ('M', ((2, 3), (4, 2))), ('O', ((3, 4), (3, 1))))\n+ 1 2 3 4 +\n1 - - - - 1\n2 - - M T 2\n3 O - A O 3\n4 - M - X 4\n+ 1 2 3 4 +\naction: pushUp\n\n<STEP5>\nstate: (('A', (2, 3)), ('T', (2, 4)), ('M', ((1, 3), (4, 2))), ('O', ((3, 4), (3, 1))))\n+ 1 2 3 4 +\n1 - - M - 1\n2 - - A T 2\n3 O - - O 3\n4 - M - X 4\n+ 1 2 3 4 +\naction: pullLeft\n\n<STEP6>\nstate: (('A', (2, 2)), ('T', (2, 3)), ('M', ((1, 3), (4, 2))), ('O', ((3, 4), (3, 1))))\n+ 1 2 3 4 +\n1 - - M - 1\n2 - A T - 2\n3 O - - O 3\n4 - M - X 4\n+ 1 2 3 4 +\naction: moveDown\n\n<STEP7>\nstate: (('A', (3, 2)), ('T', (2, 3)), ('M', ((1, 3), (4, 2))), ('O', ((3, 4), (3, 1))))\n+ 1 2 3 4 +\n1 - - M - 1\n2 - - T - 2\n3 O A - O 3\n4 - M - X 4\n+ 1 2 3 4 +\naction: pullUp\n\n<STEP8>\nstate: (('A', (2, 2)), ('T', (2, 3)), ('M', ((1, 3), (3, 2))), ('O', ((3, 4), (3, 1))))\n+ 1 2 3 4 +\n1 - - M - 1\n2 - A T - 2\n3 O M - O 3\n4 - - - X 4\n+ 1 2 3 4 +\naction: pullUp\n\n<STEP9>\nstate: (('A', (1, 2)), ('T', (2, 3)), ('M', ((1, 3), (2, 2))), ('O', ((3, 4), (3, 1))))\n+ 1 2 3 4 +\n1 - A M - 1\n2 - M T - 2\n3 O - - O 3\n4 - - - X 4\n+ 1 2 3 4 +\naction: pushRight\n\n<STEP10>\nstate: (('A', (1, 3)), ('T', (2, 3)), ('M', ((1, 4), (2, 2))), ('O', ((3, 4), (3, 1))))\n+ 1 2 3 4 +\n1 - - A M 1\n2 - M T - 2\n3 O - - O 3\n4 - - - X 4\n+ 1 2 3 4 +\naction: pushDown\n\n<STEP11>\nstate: (('A', (2, 3)), ('T', (3, 3)), ('M', ((1, 4), (2, 2))), ('O', ((3, 4), (3, 1))))\n+ 1 2 3 4 +\n1 - - - M 1\n2 - M A - 2\n3 O - T O 3\n4 - - - X 4\n+ 1 2 3 4 +\naction: pushDown\n\n<STEP12>\nstate: (('A', (3, 3)), ('T', (4, 3)), ('M', ((1, 4), (2, 2))), ('O', ((3, 4), (3, 1))))\n+ 1 2 3 4 +\n1 - - - M 1\n2 - M - - 2\n3 O - A O 3\n4 - - T X 4\n+ 1 2 3 4 +\naction: moveLeft\n\n<STEP13>\nstate: (('A', (3, 2)), ('T', (4, 3)), ('M', ((1, 4), (2, 2))), ('O', ((3, 4), (3, 1))))\n+ 1 2 3 4 +\n1 - - - M 1\n2 - M - - 2\n3 O A - O 3\n4 - - T X 4\n+ 1 2 3 4 +\naction: moveDown\n\n<STEP14>\nstate: (('A', (4, 2)), ('T', (4, 3)), ('M', ((1, 4), (2, 2))), ('O', ((3, 4), (3, 1))))\n+ 1 2 3 4 +\n1 - - - M 1\n2 - M - - 2\n3 O - - O 3\n4 - A T X 4\n+ 1 2 3 4 +\naction: pushRight\n\n<STEP15>\nstate: (('A', (4, 3)), ('T', (4, 4)), ('M', ((1, 4), (2, 2))), ('O', ((3, 4), (3, 1))))\n+ 1 2 3 4 +\n1 - - - M 1\n2 - M - - 2\n3 O - - O 3\n4 - - A T 4\n+ 1 2 3 4 +\n",
          "name": "stdout"
        }
      ]
    },
    {
      "metadata": {
        "trusted": true
      },
      "cell_type": "code",
      "source": "start = time.time()\nboard4_greedy_simpleManhattan = mike4(board4, greedy_best_first_graph_search, simpleManhattanHeuristic)\nend = time.time()\nprint(\"Time to compute: \" + str(end - start) + \" seconds\")",
      "execution_count": 83,
      "outputs": [
        {
          "output_type": "stream",
          "text": "Time to compute: 3.746279001235962 seconds\n",
          "name": "stdout"
        }
      ]
    },
    {
      "metadata": {
        "trusted": true
      },
      "cell_type": "code",
      "source": "printStepsStatesMatrix(board4_greedy_simpleManhattan)",
      "execution_count": 80,
      "outputs": [
        {
          "output_type": "stream",
          "text": "<STEP0>\nstate: (('A', (1, 1)), ('T', (2, 4)), ('M', ((2, 3), (3, 2))), ('O', ((3, 4), (3, 1))))\nheuristic estimation: 2\n+ 1 2 3 4 +\n1 A - - - 1\n2 - - M T 2\n3 O M - O 3\n4 - - - X 4\n+ 1 2 3 4 +\naction: moveRight\n\n<STEP1>\nstate: (('A', (1, 2)), ('T', (2, 4)), ('M', ((2, 3), (3, 2))), ('O', ((3, 4), (3, 1))))\nheuristic estimation: 2\n+ 1 2 3 4 +\n1 - A - - 1\n2 - - M T 2\n3 O M - O 3\n4 - - - X 4\n+ 1 2 3 4 +\naction: moveDown\n\n<STEP2>\nstate: (('A', (2, 2)), ('T', (2, 4)), ('M', ((2, 3), (3, 2))), ('O', ((3, 4), (3, 1))))\nheuristic estimation: 2\n+ 1 2 3 4 +\n1 - - - - 1\n2 - A M T 2\n3 O M - O 3\n4 - - - X 4\n+ 1 2 3 4 +\naction: pullLeft\n\n<STEP3>\nstate: (('A', (2, 1)), ('T', (2, 4)), ('M', ((2, 2), (3, 2))), ('O', ((3, 4), (3, 1))))\nheuristic estimation: 2\n+ 1 2 3 4 +\n1 - - - - 1\n2 A M - T 2\n3 O M - O 3\n4 - - - X 4\n+ 1 2 3 4 +\naction: moveUp\n\n<STEP4>\nstate: (('A', (1, 1)), ('T', (2, 4)), ('M', ((2, 2), (3, 2))), ('O', ((3, 4), (3, 1))))\nheuristic estimation: 2\n+ 1 2 3 4 +\n1 A - - - 1\n2 - M - T 2\n3 O M - O 3\n4 - - - X 4\n+ 1 2 3 4 +\naction: moveRight\n\n<STEP5>\nstate: (('A', (1, 2)), ('T', (2, 4)), ('M', ((2, 2), (3, 2))), ('O', ((3, 4), (3, 1))))\nheuristic estimation: 2\n+ 1 2 3 4 +\n1 - A - - 1\n2 - M - T 2\n3 O M - O 3\n4 - - - X 4\n+ 1 2 3 4 +\naction: moveRight\n\n<STEP6>\nstate: (('A', (1, 3)), ('T', (2, 4)), ('M', ((2, 2), (3, 2))), ('O', ((3, 4), (3, 1))))\nheuristic estimation: 2\n+ 1 2 3 4 +\n1 - - A - 1\n2 - M - T 2\n3 O M - O 3\n4 - - - X 4\n+ 1 2 3 4 +\naction: moveDown\n\n<STEP7>\nstate: (('A', (2, 3)), ('T', (2, 4)), ('M', ((2, 2), (3, 2))), ('O', ((3, 4), (3, 1))))\nheuristic estimation: 2\n+ 1 2 3 4 +\n1 - - - - 1\n2 - M A T 2\n3 O M - O 3\n4 - - - X 4\n+ 1 2 3 4 +\naction: pushLeft\n\n<STEP8>\nstate: (('A', (2, 2)), ('T', (2, 4)), ('M', ((2, 1), (3, 2))), ('O', ((3, 4), (3, 1))))\nheuristic estimation: 2\n+ 1 2 3 4 +\n1 - - - - 1\n2 M A - T 2\n3 O M - O 3\n4 - - - X 4\n+ 1 2 3 4 +\naction: pullUp\n\n<STEP9>\nstate: (('A', (1, 2)), ('T', (2, 4)), ('M', ((2, 1), (2, 2))), ('O', ((3, 4), (3, 1))))\nheuristic estimation: 2\n+ 1 2 3 4 +\n1 - A - - 1\n2 M M - T 2\n3 O - - O 3\n4 - - - X 4\n+ 1 2 3 4 +\naction: moveRight\n\n<STEP10>\nstate: (('A', (1, 3)), ('T', (2, 4)), ('M', ((2, 1), (2, 2))), ('O', ((3, 4), (3, 1))))\nheuristic estimation: 2\n+ 1 2 3 4 +\n1 - - A - 1\n2 M M - T 2\n3 O - - O 3\n4 - - - X 4\n+ 1 2 3 4 +\naction: moveDown\n\n<STEP11>\nstate: (('A', (2, 3)), ('T', (2, 4)), ('M', ((2, 1), (2, 2))), ('O', ((3, 4), (3, 1))))\nheuristic estimation: 2\n+ 1 2 3 4 +\n1 - - - - 1\n2 M M A T 2\n3 O - - O 3\n4 - - - X 4\n+ 1 2 3 4 +\naction: moveDown\n\n<STEP12>\nstate: (('A', (3, 3)), ('T', (2, 4)), ('M', ((2, 1), (2, 2))), ('O', ((3, 4), (3, 1))))\nheuristic estimation: 2\n+ 1 2 3 4 +\n1 - - - - 1\n2 M M - T 2\n3 O - A O 3\n4 - - - X 4\n+ 1 2 3 4 +\naction: moveLeft\n\n<STEP13>\nstate: (('A', (3, 2)), ('T', (2, 4)), ('M', ((2, 1), (2, 2))), ('O', ((3, 4), (3, 1))))\nheuristic estimation: 2\n+ 1 2 3 4 +\n1 - - - - 1\n2 M M - T 2\n3 O A - O 3\n4 - - - X 4\n+ 1 2 3 4 +\naction: pushUp\n\n<STEP14>\nstate: (('A', (2, 2)), ('T', (2, 4)), ('M', ((2, 1), (1, 2))), ('O', ((3, 4), (3, 1))))\nheuristic estimation: 2\n+ 1 2 3 4 +\n1 - M - - 1\n2 M A - T 2\n3 O - - O 3\n4 - - - X 4\n+ 1 2 3 4 +\naction: moveRight\n\n<STEP15>\nstate: (('A', (2, 3)), ('T', (2, 4)), ('M', ((2, 1), (1, 2))), ('O', ((3, 4), (3, 1))))\nheuristic estimation: 2\n+ 1 2 3 4 +\n1 - M - - 1\n2 M - A T 2\n3 O - - O 3\n4 - - - X 4\n+ 1 2 3 4 +\naction: moveUp\n\n<STEP16>\nstate: (('A', (1, 3)), ('T', (2, 4)), ('M', ((2, 1), (1, 2))), ('O', ((3, 4), (3, 1))))\nheuristic estimation: 2\n+ 1 2 3 4 +\n1 - M A - 1\n2 M - - T 2\n3 O - - O 3\n4 - - - X 4\n+ 1 2 3 4 +\naction: pushLeft\n\n<STEP17>\nstate: (('A', (1, 2)), ('T', (2, 4)), ('M', ((2, 1), (1, 1))), ('O', ((3, 4), (3, 1))))\nheuristic estimation: 2\n+ 1 2 3 4 +\n1 M A - - 1\n2 M - - T 2\n3 O - - O 3\n4 - - - X 4\n+ 1 2 3 4 +\naction: moveDown\n\n<STEP18>\nstate: (('A', (2, 2)), ('T', (2, 4)), ('M', ((2, 1), (1, 1))), ('O', ((3, 4), (3, 1))))\nheuristic estimation: 2\n+ 1 2 3 4 +\n1 M - - - 1\n2 M A - T 2\n3 O - - O 3\n4 - - - X 4\n+ 1 2 3 4 +\naction: pullRight\n\n<STEP19>\nstate: (('A', (2, 3)), ('T', (2, 4)), ('M', ((2, 2), (1, 1))), ('O', ((3, 4), (3, 1))))\nheuristic estimation: 2\n+ 1 2 3 4 +\n1 M - - - 1\n2 - M A T 2\n3 O - - O 3\n4 - - - X 4\n+ 1 2 3 4 +\naction: moveUp\n\n<STEP20>\nstate: (('A', (1, 3)), ('T', (2, 4)), ('M', ((2, 2), (1, 1))), ('O', ((3, 4), (3, 1))))\nheuristic estimation: 2\n+ 1 2 3 4 +\n1 M - A - 1\n2 - M - T 2\n3 O - - O 3\n4 - - - X 4\n+ 1 2 3 4 +\naction: moveLeft\n\n<STEP21>\nstate: (('A', (1, 2)), ('T', (2, 4)), ('M', ((2, 2), (1, 1))), ('O', ((3, 4), (3, 1))))\nheuristic estimation: 2\n+ 1 2 3 4 +\n1 M A - - 1\n2 - M - T 2\n3 O - - O 3\n4 - - - X 4\n+ 1 2 3 4 +\naction: pushDown\n\n<STEP22>\nstate: (('A', (2, 2)), ('T', (2, 4)), ('M', ((3, 2), (1, 1))), ('O', ((3, 4), (3, 1))))\nheuristic estimation: 2\n+ 1 2 3 4 +\n1 M - - - 1\n2 - A - T 2\n3 O M - O 3\n4 - - - X 4\n+ 1 2 3 4 +\naction: moveUp\n\n<STEP23>\nstate: (('A', (1, 2)), ('T', (2, 4)), ('M', ((3, 2), (1, 1))), ('O', ((3, 4), (3, 1))))\nheuristic estimation: 2\n+ 1 2 3 4 +\n1 M A - - 1\n2 - - - T 2\n3 O M - O 3\n4 - - - X 4\n+ 1 2 3 4 +\naction: pullRight\n\n<STEP24>\nstate: (('A', (1, 3)), ('T', (2, 4)), ('M', ((3, 2), (1, 2))), ('O', ((3, 4), (3, 1))))\nheuristic estimation: 2\n+ 1 2 3 4 +\n1 - M A - 1\n2 - - - T 2\n3 O M - O 3\n4 - - - X 4\n+ 1 2 3 4 +\naction: moveDown\n\n<STEP25>\nstate: (('A', (2, 3)), ('T', (2, 4)), ('M', ((3, 2), (1, 2))), ('O', ((3, 4), (3, 1))))\nheuristic estimation: 2\n+ 1 2 3 4 +\n1 - M - - 1\n2 - - A T 2\n3 O M - O 3\n4 - - - X 4\n+ 1 2 3 4 +\naction: moveLeft\n\n<STEP26>\nstate: (('A', (2, 2)), ('T', (2, 4)), ('M', ((3, 2), (1, 2))), ('O', ((3, 4), (3, 1))))\nheuristic estimation: 2\n+ 1 2 3 4 +\n1 - M - - 1\n2 - A - T 2\n3 O M - O 3\n4 - - - X 4\n+ 1 2 3 4 +\naction: moveLeft\n\n<STEP27>\nstate: (('A', (2, 1)), ('T', (2, 4)), ('M', ((3, 2), (1, 2))), ('O', ((3, 4), (3, 1))))\nheuristic estimation: 2\n+ 1 2 3 4 +\n1 - M - - 1\n2 A - - T 2\n3 O M - O 3\n4 - - - X 4\n+ 1 2 3 4 +\naction: moveUp\n\n<STEP28>\nstate: (('A', (1, 1)), ('T', (2, 4)), ('M', ((3, 2), (1, 2))), ('O', ((3, 4), (3, 1))))\nheuristic estimation: 2\n+ 1 2 3 4 +\n1 A M - - 1\n2 - - - T 2\n3 O M - O 3\n4 - - - X 4\n+ 1 2 3 4 +\naction: pushRight\n\n<STEP29>\nstate: (('A', (1, 2)), ('T', (2, 4)), ('M', ((3, 2), (1, 3))), ('O', ((3, 4), (3, 1))))\nheuristic estimation: 2\n+ 1 2 3 4 +\n1 - A M - 1\n2 - - - T 2\n3 O M - O 3\n4 - - - X 4\n+ 1 2 3 4 +\naction: moveDown\n\n<STEP30>\nstate: (('A', (2, 2)), ('T', (2, 4)), ('M', ((3, 2), (1, 3))), ('O', ((3, 4), (3, 1))))\nheuristic estimation: 2\n+ 1 2 3 4 +\n1 - - M - 1\n2 - A - T 2\n3 O M - O 3\n4 - - - X 4\n+ 1 2 3 4 +\naction: pullUp\n\n<STEP31>\nstate: (('A', (1, 2)), ('T', (2, 4)), ('M', ((2, 2), (1, 3))), ('O', ((3, 4), (3, 1))))\nheuristic estimation: 2\n+ 1 2 3 4 +\n1 - A M - 1\n2 - M - T 2\n3 O - - O 3\n4 - - - X 4\n+ 1 2 3 4 +\naction: pushRight\n\n<STEP32>\nstate: (('A', (1, 3)), ('T', (2, 4)), ('M', ((2, 2), (1, 4))), ('O', ((3, 4), (3, 1))))\nheuristic estimation: 2\n+ 1 2 3 4 +\n1 - - A M 1\n2 - M - T 2\n3 O - - O 3\n4 - - - X 4\n+ 1 2 3 4 +\naction: moveDown\n\n<STEP33>\nstate: (('A', (2, 3)), ('T', (2, 4)), ('M', ((2, 2), (1, 4))), ('O', ((3, 4), (3, 1))))\nheuristic estimation: 2\n+ 1 2 3 4 +\n1 - - - M 1\n2 - M A T 2\n3 O - - O 3\n4 - - - X 4\n+ 1 2 3 4 +\naction: pushLeft\n\n<STEP34>\nstate: (('A', (2, 2)), ('T', (2, 4)), ('M', ((2, 1), (1, 4))), ('O', ((3, 4), (3, 1))))\nheuristic estimation: 2\n+ 1 2 3 4 +\n1 - - - M 1\n2 M A - T 2\n3 O - - O 3\n4 - - - X 4\n+ 1 2 3 4 +\naction: moveUp\n\n<STEP35>\nstate: (('A', (1, 2)), ('T', (2, 4)), ('M', ((2, 1), (1, 4))), ('O', ((3, 4), (3, 1))))\nheuristic estimation: 2\n+ 1 2 3 4 +\n1 - A - M 1\n2 M - - T 2\n3 O - - O 3\n4 - - - X 4\n+ 1 2 3 4 +\naction: moveRight\n\n<STEP36>\nstate: (('A', (1, 3)), ('T', (2, 4)), ('M', ((2, 1), (1, 4))), ('O', ((3, 4), (3, 1))))\nheuristic estimation: 2\n+ 1 2 3 4 +\n1 - - A M 1\n2 M - - T 2\n3 O - - O 3\n4 - - - X 4\n+ 1 2 3 4 +\naction: pullLeft\n\n<STEP37>\nstate: (('A', (1, 2)), ('T', (2, 4)), ('M', ((2, 1), (1, 3))), ('O', ((3, 4), (3, 1))))\nheuristic estimation: 2\n+ 1 2 3 4 +\n1 - A M - 1\n2 M - - T 2\n3 O - - O 3\n4 - - - X 4\n+ 1 2 3 4 +\naction: moveDown\n\n<STEP38>\nstate: (('A', (2, 2)), ('T', (2, 4)), ('M', ((2, 1), (1, 3))), ('O', ((3, 4), (3, 1))))\nheuristic estimation: 2\n+ 1 2 3 4 +\n1 - - M - 1\n2 M A - T 2\n3 O - - O 3\n4 - - - X 4\n+ 1 2 3 4 +\naction: pullRight\n\n<STEP39>\nstate: (('A', (2, 3)), ('T', (2, 4)), ('M', ((2, 2), (1, 3))), ('O', ((3, 4), (3, 1))))\nheuristic estimation: 2\n+ 1 2 3 4 +\n1 - - M - 1\n2 - M A T 2\n3 O - - O 3\n4 - - - X 4\n+ 1 2 3 4 +\naction: moveDown\n\n<STEP40>\nstate: (('A', (3, 3)), ('T', (2, 4)), ('M', ((2, 2), (1, 3))), ('O', ((3, 4), (3, 1))))\nheuristic estimation: 2\n+ 1 2 3 4 +\n1 - - M - 1\n2 - M - T 2\n3 O - A O 3\n4 - - - X 4\n+ 1 2 3 4 +\naction: moveLeft\n\n<STEP41>\nstate: (('A', (3, 2)), ('T', (2, 4)), ('M', ((2, 2), (1, 3))), ('O', ((3, 4), (3, 1))))\nheuristic estimation: 2\n+ 1 2 3 4 +\n1 - - M - 1\n2 - M - T 2\n3 O A - O 3\n4 - - - X 4\n+ 1 2 3 4 +\naction: pushUp\n\n<STEP42>\nstate: (('A', (2, 2)), ('T', (2, 4)), ('M', ((1, 2), (1, 3))), ('O', ((3, 4), (3, 1))))\nheuristic estimation: 2\n+ 1 2 3 4 +\n1 - M M - 1\n2 - A - T 2\n3 O - - O 3\n4 - - - X 4\n+ 1 2 3 4 +\naction: moveRight\n\n<STEP43>\nstate: (('A', (2, 3)), ('T', (2, 4)), ('M', ((1, 2), (1, 3))), ('O', ((3, 4), (3, 1))))\nheuristic estimation: 2\n+ 1 2 3 4 +\n1 - M M - 1\n2 - - A T 2\n3 O - - O 3\n4 - - - X 4\n+ 1 2 3 4 +\naction: pullDown\n\n<STEP44>\nstate: (('A', (3, 3)), ('T', (2, 4)), ('M', ((1, 2), (2, 3))), ('O', ((3, 4), (3, 1))))\nheuristic estimation: 2\n+ 1 2 3 4 +\n1 - M - - 1\n2 - - M T 2\n3 O - A O 3\n4 - - - X 4\n+ 1 2 3 4 +\naction: moveLeft\n\n<STEP45>\nstate: (('A', (3, 2)), ('T', (2, 4)), ('M', ((1, 2), (2, 3))), ('O', ((3, 4), (3, 1))))\nheuristic estimation: 2\n+ 1 2 3 4 +\n1 - M - - 1\n2 - - M T 2\n3 O A - O 3\n4 - - - X 4\n+ 1 2 3 4 +\naction: moveUp\n\n<STEP46>\nstate: (('A', (2, 2)), ('T', (2, 4)), ('M', ((1, 2), (2, 3))), ('O', ((3, 4), (3, 1))))\nheuristic estimation: 2\n+ 1 2 3 4 +\n1 - M - - 1\n2 - A M T 2\n3 O - - O 3\n4 - - - X 4\n+ 1 2 3 4 +\naction: moveLeft\n\n<STEP47>\nstate: (('A', (2, 1)), ('T', (2, 4)), ('M', ((1, 2), (2, 3))), ('O', ((3, 4), (3, 1))))\nheuristic estimation: 2\n+ 1 2 3 4 +\n1 - M - - 1\n2 A - M T 2\n3 O - - O 3\n4 - - - X 4\n+ 1 2 3 4 +\naction: moveUp\n\n<STEP48>\nstate: (('A', (1, 1)), ('T', (2, 4)), ('M', ((1, 2), (2, 3))), ('O', ((3, 4), (3, 1))))\nheuristic estimation: 2\n+ 1 2 3 4 +\n1 A M - - 1\n2 - - M T 2\n3 O - - O 3\n4 - - - X 4\n+ 1 2 3 4 +\naction: pushRight\n\n<STEP49>\nstate: (('A', (1, 2)), ('T', (2, 4)), ('M', ((1, 3), (2, 3))), ('O', ((3, 4), (3, 1))))\nheuristic estimation: 2\n+ 1 2 3 4 +\n1 - A M - 1\n2 - - M T 2\n3 O - - O 3\n4 - - - X 4\n+ 1 2 3 4 +\naction: pushRight\n\n<STEP50>\nstate: (('A', (1, 3)), ('T', (2, 4)), ('M', ((1, 4), (2, 3))), ('O', ((3, 4), (3, 1))))\nheuristic estimation: 2\n+ 1 2 3 4 +\n1 - - A M 1\n2 - - M T 2\n3 O - - O 3\n4 - - - X 4\n+ 1 2 3 4 +\naction: pushDown\n\n<STEP51>\nstate: (('A', (2, 3)), ('T', (2, 4)), ('M', ((1, 4), (3, 3))), ('O', ((3, 4), (3, 1))))\nheuristic estimation: 2\n+ 1 2 3 4 +\n1 - - - M 1\n",
          "name": "stdout"
        },
        {
          "output_type": "stream",
          "text": "2 - - A T 2\n3 O - M O 3\n4 - - - X 4\n+ 1 2 3 4 +\naction: moveUp\n\n<STEP52>\nstate: (('A', (1, 3)), ('T', (2, 4)), ('M', ((1, 4), (3, 3))), ('O', ((3, 4), (3, 1))))\nheuristic estimation: 2\n+ 1 2 3 4 +\n1 - - A M 1\n2 - - - T 2\n3 O - M O 3\n4 - - - X 4\n+ 1 2 3 4 +\naction: pullLeft\n\n<STEP53>\nstate: (('A', (1, 2)), ('T', (2, 4)), ('M', ((1, 3), (3, 3))), ('O', ((3, 4), (3, 1))))\nheuristic estimation: 2\n+ 1 2 3 4 +\n1 - A M - 1\n2 - - - T 2\n3 O - M O 3\n4 - - - X 4\n+ 1 2 3 4 +\naction: pullLeft\n\n<STEP54>\nstate: (('A', (1, 1)), ('T', (2, 4)), ('M', ((1, 2), (3, 3))), ('O', ((3, 4), (3, 1))))\nheuristic estimation: 2\n+ 1 2 3 4 +\n1 A M - - 1\n2 - - - T 2\n3 O - M O 3\n4 - - - X 4\n+ 1 2 3 4 +\naction: moveDown\n\n<STEP55>\nstate: (('A', (2, 1)), ('T', (2, 4)), ('M', ((1, 2), (3, 3))), ('O', ((3, 4), (3, 1))))\nheuristic estimation: 2\n+ 1 2 3 4 +\n1 - M - - 1\n2 A - - T 2\n3 O - M O 3\n4 - - - X 4\n+ 1 2 3 4 +\naction: moveRight\n\n<STEP56>\nstate: (('A', (2, 2)), ('T', (2, 4)), ('M', ((1, 2), (3, 3))), ('O', ((3, 4), (3, 1))))\nheuristic estimation: 2\n+ 1 2 3 4 +\n1 - M - - 1\n2 - A - T 2\n3 O - M O 3\n4 - - - X 4\n+ 1 2 3 4 +\naction: moveRight\n\n<STEP57>\nstate: (('A', (2, 3)), ('T', (2, 4)), ('M', ((1, 2), (3, 3))), ('O', ((3, 4), (3, 1))))\nheuristic estimation: 2\n+ 1 2 3 4 +\n1 - M - - 1\n2 - - A T 2\n3 O - M O 3\n4 - - - X 4\n+ 1 2 3 4 +\naction: pullUp\n\n<STEP58>\nstate: (('A', (1, 3)), ('T', (2, 4)), ('M', ((1, 2), (2, 3))), ('O', ((3, 4), (3, 1))))\nheuristic estimation: 2\n+ 1 2 3 4 +\n1 - M A - 1\n2 - - M T 2\n3 O - - O 3\n4 - - - X 4\n+ 1 2 3 4 +\naction: pushLeft\n\n<STEP59>\nstate: (('A', (1, 2)), ('T', (2, 4)), ('M', ((1, 1), (2, 3))), ('O', ((3, 4), (3, 1))))\nheuristic estimation: 2\n+ 1 2 3 4 +\n1 M A - - 1\n2 - - M T 2\n3 O - - O 3\n4 - - - X 4\n+ 1 2 3 4 +\naction: moveDown\n\n<STEP60>\nstate: (('A', (2, 2)), ('T', (2, 4)), ('M', ((1, 1), (2, 3))), ('O', ((3, 4), (3, 1))))\nheuristic estimation: 2\n+ 1 2 3 4 +\n1 M - - - 1\n2 - A M T 2\n3 O - - O 3\n4 - - - X 4\n+ 1 2 3 4 +\naction: moveDown\n\n<STEP61>\nstate: (('A', (3, 2)), ('T', (2, 4)), ('M', ((1, 1), (2, 3))), ('O', ((3, 4), (3, 1))))\nheuristic estimation: 2\n+ 1 2 3 4 +\n1 M - - - 1\n2 - - M T 2\n3 O A - O 3\n4 - - - X 4\n+ 1 2 3 4 +\naction: moveRight\n\n<STEP62>\nstate: (('A', (3, 3)), ('T', (2, 4)), ('M', ((1, 1), (2, 3))), ('O', ((3, 4), (3, 1))))\nheuristic estimation: 2\n+ 1 2 3 4 +\n1 M - - - 1\n2 - - M T 2\n3 O - A O 3\n4 - - - X 4\n+ 1 2 3 4 +\naction: pushUp\n\n<STEP63>\nstate: (('A', (2, 3)), ('T', (2, 4)), ('M', ((1, 1), (1, 3))), ('O', ((3, 4), (3, 1))))\nheuristic estimation: 2\n+ 1 2 3 4 +\n1 M - M - 1\n2 - - A T 2\n3 O - - O 3\n4 - - - X 4\n+ 1 2 3 4 +\naction: pullLeft\n\n<STEP64>\nstate: (('A', (2, 2)), ('T', (2, 3)), ('M', ((1, 1), (1, 3))), ('O', ((3, 4), (3, 1))))\nheuristic estimation: 3\n+ 1 2 3 4 +\n1 M - M - 1\n2 - A T - 2\n3 O - - O 3\n4 - - - X 4\n+ 1 2 3 4 +\naction: moveUp\n\n<STEP65>\nstate: (('A', (1, 2)), ('T', (2, 3)), ('M', ((1, 1), (1, 3))), ('O', ((3, 4), (3, 1))))\nheuristic estimation: 3\n+ 1 2 3 4 +\n1 M A M - 1\n2 - - T - 2\n3 O - - O 3\n4 - - - X 4\n+ 1 2 3 4 +\naction: pushRight\n\n<STEP66>\nstate: (('A', (1, 3)), ('T', (2, 3)), ('M', ((1, 1), (1, 4))), ('O', ((3, 4), (3, 1))))\nheuristic estimation: 3\n+ 1 2 3 4 +\n1 M - A M 1\n2 - - T - 2\n3 O - - O 3\n4 - - - X 4\n+ 1 2 3 4 +\naction: pushDown\n\n<STEP67>\nstate: (('A', (2, 3)), ('T', (3, 3)), ('M', ((1, 1), (1, 4))), ('O', ((3, 4), (3, 1))))\nheuristic estimation: 2\n+ 1 2 3 4 +\n1 M - - M 1\n2 - - A - 2\n3 O - T O 3\n4 - - - X 4\n+ 1 2 3 4 +\naction: pushDown\n\n<STEP68>\nstate: (('A', (3, 3)), ('T', (4, 3)), ('M', ((1, 1), (1, 4))), ('O', ((3, 4), (3, 1))))\nheuristic estimation: 1\n+ 1 2 3 4 +\n1 M - - M 1\n2 - - - - 2\n3 O - A O 3\n4 - - T X 4\n+ 1 2 3 4 +\naction: moveUp\n\n<STEP69>\nstate: (('A', (2, 3)), ('T', (4, 3)), ('M', ((1, 1), (1, 4))), ('O', ((3, 4), (3, 1))))\nheuristic estimation: 1\n+ 1 2 3 4 +\n1 M - - M 1\n2 - - A - 2\n3 O - - O 3\n4 - - T X 4\n+ 1 2 3 4 +\naction: moveUp\n\n<STEP70>\nstate: (('A', (1, 3)), ('T', (4, 3)), ('M', ((1, 1), (1, 4))), ('O', ((3, 4), (3, 1))))\nheuristic estimation: 1\n+ 1 2 3 4 +\n1 M - A M 1\n2 - - - - 2\n3 O - - O 3\n4 - - T X 4\n+ 1 2 3 4 +\naction: pullLeft\n\n<STEP71>\nstate: (('A', (1, 2)), ('T', (4, 3)), ('M', ((1, 1), (1, 3))), ('O', ((3, 4), (3, 1))))\nheuristic estimation: 1\n+ 1 2 3 4 +\n1 M A M - 1\n2 - - - - 2\n3 O - - O 3\n4 - - T X 4\n+ 1 2 3 4 +\naction: moveDown\n\n<STEP72>\nstate: (('A', (2, 2)), ('T', (4, 3)), ('M', ((1, 1), (1, 3))), ('O', ((3, 4), (3, 1))))\nheuristic estimation: 1\n+ 1 2 3 4 +\n1 M - M - 1\n2 - A - - 2\n3 O - - O 3\n4 - - T X 4\n+ 1 2 3 4 +\naction: moveRight\n\n<STEP73>\nstate: (('A', (2, 3)), ('T', (4, 3)), ('M', ((1, 1), (1, 3))), ('O', ((3, 4), (3, 1))))\nheuristic estimation: 1\n+ 1 2 3 4 +\n1 M - M - 1\n2 - - A - 2\n3 O - - O 3\n4 - - T X 4\n+ 1 2 3 4 +\naction: moveRight\n\n<STEP74>\nstate: (('A', (2, 4)), ('T', (4, 3)), ('M', ((1, 1), (1, 3))), ('O', ((3, 4), (3, 1))))\nheuristic estimation: 1\n+ 1 2 3 4 +\n1 M - M - 1\n2 - - - A 2\n3 O - - O 3\n4 - - T X 4\n+ 1 2 3 4 +\naction: moveUp\n\n<STEP75>\nstate: (('A', (1, 4)), ('T', (4, 3)), ('M', ((1, 1), (1, 3))), ('O', ((3, 4), (3, 1))))\nheuristic estimation: 1\n+ 1 2 3 4 +\n1 M - M A 1\n2 - - - - 2\n3 O - - O 3\n4 - - T X 4\n+ 1 2 3 4 +\naction: pushLeft\n\n<STEP76>\nstate: (('A', (1, 3)), ('T', (4, 3)), ('M', ((1, 1), (1, 2))), ('O', ((3, 4), (3, 1))))\nheuristic estimation: 1\n+ 1 2 3 4 +\n1 M M A - 1\n2 - - - - 2\n3 O - - O 3\n4 - - T X 4\n+ 1 2 3 4 +\naction: moveDown\n\n<STEP77>\nstate: (('A', (2, 3)), ('T', (4, 3)), ('M', ((1, 1), (1, 2))), ('O', ((3, 4), (3, 1))))\nheuristic estimation: 1\n+ 1 2 3 4 +\n1 M M - - 1\n2 - - A - 2\n3 O - - O 3\n4 - - T X 4\n+ 1 2 3 4 +\naction: moveLeft\n\n<STEP78>\nstate: (('A', (2, 2)), ('T', (4, 3)), ('M', ((1, 1), (1, 2))), ('O', ((3, 4), (3, 1))))\nheuristic estimation: 1\n+ 1 2 3 4 +\n1 M M - - 1\n2 - A - - 2\n3 O - - O 3\n4 - - T X 4\n+ 1 2 3 4 +\naction: moveDown\n\n<STEP79>\nstate: (('A', (3, 2)), ('T', (4, 3)), ('M', ((1, 1), (1, 2))), ('O', ((3, 4), (3, 1))))\nheuristic estimation: 1\n+ 1 2 3 4 +\n1 M M - - 1\n2 - - - - 2\n3 O A - O 3\n4 - - T X 4\n+ 1 2 3 4 +\naction: moveDown\n\n<STEP80>\nstate: (('A', (4, 2)), ('T', (4, 3)), ('M', ((1, 1), (1, 2))), ('O', ((3, 4), (3, 1))))\nheuristic estimation: 1\n+ 1 2 3 4 +\n1 M M - - 1\n2 - - - - 2\n3 O - - O 3\n4 - A T X 4\n+ 1 2 3 4 +\naction: pushRight\n\n<STEP81>\nstate: (('A', (4, 3)), ('T', (4, 4)), ('M', ((1, 1), (1, 2))), ('O', ((3, 4), (3, 1))))\nheuristic estimation: 0\n+ 1 2 3 4 +\n1 M M - - 1\n2 - - - - 2\n3 O - - O 3\n4 - - A T 4\n+ 1 2 3 4 +\n",
          "name": "stdout"
        }
      ]
    },
    {
      "metadata": {
        "trusted": true
      },
      "cell_type": "code",
      "source": "start = time.time()\nboard4_greedy_doubleManhattan = mike4(board4, greedy_best_first_graph_search, doubleManhattanHeuristic)\nend = time.time()\nprint(\"Time to compute: \" + str(end - start) + \" seconds\")",
      "execution_count": 84,
      "outputs": [
        {
          "output_type": "stream",
          "text": "Time to compute: 1.5371663570404053 seconds\n",
          "name": "stdout"
        }
      ]
    },
    {
      "metadata": {
        "trusted": true
      },
      "cell_type": "code",
      "source": "printStepsStatesMatrix(board4_greedy_doubleManhattan)",
      "execution_count": 85,
      "outputs": [
        {
          "output_type": "stream",
          "text": "<STEP0>\nstate: (('A', (1, 1)), ('T', (2, 4)), ('M', ((2, 3), (3, 2))), ('O', ((3, 4), (3, 1))))\nheuristic estimation: 5\n+ 1 2 3 4 +\n1 A - - - 1\n2 - - M T 2\n3 O M - O 3\n4 - - - X 4\n+ 1 2 3 4 +\naction: moveRight\n\n<STEP1>\nstate: (('A', (1, 2)), ('T', (2, 4)), ('M', ((2, 3), (3, 2))), ('O', ((3, 4), (3, 1))))\nheuristic estimation: 4\n+ 1 2 3 4 +\n1 - A - - 1\n2 - - M T 2\n3 O M - O 3\n4 - - - X 4\n+ 1 2 3 4 +\naction: moveRight\n\n<STEP2>\nstate: (('A', (1, 3)), ('T', (2, 4)), ('M', ((2, 3), (3, 2))), ('O', ((3, 4), (3, 1))))\nheuristic estimation: 3\n+ 1 2 3 4 +\n1 - - A - 1\n2 - - M T 2\n3 O M - O 3\n4 - - - X 4\n+ 1 2 3 4 +\naction: pushDown\n\n<STEP3>\nstate: (('A', (2, 3)), ('T', (2, 4)), ('M', ((3, 3), (3, 2))), ('O', ((3, 4), (3, 1))))\nheuristic estimation: 2\n+ 1 2 3 4 +\n1 - - - - 1\n2 - - A T 2\n3 O M M O 3\n4 - - - X 4\n+ 1 2 3 4 +\naction: pushDown\n\n<STEP4>\nstate: (('A', (3, 3)), ('T', (2, 4)), ('M', ((4, 3), (3, 2))), ('O', ((3, 4), (3, 1))))\nheuristic estimation: 3\n+ 1 2 3 4 +\n1 - - - - 1\n2 - - - T 2\n3 O M A O 3\n4 - - M X 4\n+ 1 2 3 4 +\naction: moveUp\n\n<STEP5>\nstate: (('A', (2, 3)), ('T', (2, 4)), ('M', ((4, 3), (3, 2))), ('O', ((3, 4), (3, 1))))\nheuristic estimation: 2\n+ 1 2 3 4 +\n1 - - - - 1\n2 - - A T 2\n3 O M - O 3\n4 - - M X 4\n+ 1 2 3 4 +\naction: pullLeft\n\n<STEP6>\nstate: (('A', (2, 2)), ('T', (2, 3)), ('M', ((4, 3), (3, 2))), ('O', ((3, 4), (3, 1))))\nheuristic estimation: 3\n+ 1 2 3 4 +\n1 - - - - 1\n2 - A T - 2\n3 O M - O 3\n4 - - M X 4\n+ 1 2 3 4 +\naction: pullUp\n\n<STEP7>\nstate: (('A', (1, 2)), ('T', (2, 3)), ('M', ((4, 3), (2, 2))), ('O', ((3, 4), (3, 1))))\nheuristic estimation: 4\n+ 1 2 3 4 +\n1 - A - - 1\n2 - M T - 2\n3 O - - O 3\n4 - - M X 4\n+ 1 2 3 4 +\naction: moveRight\n\n<STEP8>\nstate: (('A', (1, 3)), ('T', (2, 3)), ('M', ((4, 3), (2, 2))), ('O', ((3, 4), (3, 1))))\nheuristic estimation: 3\n+ 1 2 3 4 +\n1 - - A - 1\n2 - M T - 2\n3 O - - O 3\n4 - - M X 4\n+ 1 2 3 4 +\naction: pushDown\n\n<STEP9>\nstate: (('A', (2, 3)), ('T', (3, 3)), ('M', ((4, 3), (2, 2))), ('O', ((3, 4), (3, 1))))\nheuristic estimation: 2\n+ 1 2 3 4 +\n1 - - - - 1\n2 - M A - 2\n3 O - T O 3\n4 - - M X 4\n+ 1 2 3 4 +\naction: pushLeft\n\n<STEP10>\nstate: (('A', (2, 2)), ('T', (3, 3)), ('M', ((4, 3), (2, 1))), ('O', ((3, 4), (3, 1))))\nheuristic estimation: 3\n+ 1 2 3 4 +\n1 - - - - 1\n2 M A - - 2\n3 O - T O 3\n4 - - M X 4\n+ 1 2 3 4 +\naction: moveDown\n\n<STEP11>\nstate: (('A', (3, 2)), ('T', (3, 3)), ('M', ((4, 3), (2, 1))), ('O', ((3, 4), (3, 1))))\nheuristic estimation: 2\n+ 1 2 3 4 +\n1 - - - - 1\n2 M - - - 2\n3 O A T O 3\n4 - - M X 4\n+ 1 2 3 4 +\naction: moveDown\n\n<STEP12>\nstate: (('A', (4, 2)), ('T', (3, 3)), ('M', ((4, 3), (2, 1))), ('O', ((3, 4), (3, 1))))\nheuristic estimation: 3\n+ 1 2 3 4 +\n1 - - - - 1\n2 M - - - 2\n3 O - T O 3\n4 - A M X 4\n+ 1 2 3 4 +\naction: pushRight\n\n<STEP13>\nstate: (('A', (4, 3)), ('T', (3, 3)), ('M', ((4, 4), (2, 1))), ('O', ((3, 4), (3, 1))))\nheuristic estimation: 2\n+ 1 2 3 4 +\n1 - - - - 1\n2 M - - - 2\n3 O - T O 3\n4 - - A M 4\n+ 1 2 3 4 +\naction: moveLeft\n\n<STEP14>\nstate: (('A', (4, 2)), ('T', (3, 3)), ('M', ((4, 4), (2, 1))), ('O', ((3, 4), (3, 1))))\nheuristic estimation: 3\n+ 1 2 3 4 +\n1 - - - - 1\n2 M - - - 2\n3 O - T O 3\n4 - A - M 4\n+ 1 2 3 4 +\naction: moveUp\n\n<STEP15>\nstate: (('A', (3, 2)), ('T', (3, 3)), ('M', ((4, 4), (2, 1))), ('O', ((3, 4), (3, 1))))\nheuristic estimation: 2\n+ 1 2 3 4 +\n1 - - - - 1\n2 M - - - 2\n3 O A T O 3\n4 - - - M 4\n+ 1 2 3 4 +\naction: moveUp\n\n<STEP16>\nstate: (('A', (2, 2)), ('T', (3, 3)), ('M', ((4, 4), (2, 1))), ('O', ((3, 4), (3, 1))))\nheuristic estimation: 3\n+ 1 2 3 4 +\n1 - - - - 1\n2 M A - - 2\n3 O - T O 3\n4 - - - M 4\n+ 1 2 3 4 +\naction: pullRight\n\n<STEP17>\nstate: (('A', (2, 3)), ('T', (3, 3)), ('M', ((4, 4), (2, 2))), ('O', ((3, 4), (3, 1))))\nheuristic estimation: 2\n+ 1 2 3 4 +\n1 - - - - 1\n2 - M A - 2\n3 O - T O 3\n4 - - - M 4\n+ 1 2 3 4 +\naction: pushDown\n\n<STEP18>\nstate: (('A', (3, 3)), ('T', (4, 3)), ('M', ((4, 4), (2, 2))), ('O', ((3, 4), (3, 1))))\nheuristic estimation: 1\n+ 1 2 3 4 +\n1 - - - - 1\n2 - M - - 2\n3 O - A O 3\n4 - - T M 4\n+ 1 2 3 4 +\naction: moveLeft\n\n<STEP19>\nstate: (('A', (3, 2)), ('T', (4, 3)), ('M', ((4, 4), (2, 2))), ('O', ((3, 4), (3, 1))))\nheuristic estimation: 2\n+ 1 2 3 4 +\n1 - - - - 1\n2 - M - - 2\n3 O A - O 3\n4 - - T M 4\n+ 1 2 3 4 +\naction: pushUp\n\n<STEP20>\nstate: (('A', (2, 2)), ('T', (4, 3)), ('M', ((4, 4), (1, 2))), ('O', ((3, 4), (3, 1))))\nheuristic estimation: 3\n+ 1 2 3 4 +\n1 - M - - 1\n2 - A - - 2\n3 O - - O 3\n4 - - T M 4\n+ 1 2 3 4 +\naction: moveRight\n\n<STEP21>\nstate: (('A', (2, 3)), ('T', (4, 3)), ('M', ((4, 4), (1, 2))), ('O', ((3, 4), (3, 1))))\nheuristic estimation: 2\n+ 1 2 3 4 +\n1 - M - - 1\n2 - - A - 2\n3 O - - O 3\n4 - - T M 4\n+ 1 2 3 4 +\naction: moveDown\n\n<STEP22>\nstate: (('A', (3, 3)), ('T', (4, 3)), ('M', ((4, 4), (1, 2))), ('O', ((3, 4), (3, 1))))\nheuristic estimation: 1\n+ 1 2 3 4 +\n1 - M - - 1\n2 - - - - 2\n3 O - A O 3\n4 - - T M 4\n+ 1 2 3 4 +\naction: pullUp\n\n<STEP23>\nstate: (('A', (2, 3)), ('T', (3, 3)), ('M', ((4, 4), (1, 2))), ('O', ((3, 4), (3, 1))))\nheuristic estimation: 2\n+ 1 2 3 4 +\n1 - M - - 1\n2 - - A - 2\n3 O - T O 3\n4 - - - M 4\n+ 1 2 3 4 +\naction: moveLeft\n\n<STEP24>\nstate: (('A', (2, 2)), ('T', (3, 3)), ('M', ((4, 4), (1, 2))), ('O', ((3, 4), (3, 1))))\nheuristic estimation: 3\n+ 1 2 3 4 +\n1 - M - - 1\n2 - A - - 2\n3 O - T O 3\n4 - - - M 4\n+ 1 2 3 4 +\naction: moveDown\n\n<STEP25>\nstate: (('A', (3, 2)), ('T', (3, 3)), ('M', ((4, 4), (1, 2))), ('O', ((3, 4), (3, 1))))\nheuristic estimation: 2\n+ 1 2 3 4 +\n1 - M - - 1\n2 - - - - 2\n3 O A T O 3\n4 - - - M 4\n+ 1 2 3 4 +\naction: moveDown\n\n<STEP26>\nstate: (('A', (4, 2)), ('T', (3, 3)), ('M', ((4, 4), (1, 2))), ('O', ((3, 4), (3, 1))))\nheuristic estimation: 3\n+ 1 2 3 4 +\n1 - M - - 1\n2 - - - - 2\n3 O - T O 3\n4 - A - M 4\n+ 1 2 3 4 +\naction: moveRight\n\n<STEP27>\nstate: (('A', (4, 3)), ('T', (3, 3)), ('M', ((4, 4), (1, 2))), ('O', ((3, 4), (3, 1))))\nheuristic estimation: 2\n+ 1 2 3 4 +\n1 - M - - 1\n2 - - - - 2\n3 O - T O 3\n4 - - A M 4\n+ 1 2 3 4 +\naction: pullLeft\n\n<STEP28>\nstate: (('A', (4, 2)), ('T', (3, 3)), ('M', ((4, 3), (1, 2))), ('O', ((3, 4), (3, 1))))\nheuristic estimation: 3\n+ 1 2 3 4 +\n1 - M - - 1\n2 - - - - 2\n3 O - T O 3\n4 - A M X 4\n+ 1 2 3 4 +\naction: moveUp\n\n<STEP29>\nstate: (('A', (3, 2)), ('T', (3, 3)), ('M', ((4, 3), (1, 2))), ('O', ((3, 4), (3, 1))))\nheuristic estimation: 2\n+ 1 2 3 4 +\n1 - M - - 1\n2 - - - - 2\n3 O A T O 3\n4 - - M X 4\n+ 1 2 3 4 +\naction: moveUp\n\n<STEP30>\nstate: (('A', (2, 2)), ('T', (3, 3)), ('M', ((4, 3), (1, 2))), ('O', ((3, 4), (3, 1))))\nheuristic estimation: 3\n+ 1 2 3 4 +\n1 - M - - 1\n2 - A - - 2\n3 O - T O 3\n4 - - M X 4\n+ 1 2 3 4 +\naction: moveRight\n\n<STEP31>\nstate: (('A', (2, 3)), ('T', (3, 3)), ('M', ((4, 3), (1, 2))), ('O', ((3, 4), (3, 1))))\nheuristic estimation: 2\n+ 1 2 3 4 +\n1 - M - - 1\n2 - - A - 2\n3 O - T O 3\n4 - - M X 4\n+ 1 2 3 4 +\naction: pullUp\n\n<STEP32>\nstate: (('A', (1, 3)), ('T', (2, 3)), ('M', ((4, 3), (1, 2))), ('O', ((3, 4), (3, 1))))\nheuristic estimation: 3\n+ 1 2 3 4 +\n1 - M A - 1\n2 - - T - 2\n3 O - - O 3\n4 - - M X 4\n+ 1 2 3 4 +\naction: pushLeft\n\n<STEP33>\nstate: (('A', (1, 2)), ('T', (2, 3)), ('M', ((4, 3), (1, 1))), ('O', ((3, 4), (3, 1))))\nheuristic estimation: 4\n+ 1 2 3 4 +\n1 M A - - 1\n2 - - T - 2\n3 O - - O 3\n4 - - M X 4\n+ 1 2 3 4 +\naction: moveDown\n\n<STEP34>\nstate: (('A', (2, 2)), ('T', (2, 3)), ('M', ((4, 3), (1, 1))), ('O', ((3, 4), (3, 1))))\nheuristic estimation: 3\n+ 1 2 3 4 +\n1 M - - - 1\n2 - A T - 2\n3 O - - O 3\n4 - - M X 4\n+ 1 2 3 4 +\naction: pushRight\n\n<STEP35>\nstate: (('A', (2, 3)), ('T', (2, 4)), ('M', ((4, 3), (1, 1))), ('O', ((3, 4), (3, 1))))\nheuristic estimation: 2\n+ 1 2 3 4 +\n1 M - - - 1\n2 - - A T 2\n3 O - - O 3\n4 - - M X 4\n+ 1 2 3 4 +\naction: moveDown\n\n<STEP36>\nstate: (('A', (3, 3)), ('T', (2, 4)), ('M', ((4, 3), (1, 1))), ('O', ((3, 4), (3, 1))))\nheuristic estimation: 3\n+ 1 2 3 4 +\n1 M - - - 1\n2 - - - T 2\n3 O - A O 3\n4 - - M X 4\n+ 1 2 3 4 +\naction: pullUp\n\n<STEP37>\nstate: (('A', (2, 3)), ('T', (2, 4)), ('M', ((3, 3), (1, 1))), ('O', ((3, 4), (3, 1))))\nheuristic estimation: 2\n+ 1 2 3 4 +\n1 M - - - 1\n2 - - A T 2\n3 O - M O 3\n4 - - - X 4\n+ 1 2 3 4 +\naction: pullUp\n\n<STEP38>\nstate: (('A', (1, 3)), ('T', (2, 4)), ('M', ((2, 3), (1, 1))), ('O', ((3, 4), (3, 1))))\nheuristic estimation: 3\n+ 1 2 3 4 +\n1 M - A - 1\n2 - - M T 2\n3 O - - O 3\n4 - - - X 4\n+ 1 2 3 4 +\naction: moveLeft\n\n<STEP39>\nstate: (('A', (1, 2)), ('T', (2, 4)), ('M', ((2, 3), (1, 1))), ('O', ((3, 4), (3, 1))))\nheuristic estimation: 4\n+ 1 2 3 4 +\n1 M A - - 1\n2 - - M T 2\n3 O - - O 3\n4 - - - X 4\n+ 1 2 3 4 +\naction: moveDown\n\n<STEP40>\nstate: (('A', (2, 2)), ('T', (2, 4)), ('M', ((2, 3), (1, 1))), ('O', ((3, 4), (3, 1))))\nheuristic estimation: 3\n+ 1 2 3 4 +\n1 M - - - 1\n2 - A M T 2\n3 O - - O 3\n4 - - - X 4\n+ 1 2 3 4 +\naction: moveDown\n\n<STEP41>\nstate: (('A', (3, 2)), ('T', (2, 4)), ('M', ((2, 3), (1, 1))), ('O', ((3, 4), (3, 1))))\nheuristic estimation: 4\n+ 1 2 3 4 +\n",
          "name": "stdout"
        },
        {
          "output_type": "stream",
          "text": "1 M - - - 1\n2 - - M T 2\n3 O A - O 3\n4 - - - X 4\n+ 1 2 3 4 +\naction: moveRight\n\n<STEP42>\nstate: (('A', (3, 3)), ('T', (2, 4)), ('M', ((2, 3), (1, 1))), ('O', ((3, 4), (3, 1))))\nheuristic estimation: 3\n+ 1 2 3 4 +\n1 M - - - 1\n2 - - M T 2\n3 O - A O 3\n4 - - - X 4\n+ 1 2 3 4 +\naction: pushUp\n\n<STEP43>\nstate: (('A', (2, 3)), ('T', (2, 4)), ('M', ((1, 3), (1, 1))), ('O', ((3, 4), (3, 1))))\nheuristic estimation: 2\n+ 1 2 3 4 +\n1 M - M - 1\n2 - - A T 2\n3 O - - O 3\n4 - - - X 4\n+ 1 2 3 4 +\naction: pullLeft\n\n<STEP44>\nstate: (('A', (2, 2)), ('T', (2, 3)), ('M', ((1, 3), (1, 1))), ('O', ((3, 4), (3, 1))))\nheuristic estimation: 3\n+ 1 2 3 4 +\n1 M - M - 1\n2 - A T - 2\n3 O - - O 3\n4 - - - X 4\n+ 1 2 3 4 +\naction: moveUp\n\n<STEP45>\nstate: (('A', (1, 2)), ('T', (2, 3)), ('M', ((1, 3), (1, 1))), ('O', ((3, 4), (3, 1))))\nheuristic estimation: 4\n+ 1 2 3 4 +\n1 M A M - 1\n2 - - T - 2\n3 O - - O 3\n4 - - - X 4\n+ 1 2 3 4 +\naction: pushRight\n\n<STEP46>\nstate: (('A', (1, 3)), ('T', (2, 3)), ('M', ((1, 4), (1, 1))), ('O', ((3, 4), (3, 1))))\nheuristic estimation: 3\n+ 1 2 3 4 +\n1 M - A M 1\n2 - - T - 2\n3 O - - O 3\n4 - - - X 4\n+ 1 2 3 4 +\naction: pushDown\n\n<STEP47>\nstate: (('A', (2, 3)), ('T', (3, 3)), ('M', ((1, 4), (1, 1))), ('O', ((3, 4), (3, 1))))\nheuristic estimation: 2\n+ 1 2 3 4 +\n1 M - - M 1\n2 - - A - 2\n3 O - T O 3\n4 - - - X 4\n+ 1 2 3 4 +\naction: pushDown\n\n<STEP48>\nstate: (('A', (3, 3)), ('T', (4, 3)), ('M', ((1, 4), (1, 1))), ('O', ((3, 4), (3, 1))))\nheuristic estimation: 1\n+ 1 2 3 4 +\n1 M - - M 1\n2 - - - - 2\n3 O - A O 3\n4 - - T X 4\n+ 1 2 3 4 +\naction: moveLeft\n\n<STEP49>\nstate: (('A', (3, 2)), ('T', (4, 3)), ('M', ((1, 4), (1, 1))), ('O', ((3, 4), (3, 1))))\nheuristic estimation: 2\n+ 1 2 3 4 +\n1 M - - M 1\n2 - - - - 2\n3 O A - O 3\n4 - - T X 4\n+ 1 2 3 4 +\naction: moveDown\n\n<STEP50>\nstate: (('A', (4, 2)), ('T', (4, 3)), ('M', ((1, 4), (1, 1))), ('O', ((3, 4), (3, 1))))\nheuristic estimation: 1\n+ 1 2 3 4 +\n1 M - - M 1\n2 - - - - 2\n3 O - - O 3\n4 - A T X 4\n+ 1 2 3 4 +\naction: pushRight\n\n<STEP51>\nstate: (('A', (4, 3)), ('T', (4, 4)), ('M', ((1, 4), (1, 1))), ('O', ((3, 4), (3, 1))))\nheuristic estimation: 0\n+ 1 2 3 4 +\n1 M - - M 1\n2 - - - - 2\n3 O - - O 3\n4 - - A T 4\n+ 1 2 3 4 +\n",
          "name": "stdout"
        }
      ]
    },
    {
      "metadata": {
        "trusted": true
      },
      "cell_type": "code",
      "source": "",
      "execution_count": null,
      "outputs": []
    }
  ],
  "metadata": {
    "kernelspec": {
      "name": "python36",
      "display_name": "Python 3.6",
      "language": "python"
    },
    "language": "fsharp",
    "language_info": {
      "mimetype": "text/x-python",
      "nbconvert_exporter": "python",
      "name": "python",
      "pygments_lexer": "ipython3",
      "version": "3.6.6",
      "file_extension": ".py",
      "codemirror_mode": {
        "version": 3,
        "name": "ipython"
      }
    }
  },
  "nbformat": 4,
  "nbformat_minor": 2
}