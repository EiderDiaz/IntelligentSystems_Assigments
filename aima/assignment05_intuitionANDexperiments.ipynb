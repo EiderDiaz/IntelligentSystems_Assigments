{
  "cells": [
    {
      "metadata": {
        "trusted": true
      },
      "cell_type": "code",
      "source": "import sys\nimport os\nsys.path.append(\"./AIMA/\")\nfrom knights2 import *",
      "execution_count": 1,
      "outputs": []
    },
    {
      "metadata": {
        "trusted": true
      },
      "cell_type": "code",
      "source": "#Example of a game step by step\nplay_game(Knights_Move(), alphabeta_player(1), alphabeta_player(1))",
      "execution_count": 3,
      "outputs": [
        {
          "output_type": "stream",
          "text": "INITIAL BOARD\n\\ 1 2 3 4 5 6 7 8 /\n1 . . . . . . . . 1\n2 . . . . . . . . 2\n3 . . . . . . 2 . 3\n4 . . . . . . . . 4\n5 . . . . . . . . 5\n6 . . . . . 1 . . 6\n7 . . . . . . . . 7\n8 . . . . . . . . 8\n/ 1 2 3 4 5 6 7 8 \\\nPLAY # 1\nlegal moves= [(8, 5), (8, 7), (7, 8), (5, 8), (4, 7), (4, 5), (5, 4), (7, 4)]\nPlayer 1 selects (8, 5)\n\\ 1 2 3 4 5 6 7 8 /\n1 . . . . . . . . 1\n2 . . . . . . . . 2\n3 . . . . . . 2 . 3\n4 . . . . . . . . 4\n5 . . . . . . . . 5\n6 . . . . . _ . . 6\n7 . . . . . . . . 7\n8 . . . . 1 . . . 8\n/ 1 2 3 4 5 6 7 8 \\\nlegal moves= [(5, 6), (5, 8), (1, 8), (1, 6), (2, 5), (4, 5)]\nPlayer 2 selects (5, 6)\n\\ 1 2 3 4 5 6 7 8 /\n1 . . . . . . . . 1\n2 . . . . . . . . 2\n3 . . . . . . _ . 3\n4 . . . . . . . . 4\n5 . . . . . 2 . . 5\n6 . . . . . _ . . 6\n7 . . . . . . . . 7\n8 . . . . 1 . . . 8\n/ 1 2 3 4 5 6 7 8 \\\nPLAY # 2\nlegal moves= [(7, 7), (6, 4), (7, 3)]\nPlayer 1 selects (7, 7)\n\\ 1 2 3 4 5 6 7 8 /\n1 . . . . . . . . 1\n2 . . . . . . . . 2\n3 . . . . . . _ . 3\n4 . . . . . . . . 4\n5 . . . . . 2 . . 5\n6 . . . . . _ . . 6\n7 . . . . . . 1 . 7\n8 . . . . _ . . . 8\n/ 1 2 3 4 5 6 7 8 \\\nlegal moves= [(7, 5), (6, 8), (4, 8), (3, 5), (4, 4), (6, 4)]\nPlayer 2 selects (7, 5)\n\\ 1 2 3 4 5 6 7 8 /\n1 . . . . . . . . 1\n2 . . . . . . . . 2\n3 . . . . . . _ . 3\n4 . . . . . . . . 4\n5 . . . . . _ . . 5\n6 . . . . . _ . . 6\n7 . . . . 2 . 1 . 7\n8 . . . . _ . . . 8\n/ 1 2 3 4 5 6 7 8 \\\nPLAY # 3\nlegal moves= [(5, 8), (6, 5)]\nPlayer 1 selects (5, 8)\n\\ 1 2 3 4 5 6 7 8 /\n1 . . . . . . . . 1\n2 . . . . . . . . 2\n3 . . . . . . _ . 3\n4 . . . . . . . . 4\n5 . . . . . _ . 1 5\n6 . . . . . _ . . 6\n7 . . . . 2 . _ . 7\n8 . . . . _ . . . 8\n/ 1 2 3 4 5 6 7 8 \\\nlegal moves= [(8, 7), (6, 7), (5, 4), (6, 3), (8, 3)]\nPlayer 2 selects (8, 7)\n\\ 1 2 3 4 5 6 7 8 /\n1 . . . . . . . . 1\n2 . . . . . . . . 2\n3 . . . . . . _ . 3\n4 . . . . . . . . 4\n5 . . . . . _ . 1 5\n6 . . . . . _ . . 6\n7 . . . . _ . _ . 7\n8 . . . . _ . 2 . 8\n/ 1 2 3 4 5 6 7 8 \\\nPLAY # 4\nlegal moves= [(4, 6)]\nPlayer 1 selects (4, 6)\n\\ 1 2 3 4 5 6 7 8 /\n1 . . . . . . . . 1\n2 . . . . . . . . 2\n3 . . . . . . _ . 3\n4 . . . . . 1 . . 4\n5 . . . . . _ . _ 5\n6 . . . . . _ . . 6\n7 . . . . _ . _ . 7\n8 . . . . _ . 2 . 8\n/ 1 2 3 4 5 6 7 8 \\\nlegal moves= [(6, 8)]\nPlayer 2 selects (6, 8)\n\\ 1 2 3 4 5 6 7 8 /\n1 . . . . . . . . 1\n2 . . . . . . . . 2\n3 . . . . . . _ . 3\n4 . . . . . 1 . . 4\n5 . . . . . _ . _ 5\n6 . . . . . _ . 2 6\n7 . . . . _ . _ . 7\n8 . . . . _ . _ . 8\n/ 1 2 3 4 5 6 7 8 \\\nPLAY # 5\nlegal moves= [(6, 5), (6, 7), (3, 8), (2, 7), (2, 5), (3, 4), (5, 4)]\nPlayer 1 selects (6, 5)\n\\ 1 2 3 4 5 6 7 8 /\n1 . . . . . . . . 1\n2 . . . . . . . . 2\n3 . . . . . . _ . 3\n4 . . . . . _ . . 4\n5 . . . . . _ . _ 5\n6 . . . . 1 _ . 2 6\n7 . . . . _ . _ . 7\n8 . . . . _ . _ . 8\n/ 1 2 3 4 5 6 7 8 \\\nlegal moves= [(4, 7), (7, 6)]\nPlayer 2 selects (4, 7)\n\\ 1 2 3 4 5 6 7 8 /\n1 . . . . . . . . 1\n2 . . . . . . . . 2\n3 . . . . . . _ . 3\n4 . . . . . _ 2 . 4\n5 . . . . . _ . _ 5\n6 . . . . 1 _ . _ 6\n7 . . . . _ . _ . 7\n8 . . . . _ . _ . 8\n/ 1 2 3 4 5 6 7 8 \\\nPLAY # 6\nlegal moves= [(8, 4), (8, 6), (5, 7), (4, 4), (5, 3), (7, 3)]\nPlayer 1 selects (8, 4)\n\\ 1 2 3 4 5 6 7 8 /\n1 . . . . . . . . 1\n2 . . . . . . . . 2\n3 . . . . . . _ . 3\n4 . . . . . _ 2 . 4\n5 . . . . . _ . _ 5\n6 . . . . _ _ . _ 6\n7 . . . . _ . _ . 7\n8 . . . 1 _ . _ . 8\n/ 1 2 3 4 5 6 7 8 \\\nlegal moves= [(2, 8), (2, 6), (3, 5), (5, 5)]\nPlayer 2 selects (2, 8)\n\\ 1 2 3 4 5 6 7 8 /\n1 . . . . . . . . 1\n2 . . . . . . . 2 2\n3 . . . . . . _ . 3\n4 . . . . . _ _ . 4\n5 . . . . . _ . _ 5\n6 . . . . _ _ . _ 6\n7 . . . . _ . _ . 7\n8 . . . 1 _ . _ . 8\n/ 1 2 3 4 5 6 7 8 \\\nPLAY # 7\nlegal moves= [(7, 6), (6, 3), (7, 2)]\nPlayer 1 selects (7, 6)\n\\ 1 2 3 4 5 6 7 8 /\n1 . . . . . . . . 1\n2 . . . . . . . 2 2\n3 . . . . . . _ . 3\n4 . . . . . _ _ . 4\n5 . . . . . _ . _ 5\n6 . . . . _ _ . _ 6\n7 . . . . _ 1 _ . 7\n8 . . . _ _ . _ . 8\n/ 1 2 3 4 5 6 7 8 \\\nlegal moves= [(1, 6), (3, 6)]\nPlayer 2 selects (1, 6)\n\\ 1 2 3 4 5 6 7 8 /\n1 . . . . . 2 . . 1\n2 . . . . . . . _ 2\n3 . . . . . . _ . 3\n4 . . . . . _ _ . 4\n5 . . . . . _ . _ 5\n6 . . . . _ _ . _ 6\n7 . . . . _ 1 _ . 7\n8 . . . _ _ . _ . 8\n/ 1 2 3 4 5 6 7 8 \\\nPLAY # 8\nlegal moves= [(8, 8), (5, 7), (5, 5), (6, 4)]\nPlayer 1 selects (8, 8)\n\\ 1 2 3 4 5 6 7 8 /\n1 . . . . . 2 . . 1\n2 . . . . . . . _ 2\n3 . . . . . . _ . 3\n4 . . . . . _ _ . 4\n5 . . . . . _ . _ 5\n6 . . . . _ _ . _ 6\n7 . . . . _ _ _ . 7\n8 . . . _ _ . _ 1 8\n/ 1 2 3 4 5 6 7 8 \\\nlegal moves= [(3, 5), (2, 4)]\nPlayer 2 selects (3, 5)\n\\ 1 2 3 4 5 6 7 8 /\n1 . . . . . _ . . 1\n2 . . . . . . . _ 2\n3 . . . . 2 . _ . 3\n4 . . . . . _ _ . 4\n5 . . . . . _ . _ 5\n6 . . . . _ _ . _ 6\n7 . . . . _ _ _ . 7\n8 . . . _ _ . _ 1 8\n/ 1 2 3 4 5 6 7 8 \\\nPLAY # 9\nlegal moves= [(6, 7)]\nPlayer 1 selects (6, 7)\n\\ 1 2 3 4 5 6 7 8 /\n1 . . . . . _ . . 1\n2 . . . . . . . _ 2\n3 . . . . 2 . _ . 3\n4 . . . . . _ _ . 4\n5 . . . . . _ . _ 5\n6 . . . . _ _ 1 _ 6\n7 . . . . _ _ _ . 7\n8 . . . _ _ . _ _ 8\n/ 1 2 3 4 5 6 7 8 \\\nlegal moves= [(5, 4), (2, 7), (1, 4), (2, 3), (4, 3)]\nPlayer 2 selects (5, 4)\n\\ 1 2 3 4 5 6 7 8 /\n1 . . . . . _ . . 1\n2 . . . . . . . _ 2\n3 . . . . _ . _ . 3\n4 . . . . . _ _ . 4\n5 . . . 2 . _ . _ 5\n6 . . . . _ _ 1 _ 6\n7 . . . . _ _ _ . 7\n8 . . . _ _ . _ _ 8\n/ 1 2 3 4 5 6 7 8 \\\nPLAY # 10\nlegal moves= [(8, 6), (4, 8), (5, 5)]\nPlayer 1 selects (8, 6)\n\\ 1 2 3 4 5 6 7 8 /\n1 . . . . . _ . . 1\n2 . . . . . . . _ 2\n3 . . . . _ . _ . 3\n4 . . . . . _ _ . 4\n5 . . . 2 . _ . _ 5\n6 . . . . _ _ _ _ 6\n7 . . . . _ _ _ . 7\n8 . . . _ _ 1 _ _ 8\n/ 1 2 3 4 5 6 7 8 \\\nlegal moves= [(7, 3), (3, 3), (4, 2), (6, 2)]\nPlayer 2 selects (7, 3)\n\\ 1 2 3 4 5 6 7 8 /\n1 . . . . . _ . . 1\n2 . . . . . . . _ 2\n3 . . . . _ . _ . 3\n4 . . . . . _ _ . 4\n5 . . . _ . _ . _ 5\n6 . . . . _ _ _ _ 6\n7 . . 2 . _ _ _ . 7\n8 . . . _ _ 1 _ _ 8\n/ 1 2 3 4 5 6 7 8 \\\nPLAY # 11\nlegal moves= [(7, 8), (7, 4)]\nPlayer 1 selects (7, 8)\n\\ 1 2 3 4 5 6 7 8 /\n1 . . . . . _ . . 1\n2 . . . . . . . _ 2\n3 . . . . _ . _ . 3\n4 . . . . . _ _ . 4\n5 . . . _ . _ . _ 5\n6 . . . . _ _ _ _ 6\n7 . . 2 . _ _ _ 1 7\n8 . . . _ _ _ _ _ 8\n/ 1 2 3 4 5 6 7 8 \\\nlegal moves= [(5, 2), (6, 1), (8, 1)]\nPlayer 2 selects (5, 2)\n\\ 1 2 3 4 5 6 7 8 /\n1 . . . . . _ . . 1\n2 . . . . . . . _ 2\n3 . . . . _ . _ . 3\n4 . . . . . _ _ . 4\n5 . 2 . _ . _ . _ 5\n6 . . . . _ _ _ _ 6\n7 . . _ . _ _ _ 1 7\n8 . . . _ _ _ _ _ 8\n/ 1 2 3 4 5 6 7 8 \\\nPLAY # 12\nlegal moves= [(5, 7)]\nPlayer 1 selects (5, 7)\n\\ 1 2 3 4 5 6 7 8 /\n1 . . . . . _ . . 1\n2 . . . . . . . _ 2\n3 . . . . _ . _ . 3\n4 . . . . . _ _ . 4\n5 . 2 . _ . _ 1 _ 5\n6 . . . . _ _ _ _ 6\n7 . . _ . _ _ _ _ 7\n8 . . . _ _ _ _ _ 8\n/ 1 2 3 4 5 6 7 8 \\\nlegal moves= [(7, 1), (6, 4), (4, 4), (3, 3), (3, 1)]\nPlayer 2 selects (7, 1)\n\\ 1 2 3 4 5 6 7 8 /\n1 . . . . . _ . . 1\n2 . . . . . . . _ 2\n3 . . . . _ . _ . 3\n4 . . . . . _ _ . 4\n5 . _ . _ . _ 1 _ 5\n6 . . . . _ _ _ _ 6\n7 2 . _ . _ _ _ _ 7\n8 . . . _ _ _ _ _ 8\n/ 1 2 3 4 5 6 7 8 \\\nPLAY # 13\nlegal moves= [(3, 8), (3, 6), (4, 5)]\nPlayer 1 selects (3, 8)\n\\ 1 2 3 4 5 6 7 8 /\n1 . . . . . _ . . 1\n2 . . . . . . . _ 2\n3 . . . . _ . _ 1 3\n4 . . . . . _ _ . 4\n5 . _ . _ . _ _ _ 5\n6 . . . . _ _ _ _ 6\n7 2 . _ . _ _ _ _ 7\n8 . . . _ _ _ _ _ 8\n/ 1 2 3 4 5 6 7 8 \\\nlegal moves= [(8, 3), (6, 3)]\nPlayer 2 selects (8, 3)\n\\ 1 2 3 4 5 6 7 8 /\n1 . . . . . _ . . 1\n2 . . . . . . . _ 2\n3 . . . . _ . _ 1 3\n4 . . . . . _ _ . 4\n5 . _ . _ . _ _ _ 5\n6 . . . . _ _ _ _ 6\n7 _ . _ . _ _ _ _ 7\n8 . . 2 _ _ _ _ _ 8\n/ 1 2 3 4 5 6 7 8 \\\nPLAY # 14\nlegal moves= [(1, 7), (2, 6)]\nPlayer 1 selects (1, 7)\n\\ 1 2 3 4 5 6 7 8 /\n1 . . . . . _ 1 . 1\n2 . . . . . . . _ 2\n3 . . . . _ . _ _ 3\n4 . . . . . _ _ . 4\n5 . _ . _ . _ _ _ 5\n6 . . . . _ _ _ _ 6\n7 _ . _ . _ _ _ _ 7\n8 . . 2 _ _ _ _ _ 8\n/ 1 2 3 4 5 6 7 8 \\\nlegal moves= [(6, 4), (6, 2)]\nPlayer 2 selects (6, 4)\n\\ 1 2 3 4 5 6 7 8 /\n1 . . . . . _ 1 . 1\n2 . . . . . . . _ 2\n3 . . . . _ . _ _ 3\n4 . . . . . _ _ . 4\n5 . _ . _ . _ _ _ 5\n6 . . . 2 _ _ _ _ 6\n7 _ . _ . _ _ _ _ 7\n8 . . _ _ _ _ _ _ 8\n/ 1 2 3 4 5 6 7 8 \\\nPLAY # 15\nlegal moves= [(3, 6), (2, 5)]\nPlayer 1 selects (3, 6)\n\\ 1 2 3 4 5 6 7 8 /\n1 . . . . . _ _ . 1\n2 . . . . . . . _ 2\n3 . . . . _ 1 _ _ 3\n4 . . . . . _ _ . 4\n5 . _ . _ . _ _ _ 5\n6 . . . 2 _ _ _ _ 6\n7 _ . _ . _ _ _ _ 7\n8 . . _ _ _ _ _ _ 8\n/ 1 2 3 4 5 6 7 8 \\\nlegal moves= [(4, 5), (4, 3), (7, 2)]\nPlayer 2 selects (4, 5)\n\\ 1 2 3 4 5 6 7 8 /\n1 . . . . . _ _ . 1\n2 . . . . . . . _ 2\n3 . . . . _ 1 _ _ 3\n4 . . . . 2 _ _ . 4\n5 . _ . _ . _ _ _ 5\n6 . . . _ _ _ _ _ 6\n7 _ . _ . _ _ _ _ 7\n8 . . _ _ _ _ _ _ 8\n/ 1 2 3 4 5 6 7 8 \\\nPLAY # 16\nlegal moves= [(5, 5), (4, 8), (1, 5), (2, 4), (4, 4)]\nPlayer 1 selects (5, 5)\n\\ 1 2 3 4 5 6 7 8 /\n1 . . . . . _ _ . 1\n2 . . . . . . . _ 2\n3 . . . . _ _ _ _ 3\n4 . . . . 2 _ _ . 4\n5 . _ . _ 1 _ _ _ 5\n6 . . . _ _ _ _ _ 6\n7 _ . _ . _ _ _ _ 7\n8 . . _ _ _ _ _ _ 8\n/ 1 2 3 4 5 6 7 8 \\\nlegal moves= [(2, 6), (2, 4), (3, 3), (5, 3)]\nPlayer 2 selects (2, 6)\n\\ 1 2 3 4 5 6 7 8 /\n1 . . . . . _ _ . 1\n2 . . . . . 2 . _ 2\n3 . . . . _ _ _ _ 3\n4 . . . . _ _ _ . 4\n5 . _ . _ 1 _ _ _ 5\n6 . . . _ _ _ _ _ 6\n7 _ . _ . _ _ _ _ 7\n8 . . _ _ _ _ _ _ 8\n/ 1 2 3 4 5 6 7 8 \\\nPLAY # 17\nlegal moves= [(7, 4), (3, 4), (4, 3), (6, 3)]\nPlayer 1 selects (7, 4)\n\\ 1 2 3 4 5 6 7 8 /\n1 . . . . . _ _ . 1\n2 . . . . . 2 . _ 2\n3 . . . . _ _ _ _ 3\n4 . . . . _ _ _ . 4\n",
          "name": "stdout"
        },
        {
          "output_type": "stream",
          "text": "5 . _ . _ _ _ _ _ 5\n6 . . . _ _ _ _ _ 6\n7 _ . _ 1 _ _ _ _ 7\n8 . . _ _ _ _ _ _ 8\n/ 1 2 3 4 5 6 7 8 \\\nlegal moves= [(1, 8), (1, 4), (3, 4)]\nPlayer 2 selects (1, 8)\n\\ 1 2 3 4 5 6 7 8 /\n1 . . . . . _ _ 2 1\n2 . . . . . _ . _ 2\n3 . . . . _ _ _ _ 3\n4 . . . . _ _ _ . 4\n5 . _ . _ _ _ _ _ 5\n6 . . . _ _ _ _ _ 6\n7 _ . _ 1 _ _ _ _ 7\n8 . . _ _ _ _ _ _ 8\n/ 1 2 3 4 5 6 7 8 \\\nPLAY # 18\nlegal moves= [(5, 3), (6, 2), (8, 2)]\nPlayer 1 selects (5, 3)\nEND BOARD\n\\ 1 2 3 4 5 6 7 8 /\n1 . . . . . _ _ 2 1\n2 . . . . . _ . _ 2\n3 . . . . _ _ _ _ 3\n4 . . . . _ _ _ . 4\n5 . _ 1 _ _ _ _ _ 5\n6 . . . _ _ _ _ _ 6\n7 _ . _ _ _ _ _ _ 7\n8 . . _ _ _ _ _ _ 8\n/ 1 2 3 4 5 6 7 8 \\\nPlayer 1 wins!!\n",
          "name": "stdout"
        },
        {
          "output_type": "execute_result",
          "execution_count": 3,
          "data": {
            "text/plain": "1"
          },
          "metadata": {}
        }
      ]
    },
    {
      "metadata": {
        "trusted": true
      },
      "cell_type": "code",
      "source": "#Example of Conant's state (this one is an initial state)\nN = 8\nmoves = [(x, y) for x in range(1, N+1) for y in range(1, N+1)]\nknight1 = random.choice(moves)\nmoves.remove(knight1)\nknight2 = random.choice(moves)\nmoves.remove(knight2)\n#variable created containing who moves next, the location of the knights and ALL cells of the board\ninitialization = GameState(to_move=1, knights={1:knight1, 2:knight2}, moves=set(moves))\nprint(initialization)\n\n#Aterwards ALL cells of the board are filtered according to who moves next and how the knight can move\nmoves = Knights_Move().actions(initialization) #Returns legal moves of knight1 in this example\nprint(\"\\n\" + str(moves))\nKnights_Move().result(initialization, moves[0]) #Applies an action to the state and generates hypothetical new state",
      "execution_count": 59,
      "outputs": [
        {
          "output_type": "stream",
          "text": "GameState(to_move=1, knights={1: (6, 8), 2: (3, 1)}, moves={(7, 3), (4, 7), (1, 3), (4, 8), (5, 6), (2, 8), (6, 6), (7, 7), (2, 1), (6, 2), (1, 6), (3, 7), (2, 5), (5, 1), (8, 5), (5, 8), (7, 2), (1, 2), (6, 7), (3, 3), (5, 5), (8, 1), (7, 6), (4, 4), (6, 3), (1, 5), (3, 6), (2, 2), (8, 6), (4, 1), (1, 1), (6, 4), (3, 2), (2, 6), (5, 4), (8, 2), (7, 1), (4, 5), (5, 2), (1, 4), (7, 5), (2, 3), (8, 7), (4, 2), (6, 5), (3, 5), (2, 7), (5, 3), (7, 8), (8, 3), (4, 6), (6, 1), (5, 7), (3, 8), (7, 4), (1, 8), (8, 8), (4, 3), (1, 7), (3, 4), (2, 4), (8, 4)})\n\n[(8, 7), (4, 7), (5, 6), (7, 6)]\n",
          "name": "stdout"
        },
        {
          "output_type": "execute_result",
          "execution_count": 59,
          "data": {
            "text/plain": "GameState(to_move=2, knights={1: (8, 7), 2: (3, 1)}, moves={(7, 3), (4, 7), (1, 3), (4, 8), (5, 6), (2, 8), (6, 6), (7, 7), (2, 1), (6, 2), (1, 6), (3, 7), (2, 5), (5, 1), (8, 5), (5, 8), (7, 2), (1, 2), (6, 7), (3, 3), (5, 5), (8, 1), (7, 6), (4, 4), (6, 3), (1, 5), (3, 6), (2, 2), (8, 6), (4, 1), (1, 1), (6, 4), (3, 2), (2, 6), (5, 4), (8, 2), (7, 1), (4, 5), (5, 2), (1, 4), (7, 5), (2, 3), (4, 2), (6, 5), (3, 5), (2, 7), (5, 3), (7, 8), (8, 3), (4, 6), (6, 1), (5, 7), (3, 8), (7, 4), (1, 8), (8, 8), (4, 3), (1, 7), (3, 4), (2, 4), (8, 4)})"
          },
          "metadata": {}
        }
      ]
    },
    {
      "metadata": {
        "trusted": true
      },
      "cell_type": "code",
      "source": "#Just an utility to not print stuff in the loop experiments\nclass HiddenPrints:\n    def __enter__(self):\n        self._original_stdout = sys.stdout\n        sys.stdout = open(os.devnull, 'w')\n\n    def __exit__(self, exc_type, exc_val, exc_tb):\n        sys.stdout.close()\n        sys.stdout = self._original_stdout",
      "execution_count": 2,
      "outputs": []
    },
    {
      "metadata": {
        "trusted": true
      },
      "cell_type": "code",
      "source": "#Testing how many games out of 10000 we win without changing the default evaluation function\nwins = 0\nloses = 0\nwith HiddenPrints():\n    for i in range(1, 10000):\n        result = play_game(Knights_Move(), alphabeta_player(1), alphabeta_player(1))\n        if result == 1:\n            wins += 1\n        else:\n            loses += 1\nprint(\"Won games with default evaluation function: \" + str(wins))\nprint(\"(Lost games: \" + str(loses) + \")\")",
      "execution_count": 19,
      "outputs": [
        {
          "output_type": "stream",
          "text": "Won games with default evaluation function: 4993\n(Lost games: 5006)\n",
          "name": "stdout"
        }
      ]
    },
    {
      "metadata": {},
      "cell_type": "markdown",
      "source": "We could say this is like a 50/50 chance of winning more or less.\nIt depends quite a bit on the random starting positions"
    },
    {
      "metadata": {
        "trusted": true
      },
      "cell_type": "code",
      "source": "#Defining the evaluation function and 1 feature\ndef smartKnight(state, player):\n    w_1 = 1\n    f_1 = defend(state, player)\n    \n    evaluation = w_1 * f_1\n    return evaluation\n\ndef defend(state, player):\n    '''Heuristic that evaluates the position of both max a min according to a cell-point system (move_constraints.png).\n    Returns the difference of the max defense value and min defense value'''\n    \n    if player == 1: #Max is knight1\n        player_position = prs = state[1][1]\n        opponent_position = ops = state[1][2]\n    else: #Max is knight2\n        player_position = prs = state[1][2]\n        opponent_position = ops = state[1][1]\n    \n    #MAX DEFENSE CALCULATION\n    if prs[0] == 1 or prs[0] == 8: #Max on top or bottom edge of the board\n        if prs[1] == 1 or prs[1] == 8: #Max in a corner of the board\n            prs_def = 2\n        elif prs[1] == 2 or prs[1] == 7: #Max close to the corner of the board\n            prs_def = 3\n        else: #Max on edge of the board but not close to the corners\n            prs_def = 4\n    \n    elif prs[0] == 2 or prs[0] == 7:\n        if prs[1] == 1 or prs[1] == 8: #Max close to the corner of the board\n            prs_def = 3\n        elif ops[1] == 2 or ops[1] == 7: #Max on edge of the board but not close to the corners\n            prs_def = 4\n        else: #Max on the peripheria of the board center\n            prs_def = 5\n    \n    else:\n        if prs[1] == 1 or prs[1] == 8: #Max on edge of the board but not close to the corners\n            prs_def = 4\n        elif prs[1] == 2 or prs[1] == 7: #Max on the peripheria of the board center\n            prs_def = 5\n        else: #Max in the central 4x4 area of the board\n            prs_def = 8\n    \n    #MIN DEFENSE CALCULATION (same logic as max)\n    if ops[0] == 1 or ops[0] == 8:\n        if ops[1] == 1 or ops[1] == 8:\n            ops_def = 2\n        elif ops[1] == 2 or ops[1] == 7:\n            ops_def = 3\n        else:\n            ops_def = 4\n    \n    elif ops[0] == 2 or ops[0] == 7:\n        if ops[1] == 1 or ops[1] == 8:\n            ops_def = 3\n        elif ops[1] == 2 or ops[1] == 7:\n            ops_def = 4\n        else:\n            ops_def = 5\n    \n    else:\n        if ops[1] == 1 or ops[1] == 8:\n            ops_def = 4\n        elif ops[1] == 2 or ops[1] == 7:\n            ops_def = 5\n        else:\n            ops_def = 8\n    \n    return prs_def - ops_def",
      "execution_count": 8,
      "outputs": []
    },
    {
      "metadata": {
        "trusted": true
      },
      "cell_type": "code",
      "source": "#Testing how many games out of 10000 we win with our evaluation function with defense as its only feature\nwins = 0\nloses = 0\nwith HiddenPrints():\n    for i in range(1, 10000):\n        result = play_game(Knights_Move(), alphabeta_player(depth=1, eval_fn=smartKnight), alphabeta_player(1))\n        if result == 1: \n            wins += 1\n        else:\n            loses += 1\nprint(\"Won games with smartKnight function (only defense heuristic): \" + str(wins))\nprint(\"(Lost games: \" + str(loses) + \")\")",
      "execution_count": 4,
      "outputs": [
        {
          "output_type": "stream",
          "text": "Won games with smartKnight function (only escape heuristic): 7450\n(Lost games: 2549)\n",
          "name": "stdout"
        }
      ]
    },
    {
      "metadata": {},
      "cell_type": "markdown",
      "source": "This seemingly increments our chances of winning!\nIn fact when we compute a one tail proportions z-test in R:\n\n`prop.test( x = c(7450, 4993), n = c(10000, 10000), alternative = \"greater\" )$p.value`\n\nWe get a very small p of `2.856481e-281`, in general we can establish that a p value `p <= 0.05` rejects the null hypothesis that both binomial distributions are equal. This indicates that the probability that we got significantly more wins with the defend heuristic than with the default evaluation function is really high."
    },
    {
      "metadata": {
        "trusted": true
      },
      "cell_type": "code",
      "source": "#Testing another standalone heuristic\ndef smartKnight(state, player):\n    w_2 = 1\n    f_2 = attack(state, player)\n    \n    evaluation = w_2 * f_2\n    return evaluation\n\ndef attack(state, player):\n    '''Heuristic that evaluates how offensive a knight is. Returns the difference of the max attack\n    valu and the min attack value.'''\n    \n    if player == 1: #Max is knight1\n        player_position = prs = state[1][1]\n        opponent_position = ops = state[1][2]\n    else: #Max is knight2\n        player_position = prs = state[1][2]\n        opponent_position = ops = state[1][1]\n    \n    #Check if agression exists, agressions are always bilateral because of how knights move\n    agression = False\n    if prs[0] == ops[0] + 1 or prs[0] == ops[0] - 1:\n        if prs[1] == ops[1] + 2 or prs[1] == ops[1] - 2:\n            agression = True #Knights attacking each other in \"short L\" pattern\n    elif prs[0] == ops[0] + 2 or prs[0] == ops[0] - 2:\n        if prs[1] == ops[1] + 1 or prs[1] == ops[1] - 1:\n            agression = True #Knights attacking each other in \"tall L\" pattern\n    \n    #COMPUTE MAX'S ATTACK VALUE\n    if agression == True:\n        if ops[0] == 1 or ops[0] == 8: #Min is vulnerable on the edge of the board\n            prs_attack = 2\n            if ops[1] == 1 or ops[1] == 8: #Min is trapped in the corner of the board\n                prs_attack = 3\n        elif ops[1] == 1 or ops[1] == 8: #Min is vulnerable on the edge of the board\n            prs_attack = 2\n        else: #The has a good chance of being unimportant as it is not happening in the edge of the board\n            prs_attack = 0\n    \n    #COMPUTE MIN'S ATTACK VALUE (same logic as max)\n    if agression == True:\n        if prs[0] == 1 or prs[0] == 8:\n            ops_attack = 2\n            if prs[1] == 1 or prs[1] == 8:\n                ops_attack = 3\n        elif prs[1] == 1 or prs[1] == 8:\n            ops_attack = 2\n        else:\n            ops_attack = 0\n    \n    if agression == True:\n        return prs_attack - ops_attack\n    else: #Indirectly promote agression if it doesn't exits yet\n        return -1",
      "execution_count": 12,
      "outputs": []
    },
    {
      "metadata": {
        "trusted": true
      },
      "cell_type": "code",
      "source": "#Testing how many games out of 10000 we win with our evaluation function with one feature (attack heuristic)\nwins = 0\nloses = 0\nwith HiddenPrints():\n    for i in range(1, 10000):\n        result = play_game(Knights_Move(), alphabeta_player(depth=1, eval_fn=smartKnight), alphabeta_player(1))\n        if result == 1:\n            wins += 1\n        else:\n            loses += 1\nprint(\"Won games with smartKnight function (attack heuristic): \" + str(wins))\nprint(\"(Lost games: \" + str(loses) + \")\")",
      "execution_count": 6,
      "outputs": [
        {
          "output_type": "stream",
          "text": "Won games with smartKnight function (attack heuristic): 6205\n(Lost games: 3794)\n",
          "name": "stdout"
        }
      ]
    },
    {
      "metadata": {},
      "cell_type": "markdown",
      "source": "There seems to be an improvement of wins here over just using the default evaluation function. When the two proportions are tested in R:\n\n`prop.test( x = c(6205, 4993), n = c(10000, 10000), alternative = \"greater\" )$p.value`\n\nusing the one-tailed z-test we get a p value of `5.559969e-67` which indicates that the attack heuristic does help win more games. Now lets try combining the two heuristics we have so far:"
    },
    {
      "metadata": {
        "trusted": true
      },
      "cell_type": "code",
      "source": "#Defining the evaluation function with 2 features\ndef smartKnight(state, player):\n    w_1 = 1\n    f_1 = defend(state, player)\n    \n    w_2 = 1\n    f_2 = attack(state, player)\n    \n    evaluation = w_1*f_1 + w_2*f_2\n    return evaluation",
      "execution_count": 10,
      "outputs": []
    },
    {
      "metadata": {
        "trusted": true
      },
      "cell_type": "code",
      "source": "#Testing how many games out of 10000 we win with our evaluation function with the two features combined\nwins = 0\nloses = 0\nwith HiddenPrints():\n    for i in range(1, 10000):\n        result = play_game(Knights_Move(), alphabeta_player(depth=1, eval_fn=smartKnight), alphabeta_player(1))\n        if result == 1:\n            wins += 1\n        else:\n            loses += 1\nprint(\"Won games with smartKnight function (combined heuristics): \" + str(wins))\nprint(\"(Lost games: \" + str(loses) + \")\")",
      "execution_count": 11,
      "outputs": [
        {
          "output_type": "stream",
          "text": "Won games with smartKnight function (combined heuristics): 8058\n(Lost games: 1941)\n",
          "name": "stdout"
        }
      ]
    },
    {
      "metadata": {
        "trusted": true
      },
      "cell_type": "markdown",
      "source": "This time we will perform the statistical test against the performance of the defend heuristic alone which was our best result so far:\n\n`prop.test( x = c(8058, 7450), n = c(10000, 10000), alternative = \"greater\" )$p.value`\n\nThis yields a p value of `4.115462e-25` which strongly indicates that this combination of heuristics is better than just defend alone. However we think it might be possible to improve the performance of this evaluation function by tuning the weight of the attack heuristic under the intuition presented in \"attack.png\":"
    },
    {
      "metadata": {
        "trusted": true
      },
      "cell_type": "code",
      "source": "#Defining the evaluation function with 2 features and tuned weight for heuristic attack\ndef smartKnight(state, player):\n    w_1 = 1\n    f_1 = defend(state, player)\n    \n    w_2 = 1.5\n    f_2 = attack(state, player)\n    \n    evaluation = w_1*f_1 + w_2*f_2\n    return evaluation",
      "execution_count": 17,
      "outputs": []
    },
    {
      "metadata": {
        "trusted": true
      },
      "cell_type": "code",
      "source": "#Testing how many games out of 10000 we win with our evaluation function with the two features combined and tuning\nwins = 0\nloses = 0\nwith HiddenPrints():\n    for i in range(1, 10000):\n        result = play_game(Knights_Move(), alphabeta_player(depth=1, eval_fn=smartKnight), alphabeta_player(1))\n        if result == 1:\n            wins += 1\n        else:\n            loses += 1\nprint(\"Won games with smartKnight function (combined heuristics with tuned attack): \" + str(wins))\nprint(\"(Lost games: \" + str(loses) + \")\")",
      "execution_count": 18,
      "outputs": [
        {
          "output_type": "stream",
          "text": "Won games with smartKnight function (combined heuristics with tuned attack): 8105\n(Lost games: 1894)\n",
          "name": "stdout"
        }
      ]
    },
    {
      "metadata": {},
      "cell_type": "markdown",
      "source": "Let us test this apparent improvent against the last experiment without tuning the parameter:\n\n`prop.test( x = c(8058, 8105), n = c(10000, 10000), alternative = \"greater\" )$p.value`\n\nThe result is a p-value of `0.7956173` which statistically indicates that the apparent performance improvement is not significant. However since the tuned weight doesn't negatively affect the agent and it is concordant with our intuition we are considering leaving it in with the adjustement."
    },
    {
      "metadata": {
        "trusted": true
      },
      "cell_type": "code",
      "source": "def smartKnight(state, player):\n    w_3 = 1\n    f_3 = stall(state, player)\n    \n    evaluation = w_3*f_3\n    return evaluation\n\ndef stall(state, player):\n    if player == 1: #Max is knight1\n        player_position = prs = state[1][1]\n        opponent_position = ops = state[1][2]\n    else: #Max is knight2\n        player_position = prs = state[1][2]\n        opponent_position = ops = state[1][1]\n    \n    prs_center = (prs[0] - 4)^2 + (prs[1] - 4)^2\n    ops_center = (ops[0] - 4)^2 + (ops[1] - 4)^2\n    \n    return prs_center - ops_center",
      "execution_count": 49,
      "outputs": []
    },
    {
      "metadata": {
        "trusted": true
      },
      "cell_type": "code",
      "source": "wins = 0\nloses = 0\nwith HiddenPrints():\n    for i in range(1, 10000):\n        result = play_game(Knights_Move(), alphabeta_player(depth=1, eval_fn=smartKnight), alphabeta_player(1))\n        if result == 1:\n            wins += 1\n        else:\n            loses += 1\nprint(\"Won games with smartKnight function (stall heuristic): \" + str(wins))\nprint(\"(Lost games: \" + str(loses) + \")\")",
      "execution_count": 50,
      "outputs": [
        {
          "output_type": "stream",
          "text": "Won games with smartKnight function (stall heuristic): 7762\n(Lost games: 2237)\n",
          "name": "stdout"
        }
      ]
    },
    {
      "metadata": {},
      "cell_type": "markdown",
      "source": "prop.test( x = c(5391, 4993), n = c(10000, 10000), alternative = \"greater\" )$p.value"
    },
    {
      "metadata": {
        "trusted": true
      },
      "cell_type": "code",
      "source": "#Defining the evaluation function and 1 feature\ndef smartKnight(state, player):\n    w_3 = 1\n    f_3 = defendSquare(state, player)\n    \n    evaluation = w_3 * f_3\n    return evaluation\n\ndef defendSquare(state, player):\n    '''Heuristic that evaluates the position of both max a min according to a cell-point system (move_constraints.png).\n    Returns the difference of the max defense value and min defense value'''\n    \n    if player == 1: #Max is knight1\n        player_position = prs = state[1][1]\n        opponent_position = ops = state[1][2]\n    else: #Max is knight2\n        player_position = prs = state[1][2]\n        opponent_position = ops = state[1][1]\n    \n    #MAX DEFENSE CALCULATION\n    if prs[0] == 1 or prs[0] == 8: #Max on top or bottom edge of the board\n        if prs[1] == 1 or prs[1] == 8: #Max in a corner of the board\n            prs_def = 2\n        elif prs[1] == 2 or prs[1] == 7: #Max close to the corner of the board\n            prs_def = 3\n        else: #Max on edge of the board but not close to the corners\n            prs_def = 4\n    \n    elif prs[0] == 2 or prs[0] == 7:\n        if prs[1] == 1 or prs[1] == 8: #Max close to the corner of the board\n            prs_def = 3\n        elif ops[1] == 2 or ops[1] == 7: #Max on edge of the board but not close to the corners\n            prs_def = 4\n        else: #Max on the peripheria of the board center\n            prs_def = 5\n    \n    else:\n        if prs[1] == 1 or prs[1] == 8: #Max on edge of the board but not close to the corners\n            prs_def = 4\n        elif prs[1] == 2 or prs[1] == 7: #Max on the peripheria of the board center\n            prs_def = 5\n        else: #Max in the central 4x4 area of the board\n            prs_def = 8\n    \n    #MIN DEFENSE CALCULATION (same logic as max)\n    if ops[0] == 1 or ops[0] == 8:\n        if ops[1] == 1 or ops[1] == 8:\n            ops_def = 2\n        elif ops[1] == 2 or ops[1] == 7:\n            ops_def = 3\n        else:\n            ops_def = 4\n    \n    elif ops[0] == 2 or ops[0] == 7:\n        if ops[1] == 1 or ops[1] == 8:\n            ops_def = 3\n        elif ops[1] == 2 or ops[1] == 7:\n            ops_def = 4\n        else:\n            ops_def = 5\n    \n    else:\n        if ops[1] == 1 or ops[1] == 8:\n            ops_def = 4\n        elif ops[1] == 2 or ops[1] == 7:\n            ops_def = 5\n        else:\n            ops_def = 8\n    \n    return prs_def - (2 * ops_def)",
      "execution_count": 45,
      "outputs": []
    },
    {
      "metadata": {
        "trusted": true
      },
      "cell_type": "code",
      "source": "wins = 0\nloses = 0\nwith HiddenPrints():\n    for i in range(1, 10000):\n        result = play_game(Knights_Move(), alphabeta_player(depth=1, eval_fn=smartKnight), alphabeta_player(1))\n        if result == 1:\n            wins += 1\n        else:\n            loses += 1\nprint(\"Won games with smartKnight function (stall heuristic): \" + str(wins))\nprint(\"(Lost games: \" + str(loses) + \")\")",
      "execution_count": 46,
      "outputs": [
        {
          "output_type": "stream",
          "text": "Won games with smartKnight function (stall heuristic): 7464\n(Lost games: 2535)\n",
          "name": "stdout"
        }
      ]
    },
    {
      "metadata": {
        "trusted": true
      },
      "cell_type": "code",
      "source": "#Defining the evaluation function with 2 features and tuned weight for heuristic attack\ndef smartKnight(state, player):\n    w_1 = 1\n    f_1 = defend(state, player)\n    \n    w_2 = 1.5\n    f_2 = attack(state, player)\n    \n    w_3 = 0.5 #8432 for 1\n    f_3 = stall(state, player)\n    \n    evaluation = w_1*f_1 + w_2*f_2 + w_3*f_3\n    return evaluation",
      "execution_count": 55,
      "outputs": []
    },
    {
      "metadata": {
        "trusted": true
      },
      "cell_type": "code",
      "source": "wins = 0\nloses = 0\nwith HiddenPrints():\n    for i in range(1, 10000):\n        result = play_game(Knights_Move(), alphabeta_player(depth=1, eval_fn=smartKnight), alphabeta_player(1))\n        if result == 1:\n            wins += 1\n        else:\n            loses += 1\nprint(\"Won games with smartKnight function (stall heuristic): \" + str(wins))\nprint(\"(Lost games: \" + str(loses) + \")\")",
      "execution_count": null,
      "outputs": []
    },
    {
      "metadata": {},
      "cell_type": "markdown",
      "source": "`prop.test( x = c(8432, 8105), n = c(10000, 10000), alternative = \"greater\" )$p.value`"
    },
    {
      "metadata": {
        "trusted": true
      },
      "cell_type": "code",
      "source": "#Defining the evaluation function with 2 features and tuned weight for heuristic attack\ndef smartKnight(state, player):\n    w_1 = 0.745\n    f_1 = defend(state, player)\n    \n    w_2 = 0.6205\n    f_2 = attack(state, player)\n    \n    w_3 = 0.7464\n    f_3 = stall(state, player)\n    \n    evaluation = w_1*f_1 + w_2*f_2 + w_3*f_3\n    return evaluation",
      "execution_count": null,
      "outputs": []
    },
    {
      "metadata": {
        "trusted": true
      },
      "cell_type": "code",
      "source": "wins = 0\nloses = 0\nwith HiddenPrints():\n    for i in range(1, 10000):\n        result = play_game(Knights_Move(), alphabeta_player(depth=1, eval_fn=smartKnight), alphabeta_player(1))\n        if result == 1:\n            wins += 1\n        else:\n            loses += 1\nprint(\"Won games with smartKnight function (stall heuristic): \" + str(wins))\nprint(\"(Lost games: \" + str(loses) + \")\")",
      "execution_count": null,
      "outputs": []
    }
  ],
  "metadata": {
    "kernelspec": {
      "name": "python36",
      "display_name": "Python 3.6",
      "language": "python"
    },
    "language_info": {
      "mimetype": "text/x-python",
      "nbconvert_exporter": "python",
      "name": "python",
      "pygments_lexer": "ipython3",
      "version": "3.6.6",
      "file_extension": ".py",
      "codemirror_mode": {
        "version": 3,
        "name": "ipython"
      }
    }
  },
  "nbformat": 4,
  "nbformat_minor": 2
}