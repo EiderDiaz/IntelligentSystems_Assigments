{
  "cells": [
    {
      "metadata": {
        "trusted": true
      },
      "cell_type": "code",
      "source": "import sys\nimport os\nsys.path.append(\"./AIMA/\")\nfrom knights2 import *",
      "execution_count": 1,
      "outputs": []
    },
    {
      "metadata": {
        "trusted": true
      },
      "cell_type": "code",
      "source": "#Example of a game step by step\nplay_game(Knights_Move(), alphabeta_player(1), alphabeta_player(1))",
      "execution_count": 3,
      "outputs": [
        {
          "output_type": "stream",
          "text": "INITIAL BOARD\n\\ 1 2 3 4 5 6 7 8 /\n1 . . . . . . . . 1\n2 . . . . . . . . 2\n3 . . . . . . 2 . 3\n4 . . . . . . . . 4\n5 . . . . . . . . 5\n6 . . . . . 1 . . 6\n7 . . . . . . . . 7\n8 . . . . . . . . 8\n/ 1 2 3 4 5 6 7 8 \\\nPLAY # 1\nlegal moves= [(8, 5), (8, 7), (7, 8), (5, 8), (4, 7), (4, 5), (5, 4), (7, 4)]\nPlayer 1 selects (8, 5)\n\\ 1 2 3 4 5 6 7 8 /\n1 . . . . . . . . 1\n2 . . . . . . . . 2\n3 . . . . . . 2 . 3\n4 . . . . . . . . 4\n5 . . . . . . . . 5\n6 . . . . . _ . . 6\n7 . . . . . . . . 7\n8 . . . . 1 . . . 8\n/ 1 2 3 4 5 6 7 8 \\\nlegal moves= [(5, 6), (5, 8), (1, 8), (1, 6), (2, 5), (4, 5)]\nPlayer 2 selects (5, 6)\n\\ 1 2 3 4 5 6 7 8 /\n1 . . . . . . . . 1\n2 . . . . . . . . 2\n3 . . . . . . _ . 3\n4 . . . . . . . . 4\n5 . . . . . 2 . . 5\n6 . . . . . _ . . 6\n7 . . . . . . . . 7\n8 . . . . 1 . . . 8\n/ 1 2 3 4 5 6 7 8 \\\nPLAY # 2\nlegal moves= [(7, 7), (6, 4), (7, 3)]\nPlayer 1 selects (7, 7)\n\\ 1 2 3 4 5 6 7 8 /\n1 . . . . . . . . 1\n2 . . . . . . . . 2\n3 . . . . . . _ . 3\n4 . . . . . . . . 4\n5 . . . . . 2 . . 5\n6 . . . . . _ . . 6\n7 . . . . . . 1 . 7\n8 . . . . _ . . . 8\n/ 1 2 3 4 5 6 7 8 \\\nlegal moves= [(7, 5), (6, 8), (4, 8), (3, 5), (4, 4), (6, 4)]\nPlayer 2 selects (7, 5)\n\\ 1 2 3 4 5 6 7 8 /\n1 . . . . . . . . 1\n2 . . . . . . . . 2\n3 . . . . . . _ . 3\n4 . . . . . . . . 4\n5 . . . . . _ . . 5\n6 . . . . . _ . . 6\n7 . . . . 2 . 1 . 7\n8 . . . . _ . . . 8\n/ 1 2 3 4 5 6 7 8 \\\nPLAY # 3\nlegal moves= [(5, 8), (6, 5)]\nPlayer 1 selects (5, 8)\n\\ 1 2 3 4 5 6 7 8 /\n1 . . . . . . . . 1\n2 . . . . . . . . 2\n3 . . . . . . _ . 3\n4 . . . . . . . . 4\n5 . . . . . _ . 1 5\n6 . . . . . _ . . 6\n7 . . . . 2 . _ . 7\n8 . . . . _ . . . 8\n/ 1 2 3 4 5 6 7 8 \\\nlegal moves= [(8, 7), (6, 7), (5, 4), (6, 3), (8, 3)]\nPlayer 2 selects (8, 7)\n\\ 1 2 3 4 5 6 7 8 /\n1 . . . . . . . . 1\n2 . . . . . . . . 2\n3 . . . . . . _ . 3\n4 . . . . . . . . 4\n5 . . . . . _ . 1 5\n6 . . . . . _ . . 6\n7 . . . . _ . _ . 7\n8 . . . . _ . 2 . 8\n/ 1 2 3 4 5 6 7 8 \\\nPLAY # 4\nlegal moves= [(4, 6)]\nPlayer 1 selects (4, 6)\n\\ 1 2 3 4 5 6 7 8 /\n1 . . . . . . . . 1\n2 . . . . . . . . 2\n3 . . . . . . _ . 3\n4 . . . . . 1 . . 4\n5 . . . . . _ . _ 5\n6 . . . . . _ . . 6\n7 . . . . _ . _ . 7\n8 . . . . _ . 2 . 8\n/ 1 2 3 4 5 6 7 8 \\\nlegal moves= [(6, 8)]\nPlayer 2 selects (6, 8)\n\\ 1 2 3 4 5 6 7 8 /\n1 . . . . . . . . 1\n2 . . . . . . . . 2\n3 . . . . . . _ . 3\n4 . . . . . 1 . . 4\n5 . . . . . _ . _ 5\n6 . . . . . _ . 2 6\n7 . . . . _ . _ . 7\n8 . . . . _ . _ . 8\n/ 1 2 3 4 5 6 7 8 \\\nPLAY # 5\nlegal moves= [(6, 5), (6, 7), (3, 8), (2, 7), (2, 5), (3, 4), (5, 4)]\nPlayer 1 selects (6, 5)\n\\ 1 2 3 4 5 6 7 8 /\n1 . . . . . . . . 1\n2 . . . . . . . . 2\n3 . . . . . . _ . 3\n4 . . . . . _ . . 4\n5 . . . . . _ . _ 5\n6 . . . . 1 _ . 2 6\n7 . . . . _ . _ . 7\n8 . . . . _ . _ . 8\n/ 1 2 3 4 5 6 7 8 \\\nlegal moves= [(4, 7), (7, 6)]\nPlayer 2 selects (4, 7)\n\\ 1 2 3 4 5 6 7 8 /\n1 . . . . . . . . 1\n2 . . . . . . . . 2\n3 . . . . . . _ . 3\n4 . . . . . _ 2 . 4\n5 . . . . . _ . _ 5\n6 . . . . 1 _ . _ 6\n7 . . . . _ . _ . 7\n8 . . . . _ . _ . 8\n/ 1 2 3 4 5 6 7 8 \\\nPLAY # 6\nlegal moves= [(8, 4), (8, 6), (5, 7), (4, 4), (5, 3), (7, 3)]\nPlayer 1 selects (8, 4)\n\\ 1 2 3 4 5 6 7 8 /\n1 . . . . . . . . 1\n2 . . . . . . . . 2\n3 . . . . . . _ . 3\n4 . . . . . _ 2 . 4\n5 . . . . . _ . _ 5\n6 . . . . _ _ . _ 6\n7 . . . . _ . _ . 7\n8 . . . 1 _ . _ . 8\n/ 1 2 3 4 5 6 7 8 \\\nlegal moves= [(2, 8), (2, 6), (3, 5), (5, 5)]\nPlayer 2 selects (2, 8)\n\\ 1 2 3 4 5 6 7 8 /\n1 . . . . . . . . 1\n2 . . . . . . . 2 2\n3 . . . . . . _ . 3\n4 . . . . . _ _ . 4\n5 . . . . . _ . _ 5\n6 . . . . _ _ . _ 6\n7 . . . . _ . _ . 7\n8 . . . 1 _ . _ . 8\n/ 1 2 3 4 5 6 7 8 \\\nPLAY # 7\nlegal moves= [(7, 6), (6, 3), (7, 2)]\nPlayer 1 selects (7, 6)\n\\ 1 2 3 4 5 6 7 8 /\n1 . . . . . . . . 1\n2 . . . . . . . 2 2\n3 . . . . . . _ . 3\n4 . . . . . _ _ . 4\n5 . . . . . _ . _ 5\n6 . . . . _ _ . _ 6\n7 . . . . _ 1 _ . 7\n8 . . . _ _ . _ . 8\n/ 1 2 3 4 5 6 7 8 \\\nlegal moves= [(1, 6), (3, 6)]\nPlayer 2 selects (1, 6)\n\\ 1 2 3 4 5 6 7 8 /\n1 . . . . . 2 . . 1\n2 . . . . . . . _ 2\n3 . . . . . . _ . 3\n4 . . . . . _ _ . 4\n5 . . . . . _ . _ 5\n6 . . . . _ _ . _ 6\n7 . . . . _ 1 _ . 7\n8 . . . _ _ . _ . 8\n/ 1 2 3 4 5 6 7 8 \\\nPLAY # 8\nlegal moves= [(8, 8), (5, 7), (5, 5), (6, 4)]\nPlayer 1 selects (8, 8)\n\\ 1 2 3 4 5 6 7 8 /\n1 . . . . . 2 . . 1\n2 . . . . . . . _ 2\n3 . . . . . . _ . 3\n4 . . . . . _ _ . 4\n5 . . . . . _ . _ 5\n6 . . . . _ _ . _ 6\n7 . . . . _ _ _ . 7\n8 . . . _ _ . _ 1 8\n/ 1 2 3 4 5 6 7 8 \\\nlegal moves= [(3, 5), (2, 4)]\nPlayer 2 selects (3, 5)\n\\ 1 2 3 4 5 6 7 8 /\n1 . . . . . _ . . 1\n2 . . . . . . . _ 2\n3 . . . . 2 . _ . 3\n4 . . . . . _ _ . 4\n5 . . . . . _ . _ 5\n6 . . . . _ _ . _ 6\n7 . . . . _ _ _ . 7\n8 . . . _ _ . _ 1 8\n/ 1 2 3 4 5 6 7 8 \\\nPLAY # 9\nlegal moves= [(6, 7)]\nPlayer 1 selects (6, 7)\n\\ 1 2 3 4 5 6 7 8 /\n1 . . . . . _ . . 1\n2 . . . . . . . _ 2\n3 . . . . 2 . _ . 3\n4 . . . . . _ _ . 4\n5 . . . . . _ . _ 5\n6 . . . . _ _ 1 _ 6\n7 . . . . _ _ _ . 7\n8 . . . _ _ . _ _ 8\n/ 1 2 3 4 5 6 7 8 \\\nlegal moves= [(5, 4), (2, 7), (1, 4), (2, 3), (4, 3)]\nPlayer 2 selects (5, 4)\n\\ 1 2 3 4 5 6 7 8 /\n1 . . . . . _ . . 1\n2 . . . . . . . _ 2\n3 . . . . _ . _ . 3\n4 . . . . . _ _ . 4\n5 . . . 2 . _ . _ 5\n6 . . . . _ _ 1 _ 6\n7 . . . . _ _ _ . 7\n8 . . . _ _ . _ _ 8\n/ 1 2 3 4 5 6 7 8 \\\nPLAY # 10\nlegal moves= [(8, 6), (4, 8), (5, 5)]\nPlayer 1 selects (8, 6)\n\\ 1 2 3 4 5 6 7 8 /\n1 . . . . . _ . . 1\n2 . . . . . . . _ 2\n3 . . . . _ . _ . 3\n4 . . . . . _ _ . 4\n5 . . . 2 . _ . _ 5\n6 . . . . _ _ _ _ 6\n7 . . . . _ _ _ . 7\n8 . . . _ _ 1 _ _ 8\n/ 1 2 3 4 5 6 7 8 \\\nlegal moves= [(7, 3), (3, 3), (4, 2), (6, 2)]\nPlayer 2 selects (7, 3)\n\\ 1 2 3 4 5 6 7 8 /\n1 . . . . . _ . . 1\n2 . . . . . . . _ 2\n3 . . . . _ . _ . 3\n4 . . . . . _ _ . 4\n5 . . . _ . _ . _ 5\n6 . . . . _ _ _ _ 6\n7 . . 2 . _ _ _ . 7\n8 . . . _ _ 1 _ _ 8\n/ 1 2 3 4 5 6 7 8 \\\nPLAY # 11\nlegal moves= [(7, 8), (7, 4)]\nPlayer 1 selects (7, 8)\n\\ 1 2 3 4 5 6 7 8 /\n1 . . . . . _ . . 1\n2 . . . . . . . _ 2\n3 . . . . _ . _ . 3\n4 . . . . . _ _ . 4\n5 . . . _ . _ . _ 5\n6 . . . . _ _ _ _ 6\n7 . . 2 . _ _ _ 1 7\n8 . . . _ _ _ _ _ 8\n/ 1 2 3 4 5 6 7 8 \\\nlegal moves= [(5, 2), (6, 1), (8, 1)]\nPlayer 2 selects (5, 2)\n\\ 1 2 3 4 5 6 7 8 /\n1 . . . . . _ . . 1\n2 . . . . . . . _ 2\n3 . . . . _ . _ . 3\n4 . . . . . _ _ . 4\n5 . 2 . _ . _ . _ 5\n6 . . . . _ _ _ _ 6\n7 . . _ . _ _ _ 1 7\n8 . . . _ _ _ _ _ 8\n/ 1 2 3 4 5 6 7 8 \\\nPLAY # 12\nlegal moves= [(5, 7)]\nPlayer 1 selects (5, 7)\n\\ 1 2 3 4 5 6 7 8 /\n1 . . . . . _ . . 1\n2 . . . . . . . _ 2\n3 . . . . _ . _ . 3\n4 . . . . . _ _ . 4\n5 . 2 . _ . _ 1 _ 5\n6 . . . . _ _ _ _ 6\n7 . . _ . _ _ _ _ 7\n8 . . . _ _ _ _ _ 8\n/ 1 2 3 4 5 6 7 8 \\\nlegal moves= [(7, 1), (6, 4), (4, 4), (3, 3), (3, 1)]\nPlayer 2 selects (7, 1)\n\\ 1 2 3 4 5 6 7 8 /\n1 . . . . . _ . . 1\n2 . . . . . . . _ 2\n3 . . . . _ . _ . 3\n4 . . . . . _ _ . 4\n5 . _ . _ . _ 1 _ 5\n6 . . . . _ _ _ _ 6\n7 2 . _ . _ _ _ _ 7\n8 . . . _ _ _ _ _ 8\n/ 1 2 3 4 5 6 7 8 \\\nPLAY # 13\nlegal moves= [(3, 8), (3, 6), (4, 5)]\nPlayer 1 selects (3, 8)\n\\ 1 2 3 4 5 6 7 8 /\n1 . . . . . _ . . 1\n2 . . . . . . . _ 2\n3 . . . . _ . _ 1 3\n4 . . . . . _ _ . 4\n5 . _ . _ . _ _ _ 5\n6 . . . . _ _ _ _ 6\n7 2 . _ . _ _ _ _ 7\n8 . . . _ _ _ _ _ 8\n/ 1 2 3 4 5 6 7 8 \\\nlegal moves= [(8, 3), (6, 3)]\nPlayer 2 selects (8, 3)\n\\ 1 2 3 4 5 6 7 8 /\n1 . . . . . _ . . 1\n2 . . . . . . . _ 2\n3 . . . . _ . _ 1 3\n4 . . . . . _ _ . 4\n5 . _ . _ . _ _ _ 5\n6 . . . . _ _ _ _ 6\n7 _ . _ . _ _ _ _ 7\n8 . . 2 _ _ _ _ _ 8\n/ 1 2 3 4 5 6 7 8 \\\nPLAY # 14\nlegal moves= [(1, 7), (2, 6)]\nPlayer 1 selects (1, 7)\n\\ 1 2 3 4 5 6 7 8 /\n1 . . . . . _ 1 . 1\n2 . . . . . . . _ 2\n3 . . . . _ . _ _ 3\n4 . . . . . _ _ . 4\n5 . _ . _ . _ _ _ 5\n6 . . . . _ _ _ _ 6\n7 _ . _ . _ _ _ _ 7\n8 . . 2 _ _ _ _ _ 8\n/ 1 2 3 4 5 6 7 8 \\\nlegal moves= [(6, 4), (6, 2)]\nPlayer 2 selects (6, 4)\n\\ 1 2 3 4 5 6 7 8 /\n1 . . . . . _ 1 . 1\n2 . . . . . . . _ 2\n3 . . . . _ . _ _ 3\n4 . . . . . _ _ . 4\n5 . _ . _ . _ _ _ 5\n6 . . . 2 _ _ _ _ 6\n7 _ . _ . _ _ _ _ 7\n8 . . _ _ _ _ _ _ 8\n/ 1 2 3 4 5 6 7 8 \\\nPLAY # 15\nlegal moves= [(3, 6), (2, 5)]\nPlayer 1 selects (3, 6)\n\\ 1 2 3 4 5 6 7 8 /\n1 . . . . . _ _ . 1\n2 . . . . . . . _ 2\n3 . . . . _ 1 _ _ 3\n4 . . . . . _ _ . 4\n5 . _ . _ . _ _ _ 5\n6 . . . 2 _ _ _ _ 6\n7 _ . _ . _ _ _ _ 7\n8 . . _ _ _ _ _ _ 8\n/ 1 2 3 4 5 6 7 8 \\\nlegal moves= [(4, 5), (4, 3), (7, 2)]\nPlayer 2 selects (4, 5)\n\\ 1 2 3 4 5 6 7 8 /\n1 . . . . . _ _ . 1\n2 . . . . . . . _ 2\n3 . . . . _ 1 _ _ 3\n4 . . . . 2 _ _ . 4\n5 . _ . _ . _ _ _ 5\n6 . . . _ _ _ _ _ 6\n7 _ . _ . _ _ _ _ 7\n8 . . _ _ _ _ _ _ 8\n/ 1 2 3 4 5 6 7 8 \\\nPLAY # 16\nlegal moves= [(5, 5), (4, 8), (1, 5), (2, 4), (4, 4)]\nPlayer 1 selects (5, 5)\n\\ 1 2 3 4 5 6 7 8 /\n1 . . . . . _ _ . 1\n2 . . . . . . . _ 2\n3 . . . . _ _ _ _ 3\n4 . . . . 2 _ _ . 4\n5 . _ . _ 1 _ _ _ 5\n6 . . . _ _ _ _ _ 6\n7 _ . _ . _ _ _ _ 7\n8 . . _ _ _ _ _ _ 8\n/ 1 2 3 4 5 6 7 8 \\\nlegal moves= [(2, 6), (2, 4), (3, 3), (5, 3)]\nPlayer 2 selects (2, 6)\n\\ 1 2 3 4 5 6 7 8 /\n1 . . . . . _ _ . 1\n2 . . . . . 2 . _ 2\n3 . . . . _ _ _ _ 3\n4 . . . . _ _ _ . 4\n5 . _ . _ 1 _ _ _ 5\n6 . . . _ _ _ _ _ 6\n7 _ . _ . _ _ _ _ 7\n8 . . _ _ _ _ _ _ 8\n/ 1 2 3 4 5 6 7 8 \\\nPLAY # 17\nlegal moves= [(7, 4), (3, 4), (4, 3), (6, 3)]\nPlayer 1 selects (7, 4)\n\\ 1 2 3 4 5 6 7 8 /\n1 . . . . . _ _ . 1\n2 . . . . . 2 . _ 2\n3 . . . . _ _ _ _ 3\n4 . . . . _ _ _ . 4\n",
          "name": "stdout"
        },
        {
          "output_type": "stream",
          "text": "5 . _ . _ _ _ _ _ 5\n6 . . . _ _ _ _ _ 6\n7 _ . _ 1 _ _ _ _ 7\n8 . . _ _ _ _ _ _ 8\n/ 1 2 3 4 5 6 7 8 \\\nlegal moves= [(1, 8), (1, 4), (3, 4)]\nPlayer 2 selects (1, 8)\n\\ 1 2 3 4 5 6 7 8 /\n1 . . . . . _ _ 2 1\n2 . . . . . _ . _ 2\n3 . . . . _ _ _ _ 3\n4 . . . . _ _ _ . 4\n5 . _ . _ _ _ _ _ 5\n6 . . . _ _ _ _ _ 6\n7 _ . _ 1 _ _ _ _ 7\n8 . . _ _ _ _ _ _ 8\n/ 1 2 3 4 5 6 7 8 \\\nPLAY # 18\nlegal moves= [(5, 3), (6, 2), (8, 2)]\nPlayer 1 selects (5, 3)\nEND BOARD\n\\ 1 2 3 4 5 6 7 8 /\n1 . . . . . _ _ 2 1\n2 . . . . . _ . _ 2\n3 . . . . _ _ _ _ 3\n4 . . . . _ _ _ . 4\n5 . _ 1 _ _ _ _ _ 5\n6 . . . _ _ _ _ _ 6\n7 _ . _ _ _ _ _ _ 7\n8 . . _ _ _ _ _ _ 8\n/ 1 2 3 4 5 6 7 8 \\\nPlayer 1 wins!!\n",
          "name": "stdout"
        },
        {
          "output_type": "execute_result",
          "execution_count": 3,
          "data": {
            "text/plain": "1"
          },
          "metadata": {}
        }
      ]
    },
    {
      "metadata": {
        "trusted": true
      },
      "cell_type": "code",
      "source": "#Example of Conant's state (this one is an initial state)\nN = 8\nmoves = [(x, y) for x in range(1, N+1) for y in range(1, N+1)]\nknight1 = random.choice(moves)\nmoves.remove(knight1)\nknight2 = random.choice(moves)\nmoves.remove(knight2)\n#variable created containing who moves next, the location of the knights and ALL cells of the board (this is available from player call)\ninitialization = GameState(to_move=1, knights={1:knight1, 2:knight2}, moves=set(moves))\nprint(initialization)\n\n#Aterwards ALL cells of the board are filtered according to who moves next and how the knight can move (this is what goes into MiniMax)\nKnights_Move().actions(initialization) #Returns legal moves of knight1 in this example",
      "execution_count": 4,
      "outputs": [
        {
          "output_type": "stream",
          "text": "GameState(to_move=1, knights={1: (8, 6), 2: (3, 1)}, moves={(7, 3), (4, 7), (1, 3), (4, 8), (5, 6), (2, 8), (6, 6), (7, 7), (2, 1), (6, 2), (1, 6), (3, 7), (2, 5), (5, 1), (8, 5), (5, 8), (7, 2), (1, 2), (6, 7), (3, 3), (5, 5), (8, 1), (7, 6), (4, 4), (6, 3), (1, 5), (3, 6), (2, 2), (4, 1), (1, 1), (6, 4), (3, 2), (2, 6), (5, 4), (8, 2), (7, 1), (4, 5), (5, 2), (1, 4), (7, 5), (2, 3), (8, 7), (4, 2), (6, 5), (3, 5), (2, 7), (5, 3), (7, 8), (8, 3), (4, 6), (6, 8), (6, 1), (5, 7), (3, 8), (7, 4), (1, 8), (8, 8), (4, 3), (1, 7), (3, 4), (2, 4), (8, 4)})\n",
          "name": "stdout"
        },
        {
          "output_type": "execute_result",
          "execution_count": 4,
          "data": {
            "text/plain": "[(7, 8), (6, 7), (6, 5), (7, 4)]"
          },
          "metadata": {}
        }
      ]
    },
    {
      "metadata": {
        "trusted": true
      },
      "cell_type": "code",
      "source": "#Just an utility to not print stuff in the loop experiments\nclass HiddenPrints:\n    def __enter__(self):\n        self._original_stdout = sys.stdout\n        sys.stdout = open(os.devnull, 'w')\n\n    def __exit__(self, exc_type, exc_val, exc_tb):\n        sys.stdout.close()\n        sys.stdout = self._original_stdout",
      "execution_count": 6,
      "outputs": []
    },
    {
      "metadata": {
        "trusted": true
      },
      "cell_type": "code",
      "source": "#Testing how many games out of 10000 we win without changing the default evaluation function\nwins = 0\nloses = 0\nwith HiddenPrints():\n    for i in range(1, 10000):\n        result = play_game(Knights_Move(), alphabeta_player(1), alphabeta_player(1))\n        if result == 1:\n            wins += 1\n        else:\n            loses += 1\nprint(\"Won games with default evaluation function: \" + str(wins))\nprint(\"(Lost games: \" + str(loses) + \")\")",
      "execution_count": 19,
      "outputs": [
        {
          "output_type": "stream",
          "text": "Won games with default evaluation function: 4993\n(Lost games: 5006)\n",
          "name": "stdout"
        }
      ]
    },
    {
      "metadata": {},
      "cell_type": "markdown",
      "source": "We could say this is like a 50/50 chance of winning more or less.\nIt depends quite a bit on the random starting positions"
    },
    {
      "metadata": {
        "trusted": true
      },
      "cell_type": "code",
      "source": "#Defining the evaluation function and 1 feature\ndef smartKnight(state, player):\n    w_1 = 1\n    f_1 = escape(state)\n    \n    evaluation = w_1 * f_1\n    return evaluation\n\n#The escape heuristic favours those positions in which we can moves more freely (see move_constraints.png diagram)\ndef escape(state):\n    our_current_position = ops = state[1][1]\n    \n    if ops[0] == 1 or ops[0] == 8:\n        if ops[1] == 1 or ops[1] == 8:\n            return 2\n        elif ops[1] == 2 or ops[1] == 7:\n            return 3\n        else:\n            return 4\n    \n    elif ops[0] == 2 or ops[0] == 7:\n        if ops[1] == 1 or ops[1] == 8:\n            return 3\n        elif ops[1] == 2 or ops[1] == 7:\n            return 4\n        else:\n            return 5\n    \n    else:\n        if ops[1] == 1 or ops[1] == 8:\n            return 4\n        elif ops[1] == 2 or ops[1] == 7:\n            return 5\n        else:\n            return 8",
      "execution_count": 21,
      "outputs": []
    },
    {
      "metadata": {
        "trusted": true
      },
      "cell_type": "code",
      "source": "#Testing how many games out of 10000 we win with our evaluation function with escape as its only feature\nwins = 0\nloses = 0\nwith HiddenPrints():\n    for i in range(1, 10000):\n        result = play_game(Knights_Move(), alphabeta_player(depth=1, eval_fn=smartKnight), alphabeta_player(1))\n        if result == 1:\n            wins += 1\n        else:\n            loses += 1\nprint(\"Won games with smartKnight function (only escape heuristic): \" + str(wins))\nprint(\"(Lost games: \" + str(loses) + \")\")",
      "execution_count": 22,
      "outputs": [
        {
          "output_type": "stream",
          "text": "Won games with smartKnight function (only escape heuristic): 7851\n(Lost games: 2148)\n",
          "name": "stdout"
        }
      ]
    },
    {
      "metadata": {},
      "cell_type": "markdown",
      "source": "This seemingly increments our chances of winning!"
    },
    {
      "metadata": {
        "trusted": true
      },
      "cell_type": "code",
      "source": "#Defining the evaluation function and 1 feature\ndef smartKnight(state, player):\n    w_1 = -1\n    f_1 = trap(state)\n    \n    evaluation = w_1 * f_1\n    return evaluation\n\n#The trap heuristic favours those positions in which the opponents moves are restrained as\n#its weight in the evaluation function is negative\ndef trap(state):\n    opponent_current_position = ops = state[1][2]\n    \n    if ops[0] == 1 or ops[0] == 8:\n        if ops[1] == 1 or ops[1] == 8:\n            return 2\n        elif ops[1] == 2 or ops[1] == 7:\n            return 3\n        else:\n            return 4\n    \n    elif ops[0] == 2 or ops[0] == 7:\n        if ops[1] == 1 or ops[1] == 8:\n            return 3\n        elif ops[1] == 2 or ops[1] == 7:\n            return 4\n        else:\n            return 5\n    \n    else:\n        if ops[1] == 1 or ops[1] == 8:\n            return 4\n        elif ops[1] == 2 or ops[1] == 7:\n            return 5\n        else:\n            return 8",
      "execution_count": 36,
      "outputs": []
    },
    {
      "metadata": {
        "trusted": true
      },
      "cell_type": "code",
      "source": "#Testing how many games out of 10000 we win with our evaluation function with trap as its only feature\nwins = 0\nloses = 0\nwith HiddenPrints():\n    for i in range(1, 10000):\n        result = play_game(Knights_Move(), alphabeta_player(depth=1, eval_fn=smartKnight), alphabeta_player(1))\n        if result == 1:\n            wins += 1\n        else:\n            loses += 1\nprint(\"Won games with smartKnight function (only trap heuristic): \" + str(wins))\nprint(\"(Lost games: \" + str(loses) + \")\")",
      "execution_count": 37,
      "outputs": [
        {
          "output_type": "stream",
          "text": "Won games with smartKnight function (only trap heuristic): 4945\n(Lost games: 5054)\n",
          "name": "stdout"
        }
      ]
    },
    {
      "metadata": {},
      "cell_type": "markdown",
      "source": "This feature by itself seems to not make a difference and furthermore it could be worsening our performance a bit"
    },
    {
      "metadata": {
        "trusted": true
      },
      "cell_type": "code",
      "source": "#Defining the evaluation function with 2 features\ndef smartKnight(state, player):\n    w_1 = 1\n    f_1 = escape(state)\n    \n    w_2 = -1\n    f_2 = trap(state)\n    \n    evaluation = w_1*f_1 + w_2*f_2\n    return evaluation",
      "execution_count": 26,
      "outputs": []
    },
    {
      "metadata": {
        "trusted": true
      },
      "cell_type": "code",
      "source": "#Testing how many games out of 10000 we win with our evaluation function with the two features combined\nwins = 0\nloses = 0\nwith HiddenPrints():\n    for i in range(1, 10000):\n        result = play_game(Knights_Move(), alphabeta_player(depth=1, eval_fn=smartKnight), alphabeta_player(1))\n        if result == 1:\n            wins += 1\n        else:\n            loses += 1\nprint(\"Won games with smartKnight function (combined heuristics): \" + str(wins))\nprint(\"(Lost games: \" + str(loses) + \")\")",
      "execution_count": 27,
      "outputs": [
        {
          "output_type": "stream",
          "text": "Won games with smartKnight function (combined heuristics): 7719\n(Lost games: 2280)\n",
          "name": "stdout"
        }
      ]
    },
    {
      "metadata": {},
      "cell_type": "markdown",
      "source": "This performs well but apparently not as well as the escape heuristic alone, we might want to drop the trap heuristic."
    },
    {
      "metadata": {},
      "cell_type": "markdown",
      "source": "We need to come up with 2 more heuristic functions to include in the evaluation function. In these tests we are playing against a knight which uses the default evaluation function which is just +1 if you can move or -1 if you can't move."
    },
    {
      "metadata": {
        "trusted": true
      },
      "cell_type": "code",
      "source": "",
      "execution_count": null,
      "outputs": []
    }
  ],
  "metadata": {
    "kernelspec": {
      "name": "python36",
      "display_name": "Python 3.6",
      "language": "python"
    },
    "language_info": {
      "mimetype": "text/x-python",
      "nbconvert_exporter": "python",
      "name": "python",
      "pygments_lexer": "ipython3",
      "version": "3.6.6",
      "file_extension": ".py",
      "codemirror_mode": {
        "version": 3,
        "name": "ipython"
      }
    }
  },
  "nbformat": 4,
  "nbformat_minor": 2
}