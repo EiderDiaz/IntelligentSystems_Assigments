{
  "cells": [
    {
      "metadata": {
        "trusted": true
      },
      "cell_type": "code",
      "source": "import sys\nsys.path.append(\"./AIMA\")\nfrom search import *\nfrom agents import*",
      "execution_count": 21,
      "outputs": []
    },
    {
      "metadata": {
        "trusted": true
      },
      "cell_type": "code",
      "source": "class Tpiece(Thing): #Create a movable piece class\n    pass\n\nclass Mobs(Thing):\n    pass\n\nclass Oobs(Thing):\n    pass\n\nclass Board(Environment): #Create an environment like last assignment\n    pass",
      "execution_count": 22,
      "outputs": []
    },
    {
      "metadata": {
        "trusted": true
      },
      "cell_type": "code",
      "source": "class PSA(SimpleProblemSolvingAgentProgram):\n    def __call__(self, board): #AIMA overrided function because it had some things wrong\n        self.percept = board.things #percept will just be the list of objects in the board environment\n        self.state = self.update_state(self.percept)\n        if not self.seq:\n            goal = self.formulate_goal(self.state)\n            problem = self.formulate_problem(self.state, goal)\n            self.seq.append(self.search(problem))\n            #This was originally self.seq = blabla in AIMA which obviously gives an error when trying to pop it later wtf AIMA\n            if not self.seq:\n                return None\n        return self.seq.pop(0) #self.seq goes back empty for working the next goal\n    \n    def update_state(self, percept): #from board.things it builds a tuple of tuples to represent the initial state of the current step\n        #Format: (('Identification char', (location)), next object of the percept in the same format)\n        #Example: ( ('A', (1, 1)), ('T', (5, 2)) ) <- means a state with agent in 1, 1 and movable piece in 5, 2\n        #Output needs to be tuple because the AIMA graph search function needs hashable data structures to add to the explored set\n        \n        state = {'M': [], 'O': []} #Easier to build the state as a dict\n        for p in percept:\n            if isinstance(p, Agent):\n                state['A'] = p.location\n            elif isinstance(p, Tpiece):\n                state['T'] = p.location\n            elif isinstance(p, Mobs):\n                state['M'].append(p.location)\n            elif isinstance(p, Oobs):\n                state['O'].append(p.location)\n            \n        temp = {}\n        temp['A'] = state['A']\n        temp['T'] = state['T']\n        temp['M'] = tuple(state['M'])\n        temp['O'] = tuple(state['O'])\n        \n        state = []\n        for k in temp.items():\n            state.append(k)\n                \n        state = tuple(state) #convert the state to tuple\n        return state\n\n    def formulate_goal(self, state): #returns the desired state of the current step\n        goal = [(('A', (4,5)), ('T', (5,5))), (('A', (5,4)), ('T', (5,5)))]\n        #Ww gonna test doing everything in one step first\n        return goal\n\n    def formulate_problem(self, state, goal): #create a problem object with the initial state and goal state for this step\n        problem = PushnPull(state, goal)\n        return problem\n    \n    def search(self, problem): #Uses some search algorithm included in AIMA to solve the problem\n        return graph_search(problem, [])\n        ",
      "execution_count": 23,
      "outputs": []
    },
    {
      "metadata": {
        "trusted": true
      },
      "cell_type": "code",
      "source": "class PushnPull(Problem):\n    def actions(self, state):\n        \"\"\"Return the actions that can be executed in the given\n        state. The result would typically be a list, but if there are\n        many actions, consider yielding them one at a time in an\n        iterator, rather than building them all at once.\"\"\"\n\n        possible_actions = []\n        state = dict(state)\n        agent = state['A']\n        treasure = state['T']\n        movable = []\n        obstacles = []\n        movable_objects = []\n\n        if 'M' in state:\n            movable = state['M']\n        if 'O' in state:\n            obstacles =  list(state['O'])\n\n        movable_objects.append(treasure)\n        for m in movable:\n            movable_objects.append(m)\n\n        # Booleans for movable objects\n        movable_up = checkObject(agent, movable_objects, 'up')\n        movable_down = checkObject(agent, movable_objects, 'down')\n        movable_left = checkObject(agent, movable_objects, 'left')\n        movable_right= checkObject(agent, movable_objects, 'right')\n\n        # Booleans for non movable objects\n        obstacle_up = checkObject(agent, obstacles, 'up')\n        obstacle_down = checkObject(agent, obstacles, 'down')\n        obstacle_left = checkObject(agent, obstacles, 'left')\n        obstacle_right = checkObject(agent, obstacles, 'right')\n\n        # Booleans for empty spaces for push/pull\n        can_push_up = checkPushPull(agent, movable_objects, obstacles, 'up', 'push')\n        can_push_down = checkPushPull(agent, movable_objects, obstacles, 'down', 'push')\n        can_push_left = checkPushPull(agent, movable_objects, obstacles, 'left', 'push')\n        can_push_right = checkPushPull(agent, movable_objects, obstacles, 'right', 'push')\n\n        can_pull_up = checkPushPull(agent, movable_objects, obstacles, 'up', 'pull')\n        can_pull_down = checkPushPull(agent, movable_objects, obstacles, 'down', 'pull')\n        can_pull_left = checkPushPull(agent, movable_objects, obstacles, 'left', 'pull')\n        can_pull_right = checkPushPull(agent, movable_objects, obstacles, 'right', 'pull')\n\n        # Check Agent's MOVES\n        if agent[0] > 1 and not movable_up and not obstacle_up:\n            possible_actions.append('moveUp')\n\n        if agent[0] < 5 and not movable_down and not obstacle_down:\n            possible_actions.append('moveDown')\n\n        if agent[1] > 1 and not movable_left and not obstacle_left:\n            possible_actions.append('moveLeft')\n\n        if agent[1] < 5 and not movable_right and not obstacle_right:\n            possible_actions.append('moveRight')\n\n        # Check Agent's PUSHES\n        if agent[0] > 2 and movable_up and can_push_up:\n            possible_actions.append('pushUp')\n\n        if agent[0] < 4 and movable_down and can_push_down:\n            possible_actions.append('pushDown')\n\n        if agent[1] > 2 and movable_left and can_push_left:\n            possible_actions.append('pushLeft')\n\n        if agent[1] < 4 and movable_right and can_push_right:\n            possible_actions.append('pushRight')\n\n        # Check Agent's PULLS\n        if agent[0] > 1 and movable_down and can_pull_up:\n            possible_actions.append('pullUp')\n\n        if agent[0] < 5 and movable_up and can_pull_down:\n            possible_actions.append('pullDown')\n\n        if agent[1] > 1 and movable_right and can_pull_left:\n            possible_actions.append('pullLeft')\n\n        if agent[1] < 5 and movable_left and can_pull_right:\n            possible_actions.append('pullRight')\n\n        return possible_actions\n    \n    def result(self, state, action):\n        \"\"\"Return the state that results from executing the given\n        action in the given state. The action must be one of\n        self.actions(state).\"\"\"\n        temp = dict(state)\n        #converting the state temporarily to a dictionary makes it easier to manip the data, example: {'A': (1,1), 'T': (5, 5)}\n        \n        if action == \"pushRight\":\n            out = []\n            for i in temp['M']:\n                if temp['A'][0] == i[0] and temp['A'][1] + 1 == i[1]:\n                    out.append((i[0], i[1] + 1))\n                else:\n                    out.append((i[0], i[1]))\n            temp['M'] = out\n            if temp['A'][0] == temp['T'][0] and temp['A'][1] + 1 == temp['T'][1]:\n                temp['T'] = (temp['T'][0], temp['T'][1] + 1)\n            temp['A'] = (temp['A'][0], temp['A'][1] + 1) \n            \n        elif action == \"pushLeft\":\n            out = []\n            for i in temp['M']:\n                if temp['A'][0] == i[0] and temp['A'][1] - 1 == i[1]:\n                    out.append((i[0], i[1] - 1))\n                else:\n                    out.append((i[0], i[1]))\n            temp['M'] = out\n            if temp['A'][0] == temp['T'][0] and temp['A'][1] - 1 == temp['T'][1]:\n                temp['T'] = (temp['T'][0], temp['T'][1] - 1)\n            temp['A'] = (temp['A'][0], temp['A'][1] - 1)\n\n        elif action == \"pushUp\":\n            out = []\n            for i in temp['M']:\n                if temp['A'][0] - 1 == i[0] and temp['A'][1] == i[1]:\n                    out.append((i[0] - 1, i[1]))\n                else:\n                    out.append((i[0], i[1]))\n            temp['M'] = out\n            if temp['A'][0] - 1 == temp['T'][0] and temp['A'][1] == temp['T'][1]:\n                temp['T'] = (temp['T'][0] - 1, temp['T'][1])\n            temp['A'] = (temp['A'][0] - 1, temp['A'][1])\n\n        elif action == \"pushDown\":\n            out = []\n            for i in temp['M']:\n                if temp['A'][0] + 1 == i[0] and temp['A'][1] == i[1]:\n                    out.append((i[0] + 1, i[1]))\n                else:\n                    out.append((i[0], i[1]))\n            temp['M'] = out\n            if temp['A'][0] + 1 == temp['T'][0] and temp['A'][1] == temp['T'][1]:\n                temp['T'] = (temp['T'][0] + 1, temp['T'][1])\n            temp['A'] = (temp['A'][0] + 1, temp['A'][1])\n            \n        elif action == \"pullRight\":\n            out = []\n            for i in temp['M']:\n                if temp['A'][0] == i[0] and temp['A'][1] - 1 == i[1]:\n                    out.append((i[0], i[1] + 1))\n                else:\n                    out.append((i[0], i[1]))\n            temp['M'] = out\n            if temp['A'][0] == temp['T'][0] and temp['A'][1] - 1 == temp['T'][1]:\n                temp['T'] = (temp['T'][0], temp['T'][1] + 1)\n            temp['A'] = (temp['A'][0], temp['A'][1] + 1)\n            \n        elif action == \"pullLeft\":\n            out = []\n            for i in temp['M']:\n                if temp['A'][0] == i[0] and temp['A'][1] + 1 == i[1]:\n                    out.append((i[0], i[1] - 1))\n                else:\n                    out.append((i[0], i[1]))\n            temp['M'] = out\n            if temp['A'][0] == temp['T'][0] and temp['A'][1] + 1 == temp['T'][1]:\n                temp['T'] = (temp['T'][0], temp['T'][1] - 1)\n            temp['A'] = (temp['A'][0], temp['A'][1] - 1)\n        \n        elif action == \"pullUp\":\n            out = []\n            for i in temp['M']:\n                if temp['A'][0] + 1 == i[0] and temp['A'][1] == i[1]:\n                    out.append((i[0] - 1, i[1]))\n                else:\n                    out.append((i[0], i[1]))\n            temp['M'] = out\n            if temp['A'][0] + 1 == temp['T'][0] and temp['A'][1] == temp['T'][1]:\n                temp['T'] = (temp['T'][0] - 1, temp['T'][1])\n            temp['A'] = (temp['A'][0] - 1, temp['A'][1])\n            \n        elif action == \"pullDown\":\n            out = []\n            for i in temp['M']:\n                if temp['A'][0] - 1 == i[0] and temp['A'][1] == i[1]:\n                    out.append((i[0] + 1, i[1]))\n                else:\n                    out.append((i[0], i[1]))\n            temp['M'] = out\n            if temp['A'][0] - 1 == temp['T'][0] and temp['A'][1] == temp['T'][1]:\n                temp['T'] = (temp['T'][0] + 1, temp['T'][1])\n            temp['A'] = (temp['A'][0] + 1, temp['A'][1])\n            \n        else:\n            if action == 'moveRight':\n                temp['A'] = (temp['A'][0], temp['A'][1] + 1)\n            elif action == 'moveLeft':\n                temp['A'] = (temp['A'][0], temp['A'][1] - 1)\n            elif action == 'moveUp':\n                temp['A'] = (temp['A'][0] - 1, temp['A'][1])\n            elif action == 'moveDown':\n                temp['A'] = (temp['A'][0] + 1, temp['A'][1])\n            #The new state has the agent move accordingly\n        \n        #This next block simply builds a proper tuple formatted state from the edited dictionary\n        out = {}\n        out['A'] = temp['A']\n        out['T'] = temp['T']\n        out['M'] = tuple(temp['M'])\n        out['O'] = temp['O']\n        \n        result = []\n        for k in out.items():\n            result.append(k)\n                \n        result = tuple(result)\n        return result\n    \n    \n    def goal_test(self, state):\n        state = dict(state)\n        agent = ('A', state['A'])\n        piece = ('T', state['T'])\n\n        for g in self.goal:\n            g_agent = g[0]\n            g_piece = g[1]\n            if g_agent == agent and g_piece == piece:\n                return True\n        return False",
      "execution_count": 27,
      "outputs": []
    },
    {
      "metadata": {
        "trusted": true
      },
      "cell_type": "code",
      "source": "def graph_search(problem, frontier): #This is just a default AIMA search algorithm which is ran from an agent's search method\n    \"\"\"Search through the successors of a problem to find a goal.\n    The argument frontier should be an empty queue.\n    If two paths reach a state, only use the first one. [Figure 3.7]\"\"\"\n    frontier.append(Node(problem.initial))\n    explored = set()\n    while frontier:\n        node = frontier.pop()\n        if problem.goal_test(node.state):\n            return node\n        explored.add(node.state)\n        frontier.extend(child for child in node.expand(problem)\n                        if child.state not in explored and\n                        child not in frontier)\n    return None\n\ndef checkPushPull(agent, movable_objects, obstacles, direction, movement):\n    location = list(agent)\n\n    if direction == 'up':\n        if movement == 'push':\n            location[0] -= 2\n        elif movement == 'pull':\n            location[0] -= 1\n    elif direction == 'down':\n        if movement == 'push':\n            location[0] += 2\n        elif movement == 'pull':\n            location[0] += 1\n    elif direction == 'left':\n        if movement == 'push':\n            location[1] -= 2\n        elif movement == 'pull':\n            location[1] -= 1\n    else:\n        if movement == 'push':\n            location[1] += 2\n        elif movement == 'pull':\n            location[1] += 1\n\n    if location[0] > 5 or location[0] < 1 or location[1] > 5 or location[1] < 1:\n        return False\n\n    for ob in obstacles:\n        if tuple(location) == ob:\n            return False\n\n    for mo in movable_objects:\n        if tuple(location) == mo:\n            return False\n    return True\n\ndef checkObject(agent, objects, direction):\n    location = list(agent)\n\n    if direction == 'up':\n        location[0] -= 1\n    elif direction == 'down':\n        location[0] += 1\n    elif direction == 'left':\n        location[1] -= 1\n    else:\n        location[1] += 1\n\n    if location[0] > 5 or location[0] < 1 or location[1] > 5 or location[1] < 1:\n        return False\n\n    for ob in objects:\n        if tuple(location) == ob:\n            return True\n\n    return False",
      "execution_count": 25,
      "outputs": []
    },
    {
      "metadata": {
        "trusted": true
      },
      "cell_type": "code",
      "source": "#This is the process for using the code above and solving board 1 of the assignment\n\n#Create an empty board, a movable piece and an agent\nboard1 = Board()\nt1 = Tpiece()\nmike = PSA()\n\n#Add things to the board/env as specified for board1 in the assignment\nboard1.add_thing(mike, (1, 1))\nboard1.add_thing(t1, (5, 2))\n\n#Reach the first goal state (agent wants to go near the piece to move it) and save the resulting node class object to a variable\nfirst_goal = mike(board1) #This executes the __call__ method of the agent which is where the whole process starts",
      "execution_count": 35,
      "outputs": []
    },
    {
      "metadata": {
        "trusted": true
      },
      "cell_type": "code",
      "source": "#second board\nboard2 = Board()\nt1 = Tpiece()\nm1 = Mobs()\nm2 = Mobs()\nm3 = Mobs()\no1 = Oobs()\no2 = Oobs()\nmike = PSA()\n\nboard2.add_thing(mike, (5, 1))\nboard2.add_thing(t1, (2, 3))\nboard2.add_thing(m1, (3, 2))\nboard2.add_thing(m2, (3, 3))\nboard2.add_thing(m3, (3, 4))\nboard2.add_thing(o1, (3, 1))\nboard2.add_thing(o2, (3, 5))\n\nfirst_goal = mike(board2)",
      "execution_count": 38,
      "outputs": []
    },
    {
      "metadata": {
        "trusted": true
      },
      "cell_type": "code",
      "source": "def printStateMatrix(state):\n    temp = dict(test)\n    \n    for i in range(1, 8):\n        for j in range(1, 8):\n            if i == 1:\n                if j == 1:\n                    print('+ ', end = '')\n                elif j == 7:\n                    print('+')\n                else:\n                    print(str(j - 1) + ' ', end = '')\n            \n            elif i == 7:\n                if j == 1:\n                    print('+ ', end = '')\n                elif j == 7:\n                    print('+')\n                else:\n                    print(str(j - 1) + ' ', end = '')\n            \n            else:\n                if j == 1:\n                    print(str(i - 1) + ' ', end = '')\n                elif j == 7:\n                    print(str(i - 1))\n                else:\n                    if temp['A'] == (i - 1, j - 1):\n                        print('A ', end = '')\n                    elif temp['T'] == (i - 1, j - 1):\n                        print('T ', end = '')\n                    elif [locus for locus in list(temp['M']) if locus == (i - 1, j - 1)]:\n                        print ('M ', end = '')\n                    elif [locus for locus in list(temp['O']) if locus == (i - 1, j - 1)]:\n                        print ('O ', end = '')\n                    else:\n                        print('- ', end = '')",
      "execution_count": 45,
      "outputs": []
    },
    {
      "metadata": {
        "trusted": true
      },
      "cell_type": "code",
      "source": "printStateMatrix(first_goal.path()[-1].state)",
      "execution_count": 46,
      "outputs": [
        {
          "output_type": "stream",
          "text": "+ 1 2 3 4 5 +\n1 - - - - - 1\n2 - - T - - 2\n3 O M M M O 3\n4 - - - - - 4\n5 A - - - - 5\n+ 1 2 3 4 5 +\n",
          "name": "stdout"
        }
      ]
    },
    {
      "metadata": {
        "trusted": true
      },
      "cell_type": "code",
      "source": "len(first_goal.path())",
      "execution_count": 47,
      "outputs": [
        {
          "output_type": "execute_result",
          "execution_count": 47,
          "data": {
            "text/plain": "11502"
          },
          "metadata": {}
        }
      ]
    },
    {
      "metadata": {
        "trusted": true
      },
      "cell_type": "code",
      "source": "",
      "execution_count": 42,
      "outputs": [
        {
          "output_type": "execute_result",
          "execution_count": 42,
          "data": {
            "text/plain": "'pushRight'"
          },
          "metadata": {}
        }
      ]
    },
    {
      "metadata": {
        "trusted": true
      },
      "cell_type": "code",
      "source": "",
      "execution_count": null,
      "outputs": []
    }
  ],
  "metadata": {
    "kernelspec": {
      "name": "python36",
      "display_name": "Python 3.6",
      "language": "python"
    },
    "language": "fsharp",
    "language_info": {
      "mimetype": "text/x-python",
      "nbconvert_exporter": "python",
      "name": "python",
      "pygments_lexer": "ipython3",
      "version": "3.6.6",
      "file_extension": ".py",
      "codemirror_mode": {
        "version": 3,
        "name": "ipython"
      }
    }
  },
  "nbformat": 4,
  "nbformat_minor": 2
}