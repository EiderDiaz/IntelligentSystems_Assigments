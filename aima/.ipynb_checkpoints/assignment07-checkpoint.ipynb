{
 "cells": [
  {
   "cell_type": "code",
   "execution_count": 7,
   "metadata": {},
   "outputs": [],
   "source": [
    "from search import *"
   ]
  },
  {
   "cell_type": "code",
   "execution_count": 8,
   "metadata": {},
   "outputs": [],
   "source": [
    "class Set_covering(Problem):\n",
    "    '''Initial state should be a naive solution to the problem,\n",
    "    that is a list containing all the subsets of the universe that\n",
    "    are given for minimization. This initial state is a solution\n",
    "    because the union of these subsets equals the universe (it is \n",
    "    the worst solution possible because we are using them all), but\n",
    "    better solutions will be searched from this initial state. The goal\n",
    "    state is the universe and we will use it to check if a given collection\n",
    "    of subsets covers the universe upon union'''\n",
    "    \n",
    "    def actions(self, state):\n",
    "        '''For each state, the possible actions to generate successors\n",
    "        are to remove subsets (if the collection of subsets is not empty)\n",
    "        or to add subsets (if the collection of subsets is not the initial state)'''\n",
    "        actions = []\n",
    "        for element in state:\n",
    "            actions.append( (\"remove\", element) )\n",
    "        \n",
    "        notpresent = set(self.initial) - set(state)\n",
    "        for element in notpresent:\n",
    "            actions.append( (\"add\", element) )\n",
    "            \n",
    "        return actions\n",
    "    \n",
    "    def result(self, state, action):\n",
    "        result = state.copy()\n",
    "        if action[0] == \"remove\":\n",
    "            result.remove(action[1])\n",
    "        elif action[0] == \"add\":\n",
    "            result.append(action[1])\n",
    "        return result\n",
    "    \n",
    "    def value(self, state):\n",
    "        '''Negative values returned as this is a minimization problem'''\n",
    "        covered = set()\n",
    "        ones = twos = 0\n",
    "        camera7 = False\n",
    "        for subset in state:\n",
    "            if subset == c7:\n",
    "                camera7 = True\n",
    "            for element in subset.coverage:\n",
    "                if element == 1:\n",
    "                    ones += 1\n",
    "                elif element == 2:\n",
    "                    twos += 1\n",
    "                covered.add(element)\n",
    "                \n",
    "        if covered != self.goal: #This collection of subsets is invalid, treat it as worse than initial state\n",
    "            return -len(self.initial) - 1\n",
    "        else:\n",
    "            if ones >= 2 and twos >= 2 and camera7 == True:\n",
    "                return -len(state)\n",
    "            else:\n",
    "                return -len(self.initial) - 1 #invalid state too"
   ]
  },
  {
   "cell_type": "code",
   "execution_count": 9,
   "metadata": {},
   "outputs": [],
   "source": [
    "#Define the camera locations and their coverage as specified in the assignment\n",
    "class Camera:\n",
    "    def __init__(self, name, coverage):\n",
    "        self.name = name\n",
    "        self.coverage = coverage\n",
    "        \n",
    "    def __repr__(self):\n",
    "        return self.name\n",
    "\n",
    "c1 = Camera(\"c1\", {1, 3, 4, 6, 7})\n",
    "c2 = Camera(\"c2\", {4, 7, 8, 12})\n",
    "c3 = Camera(\"c3\", {2, 5, 9, 11, 13})\n",
    "c4 = Camera(\"c4\", {1, 2, 18, 19, 21})\n",
    "c5 = Camera(\"c5\", {3, 6, 10, 12, 14})\n",
    "c6 = Camera(\"c6\", {8, 14, 15, 16, 17})\n",
    "c7 = Camera(\"c7\", {18, 21, 24, 25})\n",
    "c8 = Camera(\"c8\", {2, 10, 16, 23})\n",
    "c9 = Camera(\"c9\", {1, 6, 11})\n",
    "c10 = Camera(\"c10\", {20, 22, 24, 25})\n",
    "c11 = Camera(\"c11\", {2, 4, 6, 8})\n",
    "c12 = Camera(\"c12\", {1, 6, 12, 17})\n",
    "\n",
    "cameras = [c1, c2, c3, c4, c5, c6, c7, c8, c9, c10, c11, c12]\n",
    "\n",
    "#Define the universe set by union of all subsets (set with all stadium locations covered)\n",
    "stadium = set()\n",
    "for camera in cameras:\n",
    "    stadium.update(camera.coverage)"
   ]
  },
  {
   "cell_type": "code",
   "execution_count": 34,
   "metadata": {},
   "outputs": [
    {
     "name": "stdout",
     "output_type": "stream",
     "text": [
      "[c8, c2, c10, c4, c3, c7, c6, c1]\n",
      "All stadium locations covered with 8 cameras\n"
     ]
    }
   ],
   "source": [
    "#Solve the CBS cameras problems with simulated annealing\n",
    "CBS_cameras = Set_covering(initial = cameras.copy(), goal = stadium)\n",
    "\n",
    "#We need to try different parameters for the exp_schedule function\n",
    "solution = simulated_annealing(CBS_cameras, exp_schedule(k=20, limit=850))\n",
    "print(solution.state) #Set of cameras found by simulated annealing\n",
    "\n",
    "#Verify that the solution covers all the stadium locations\n",
    "covered=set()\n",
    "for camera in solution.state:\n",
    "    covered.update(camera.coverage)\n",
    "if len(covered) == 25:\n",
    "    print(\"All stadium locations covered with \" + str(len(solution.state)) + \" cameras\")\n",
    "else:\n",
    "    print(\"Solution is invalid, not all locations are covered\")"
   ]
  },
  {
   "cell_type": "markdown",
   "metadata": {},
   "source": [
    "So far we've observed that in order to get valid solutions we had to increase the limit of the schedule function from the default (100) to 1000."
   ]
  },
  {
   "cell_type": "markdown",
   "metadata": {},
   "source": [
    "[c3, c5, c6, c8, c4, c10, c2] first solutions without the constraints\n",
    "[c8, c3, c7, c10, c1, c6, c4, c2] second solution with constraints 825+\n",
    "\n",
    "[c4, c6, c1, c2, c3, c5, c8, c7, c11, c10] solution with limit 825 with constraints"
   ]
  },
  {
   "cell_type": "code",
   "execution_count": 33,
   "metadata": {},
   "outputs": [
    {
     "data": {
      "text/plain": [
       "1.051534605310719"
      ]
     },
     "execution_count": 33,
     "metadata": {},
     "output_type": "execute_result"
    }
   ],
   "source": [
    "T = (20 * math.exp(-0.005 * 1) if 1 < 100 else 0)\n",
    "math.exp(1 / T)"
   ]
  },
  {
   "cell_type": "code",
   "execution_count": null,
   "metadata": {},
   "outputs": [],
   "source": []
  }
 ],
 "metadata": {
  "kernelspec": {
   "display_name": "Python 3",
   "language": "python",
   "name": "python3"
  },
  "language_info": {
   "codemirror_mode": {
    "name": "ipython",
    "version": 3
   },
   "file_extension": ".py",
   "mimetype": "text/x-python",
   "name": "python",
   "nbconvert_exporter": "python",
   "pygments_lexer": "ipython3",
   "version": "3.7.1"
  }
 },
 "nbformat": 4,
 "nbformat_minor": 2
}
