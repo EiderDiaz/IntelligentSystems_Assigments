{
 "cells": [
  {
   "cell_type": "markdown",
   "metadata": {},
   "source": [
    "\n",
    "\n",
    "# Assignment 3. PSAs and Blind Search:\n",
    "\n",
    "\n",
    "#### Team members:\n",
    "\n",
    "1: Carlos Hinojosa A01137566, Campus Monterrey\n",
    "\n",
    "2: Eider Diaz A00828174, Campus Monterrey\n",
    "\n",
    "3: Miguel Cortes A01270966, Campus Monterrey\n",
    "\n",
    "\n",
    "\n",
    "\n",
    "\n",
    "\n"
   ]
  },
  {
   "cell_type": "markdown",
   "metadata": {},
   "source": [
    "#### For this activity you must do the following:\n",
    "1. Analyze the problem to determine the information that is relevant to its formulation as\n",
    "a PSA. Choose a way to represent states in the programming language (Python).\n",
    "2. Implement the required code in a jupyter notebook to be able to solve different\n",
    "instances of the problem using the blind search methods already programmed and\n",
    "included in the Python AIMA code.\n",
    "3. Your code must work correctly when being used by the functions that implement the\n",
    "respective search methods.\n",
    "4. Execute the blind search methods to solve the above possible board problems showing\n",
    "the best solutions found. Each solution must properly show the sequence of states and\n",
    "actions by displaying the step number, the chosen action and the resulting state.\n",
    "5. It would be very nice and awarded if you can compute any statistics about the behaviors\n",
    "of the distinct methods.\n",
    "6. Add observations and conclusions about your experience by programming and using\n",
    "each algorithm to find the solutions: Could they solve all or some problems? How\n",
    "efficient were they? Was it difficult to program the PSA? What was the most difficult?\n",
    "Also, which algorithm seems to be the best for the selected problems? And which\n",
    "methods found the best solutions?\n",
    "\n",
    "\n"
   ]
  },
  {
   "cell_type": "markdown",
   "metadata": {},
   "source": [
    "\n",
    "# PSA formulation: #\n",
    "\n",
    "\n",
    "\n",
    "### 1. States description\n",
    "Language to use for describing the states of the world. Do not forget to fully identify each\n",
    "relevant object (name it).\n",
    "\n",
    "\n",
    "### 2. Initial state\n",
    "Use the language that you designed for describing the initial state of the problem.\n",
    "\n",
    "### 3. Actions\n",
    "Name and informally describe the actions (operators) that the agent can use to perform its\n",
    "tasks\n",
    "\n",
    "### 4. Transition model\n",
    "Detailed description of each action, including its name, arguments, preconditions and\n",
    "effects in the description of the result in states.\n",
    "\n",
    "### 5. Goal test\n",
    "How to recognize the end of the task.\n",
    "\n",
    "### 6. Path cost\n",
    "How to quantify the cost of the sequence of actions performed during the execution of the\n",
    "task.\n",
    "\n"
   ]
  },
  {
   "cell_type": "markdown",
   "metadata": {
    "collapsed": true
   },
   "source": [
    "# Description of initial states #\n",
    "\n",
    "\n"
   ]
  },
  {
   "cell_type": "code",
   "execution_count": null,
   "metadata": {},
   "outputs": [],
   "source": []
  },
  {
   "cell_type": "markdown",
   "metadata": {},
   "source": [
    "# Code for blind search:"
   ]
  },
  {
   "cell_type": "code",
   "execution_count": null,
   "metadata": {},
   "outputs": [],
   "source": []
  },
  {
   "cell_type": "markdown",
   "metadata": {},
   "source": [
    "# Solution of the problems:"
   ]
  },
  {
   "cell_type": "code",
   "execution_count": null,
   "metadata": {},
   "outputs": [],
   "source": []
  },
  {
   "cell_type": "markdown",
   "metadata": {},
   "source": [
    "# Observations and conclusions:"
   ]
  },
  {
   "cell_type": "code",
   "execution_count": null,
   "metadata": {},
   "outputs": [],
   "source": []
  }
 ],
 "metadata": {
  "kernelspec": {
   "display_name": "Python 3",
   "language": "python",
   "name": "python3"
  },
  "language_info": {
   "codemirror_mode": {
    "name": "ipython",
    "version": 3
   },
   "file_extension": ".py",
   "mimetype": "text/x-python",
   "name": "python",
   "nbconvert_exporter": "python",
   "pygments_lexer": "ipython3",
   "version": "3.7.3"
  }
 },
 "nbformat": 4,
 "nbformat_minor": 1
}
