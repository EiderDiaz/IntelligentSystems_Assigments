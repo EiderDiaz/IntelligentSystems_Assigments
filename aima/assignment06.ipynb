{
  "cells": [
    {
      "metadata": {
        "trusted": true
      },
      "cell_type": "code",
      "source": "from csp import *",
      "execution_count": 1,
      "outputs": []
    },
    {
      "metadata": {},
      "cell_type": "markdown",
      "source": "Our function to formulate the problem. The variables are each clue (they are \"variables\" because they are relevant to the problem and participate in binary constraints, but their domain is only 1 value which is already given to us initially) as well as each row and column (their domain most of the time is all lists of permutations between 1 to the gridsize). The constraints graph (in the form of a dict) is constructed with each clue being connected to itself (trivial reflexive unary constraint which must be present to avoid errors in the AIMA machinery), with each row related to each column as well as its corresponding left and right clues, and finally each column connected to each row and its corresponding up and down clues."
    },
    {
      "metadata": {
        "trusted": true
      },
      "cell_type": "code",
      "source": "def formulate(gridsize, leftclues, rightclues, upclues, downclues):\n    N = gridsize\n    assert len(leftclues) +\\\n           len(rightclues) +\\\n           len(upclues) +\\\n           len(downclues) == 4*N\n    \n    variables = []\n    for i in range(1, N + 1):\n        variables.append(\"L\" + str(i))\n        variables.append(\"R\" + str(i))\n        variables.append(\"U\" + str(i))\n        variables.append(\"D\" + str(i))\n        variables.append(\"S\" + str(i))\n        variables.append(\"C\" + str(i))\n    \n    domains = {}\n    left = right = up = down = 0\n    for i in variables:\n        if i[0] == \"L\":\n            domains[i] = [leftclues[left]]\n            left += 1\n        elif i[0] == \"R\":\n            domains[i] = [rightclues[right]]\n            right += 1\n        elif i[0] == \"U\":\n            domains[i] = [upclues[up]]\n            up += 1\n        elif i[0] == \"D\":\n            domains[i] = [downclues[down]]\n            down += 1\n        elif i[0] == \"S\":\n            index = int(i[1]) - 1\n            domains[i] = permutations(N, leftclues[index], rightclues[index])\n        elif i[0] == \"C\":\n            index = int(i[1]) - 1\n            domains[i] = permutations(N, upclues[index], downclues[index])\n        \n    neighbors = {}\n    row = col = 0\n    for i in variables:\n        if i[0] == \"S\":\n            neighbors[i] = [\"C\" + str(j) for j in range(1, N + 1)]\n            neighbors[i].append(\"L\" + str(row + 1))\n            neighbors[i].append(\"R\" + str(row + 1))\n            row += 1\n        elif i[0] == \"C\":\n            neighbors[i] = [\"S\" + str(j) for j in range(1, N + 1)]\n            neighbors[i].append(\"U\" + str(col + 1))\n            neighbors[i].append(\"D\" + str(col + 1))\n            col += 1\n        else:\n            neighbors[i] = [i]\n    \n    return variables, domains, neighbors\n\ndef permutations(N, clue1, clue2):\n    '''Assuming equal probability distribution of the clues (and no 0s given),\n    there is a 2/n chance per row/column that a 1 comes up as a clue. When that\n    happens we can reduce the domain of such row/column from n! permutations\n    to (n - 1)! permutations. More reductions to the domain are possible by\n    observing mathematical properties of the problem and with clever programming\n    for generating the permutations; we only implemented the simpliest case/rule\n    for domain reduction which is that when a clue is one, the highest skyscrapper\n    has to be placed at that bystander point of view no matter what.'''\n    if clue1 == 1:\n        perms = list(itertools.permutations([i for i in range(1, N)]))\n        perms = [list(i) for i in perms]\n        for i in perms:\n            i.insert(0, N)\n        return [tuple(i) for i in perms]\n    \n    elif clue2 == 1:\n        perms = list(itertools.permutations([i for i in range(1, N)]))\n        perms = [list(i) for i in perms]\n        for i in perms:\n            i.append(N)\n        return [tuple(i) for i in perms]\n    \n    else:\n        return list(itertools.permutations([i for i in range(1, N + 1)]))\n        \n",
      "execution_count": 19,
      "outputs": []
    },
    {
      "metadata": {},
      "cell_type": "markdown",
      "source": "Our function for checking constraint satisfaction between a variable A and B with values of a & b repectively"
    },
    {
      "metadata": {
        "trusted": true
      },
      "cell_type": "code",
      "source": "def constraints(A, a, B, b):\n    if (A[0] == \"S\" and B[0] == \"C\") or (A[0] == \"C\" and B[0] == \"S\"):\n        #This case basically works like a crossword\n        A_index = int(B[1]) - 1\n        B_index = int(A[1]) - 1\n        if a[A_index] == b[B_index]:\n            return True\n    \n    elif (A[0] == \"S\" and B[0] == \"L\") or (A[0] == \"C\" and B[0] == \"U\"):\n        #Check clue satisfaction from the perspective of a up/left bystander\n        if b == 0:\n            return True\n        else:\n            count = biggest = 0\n            for i in a:\n                if i > biggest:\n                    biggest = i\n                    count += 1\n            if count == b:\n                return True\n                \n    elif (A[0] == \"S\" and B[0] == \"R\") or (A[0] == \"C\" and B[0] == \"D\"):\n        #Check clue satisfaction from the perspective of a right/down bystander\n        if b == 0:\n            return True\n        else:\n            a = list(a)\n            a.reverse()\n            count = biggest = 0\n            for i in a:\n                if i > biggest:\n                    biggest = i\n                    count += 1\n            if count == b:\n                return True\n    \n    else: #Unary reflexive constraint of the clues, trivially true by A == B\n        return True",
      "execution_count": 14,
      "outputs": []
    },
    {
      "metadata": {},
      "cell_type": "markdown",
      "source": "This is just an utility function to print a puzzle after it has been solved:"
    },
    {
      "metadata": {
        "trusted": true
      },
      "cell_type": "code",
      "source": "def printPuzzle(skyscrapper):\n    if skyscrapper is None:\n        print(\"Puzzle couldn't be solved\")\n        return\n    \n    clues = [ [] for i in range(1, 5)]\n    for i in skyscrapper.keys():\n        if i[0] == \"L\":\n            clues[0].append(skyscrapper[i])\n        elif i[0] == \"R\":\n            clues[1].append(skyscrapper[i])\n        elif i[0] == \"U\":\n            clues[2].append(skyscrapper[i])\n        elif i[0] == \"D\":\n            clues[3].append(skyscrapper[i])\n    \n    mold = {}\n    count = -1\n    for i in skyscrapper.keys():\n        if i[0] == 'S':\n            count += 1\n            mold[i] = list(skyscrapper[i])\n            mold[i].insert(0, clues[0][count])\n            mold[i].append(clues[1][count])\n    \n    for i in range(1, len(mold) + 1):\n        if clues[0][i - 1] == 0 and clues[1][i - 1] == 0:\n            for j in range(1, len(mold) + 1):\n                if clues[2][j - 1] == 0 and clues[3][j - 1] == 0:\n                    mold['S' + str(i)][j] = '-'\n    \n    N = len(clues[0])\n    count = 0\n    for i in clues[2]:\n        count += 1\n        if count == 1:\n            print(\"   \" + str(i) + \"  \", end = \"\")\n        elif count == N:\n            print(\" \" + str(i))\n        else:\n            print(\" \" + str(i) + \"  \", end = \"\")\n            \n    N = len(mold['S1'])\n    for i in mold.keys():\n        count = 0\n        for j in mold[i]:\n            count += 1\n            if count == 1:\n                print(str(j), end = \" \")\n            elif count == N:\n                print(j)\n                count = 0\n            else:\n                print(\"|\" + str(j) + \"| \", end = \"\")\n                         \n    N = len(clues[0])\n    count = 0\n    for i in clues[3]:\n        count += 1\n        if count == 1:\n            print(\"   \" + str(i) + \"  \", end = \"\")\n        elif count == N:\n            print(\" \" + str(i))\n        else:\n            print(\" \" + str(i) + \"  \", end = \"\")",
      "execution_count": 15,
      "outputs": []
    },
    {
      "metadata": {
        "trusted": true
      },
      "cell_type": "code",
      "source": "#Formulate and solve assignment example\nvariables, domains, neighbors = formulate(5, [3, 2, 3, 2, 1], [3, 4, 1, 2, 2], [4, 2, 1, 2, 3], [1, 4, 3, 2, 2])\nexample_skyscrapper = CSP(variables, domains, neighbors, constraints)\nsolution_example = backtracking_search(example_skyscrapper)\nprintPuzzle(solution_example)",
      "execution_count": 18,
      "outputs": [
        {
          "output_type": "stream",
          "text": "   4   2   1   2   3\n3 |2| |3| |5| |4| |1| 3\n2 |1| |5| |4| |3| |2| 4\n3 |3| |4| |2| |1| |5| 1\n2 |4| |2| |1| |5| |3| 2\n1 |5| |1| |3| |2| |4| 2\n   1   4   3   2   2\n",
          "name": "stdout"
        }
      ]
    },
    {
      "metadata": {
        "trusted": true
      },
      "cell_type": "code",
      "source": "#Formulate and solve assignment challenge 1\nvariables, domains, neighbors = formulate(4, [1, 3, 2, 2], [3, 2, 1, 2], [1, 3, 2, 2], [3, 1, 2, 2])\nskyscrapper_1 = CSP(variables, domains, neighbors, constraints)\nsolution_1 = backtracking_search(skyscrapper_1)\nprintPuzzle(solution_1)",
      "execution_count": 21,
      "outputs": [
        {
          "output_type": "stream",
          "text": "   1   3   2   2\n1 |4| |1| |3| |2| 3\n3 |2| |3| |4| |1| 2\n2 |3| |2| |1| |4| 1\n2 |1| |4| |2| |3| 2\n   3   1   2   2\n",
          "name": "stdout"
        }
      ]
    },
    {
      "metadata": {
        "trusted": true
      },
      "cell_type": "code",
      "source": "#Formulate and solve assignment challenge 2\nvariables, domains, neighbors = formulate(4, [3, 1, 2, 3], [2, 2, 3, 1], [2, 2, 1, 3], [3, 2, 2, 1])\nskyscrapper_2 = CSP(variables, domains, neighbors, constraints)\nsolution_2 = backtracking_search(skyscrapper_2)\nprintPuzzle(solution_2)",
      "execution_count": 22,
      "outputs": [
        {
          "output_type": "stream",
          "text": "   2   2   1   3\n3 |1| |3| |4| |2| 2\n1 |4| |2| |1| |3| 2\n2 |3| |4| |2| |1| 3\n3 |2| |1| |3| |4| 1\n   3   2   2   1\n",
          "name": "stdout"
        }
      ]
    },
    {
      "metadata": {
        "trusted": true
      },
      "cell_type": "code",
      "source": "#Formulate and solve assignment challenge 3\nvariables, domains, neighbors = formulate(4, [3, 3, 0, 0], [0, 0, 0, 0], [0, 0, 1, 0], [0, 0, 2, 0])\nskyscrapper_3 = CSP(variables, domains, neighbors, constraints)\nsolution_3 = backtracking_search(skyscrapper_3)\nprintPuzzle(solution_3)",
      "execution_count": 24,
      "outputs": [
        {
          "output_type": "stream",
          "text": "   0   0   1   0\n3 |1| |2| |4| |3| 0\n3 |2| |3| |1| |4| 0\n0 |-| |-| |2| |-| 0\n0 |-| |-| |3| |-| 0\n   0   0   2   0\n",
          "name": "stdout"
        }
      ]
    },
    {
      "metadata": {
        "trusted": true
      },
      "cell_type": "code",
      "source": "#Extra 6x6 challenge taken from http://www.brainbashers.com/showskyscraper.asp?date=1009&size=6&diff=1\n#Using heuristics and forward checking helps here\nvariables, domains, neighbors = formulate(6, [2, 3, 1, 2, 3, 3],\n                                             [3, 2, 2, 3, 3, 1],\n                                             [3, 1, 3, 2, 2, 3],\n                                             [3, 2, 2, 2, 3, 1])\nskyscrapper_bonus = CSP(variables, domains, neighbors, constraints)\nsolution_bonus = backtracking_search(skyscrapper_bonus,\n                        select_unassigned_variable=mrv,\n                        order_domain_values=lcv,\n                        inference=forward_checking)\nprintPuzzle(solution_bonus)",
      "execution_count": 28,
      "outputs": [
        {
          "output_type": "stream",
          "text": "   3   2   3   1   3   2\n1 |6| |4| |1| |2| |3| |5| 3\n3 |4| |2| |5| |3| |6| |1| 3\n3 |1| |3| |2| |6| |5| |4| 1\n2 |2| |5| |3| |1| |4| |6| 2\n2 |3| |6| |4| |5| |1| |2| 3\n3 |5| |1| |6| |4| |2| |3| 2\n   2   3   2   2   3   1\n",
          "name": "stdout"
        }
      ]
    },
    {
      "metadata": {
        "trusted": true
      },
      "cell_type": "code",
      "source": "",
      "execution_count": null,
      "outputs": []
    }
  ],
  "metadata": {
    "kernelspec": {
      "name": "python36",
      "display_name": "Python 3.6",
      "language": "python"
    },
    "language_info": {
      "mimetype": "text/x-python",
      "nbconvert_exporter": "python",
      "name": "python",
      "pygments_lexer": "ipython3",
      "version": "3.6.6",
      "file_extension": ".py",
      "codemirror_mode": {
        "version": 3,
        "name": "ipython"
      }
    }
  },
  "nbformat": 4,
  "nbformat_minor": 2
}