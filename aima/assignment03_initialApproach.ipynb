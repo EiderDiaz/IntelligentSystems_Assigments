{
  "cells": [
    {
      "metadata": {
        "trusted": true
      },
      "cell_type": "code",
      "source": "import sys\nsys.path.append(\"./AIMA\")\nfrom search import *\nfrom agents import*",
      "execution_count": 1,
      "outputs": []
    },
    {
      "metadata": {
        "trusted": true
      },
      "cell_type": "code",
      "source": "class Tpiece(Thing): #Create a movable piece class\n    pass\n\nclass Mobs(Thing):\n    pass\n\nclass Oobs(Thing):\n    pass\n\nclass Board(Environment): #Create an environment like last assignment\n    pass",
      "execution_count": 2,
      "outputs": []
    },
    {
      "metadata": {
        "trusted": true
      },
      "cell_type": "code",
      "source": "class PSA(SimpleProblemSolvingAgentProgram):\n    def __call__(self, board): #AIMA overrided function because it had some things wrong\n        self.percept = board.things #percept will just be the list of objects in the board environment\n        self.state = self.update_state(self.percept)\n        if not self.seq:\n            goal = self.formulate_goal(self.state)\n            problem = self.formulate_problem(self.state, goal)\n            self.seq.append(self.search(problem))\n            #This was originally self.seq = blabla in AIMA which obviously gives an error when trying to pop it later wtf AIMA\n            if not self.seq:\n                return None\n        return self.seq.pop(0) #self.seq goes back empty for working the next goal\n    \n    def update_state(self, percept): #from board.things it builds a tuple of tuples to represent the initial state of the current step\n        #Format: (('Identification char', (location)), next object of the percept in the same format)\n        #Example: ( ('A', (1, 1)), ('T', (5, 2)) ) <- means a state with agent in 1, 1 and movable piece in 5, 2\n        #Output needs to be tuple because the AIMA graph search function needs hashable data structures to add to the explored set\n        \n        state = {'M': [], 'O': []} #Easier to build the state as a dict\n        for p in percept:\n            if isinstance(p, Agent):\n                state['A'] = p.location\n            elif isinstance(p, Tpiece):\n                state['T'] = p.location\n            elif isinstance(p, Mobs):\n                state['M'].append(p.location)\n            elif isinstance(p, Oobs):\n                state['O'].append(p.location)\n            \n        temp = {}\n        temp['A'] = state['A']\n        temp['T'] = state['T']\n        temp['M'] = tuple(state['M'])\n        temp['O'] = tuple(state['O'])\n        \n        state = []\n        for k in temp.items():\n            state.append(k)\n                \n        state = tuple(state) #convert the state to tuple\n        return state\n\n    def formulate_goal(self, state): #returns the desired state of the current step\n        goal = [(('A', (4,5)), ('T', (5,5))), (('A', (5,4)), ('T', (5,5)))]\n        #Ww gonna test doing everything in one step first\n        return goal\n\n    def formulate_problem(self, state, goal): #create a problem object with the initial state and goal state for this step\n        problem = PushnPull(state, goal)\n        return problem\n    \n    def search(self, problem): #Uses some search algorithm included in AIMA to solve the problem\n        return graph_search(problem, [])\n        ",
      "execution_count": 3,
      "outputs": []
    },
    {
      "metadata": {
        "trusted": true
      },
      "cell_type": "code",
      "source": "class PushnPull(Problem):\n    def actions(self, state):\n        \"\"\"Return the actions that can be executed in the given\n        state. The result would typically be a list, but if there are\n        many actions, consider yielding them one at a time in an\n        iterator, rather than building them all at once.\"\"\"\n        raise NotImplementedError\n    \n    def result(self, state, action):\n        \"\"\"Return the state that results from executing the given\n        action in the given state. The action must be one of\n        self.actions(state).\"\"\"\n        temp = dict(state)\n        #converting the state temporarily to a dictionary makes it easier to manip the data, example: {'A': (1,1), 'T': (5, 5)}\n        \n        if action == \"pushRight\":\n            out = []\n            for i in temp['M']:\n                if temp['A'][0] == i[0] and temp['A'][1] + 1 == i[1]:\n                    out.append((i[0], i[1] + 1))\n                else:\n                    out.append((i[0], i[1]))\n            temp['M'] = out\n            if temp['A'][0] == temp['T'][0] and temp['A'][1] + 1 == temp['T'][1]:\n                temp['T'] = (temp['T'][0], temp['T'][1] + 1)\n            temp['A'] = (temp['A'][0], temp['A'][1] + 1) \n            \n        elif action == \"pushLeft\":\n            out = []\n            for i in temp['M']:\n                if temp['A'][0] == i[0] and temp['A'][1] - 1 == i[1]:\n                    out.append((i[0], i[1] - 1))\n                else:\n                    out.append((i[0], i[1]))\n            temp['M'] = out\n            if temp['A'][0] == temp['T'][0] and temp['A'][1] - 1 == temp['T'][1]:\n                temp['T'] = (temp['T'][0], temp['T'][1] - 1)\n            temp['A'] = (temp['A'][0], temp['A'][1] - 1)\n\n        elif action == \"pushUp\":\n            out = []\n            for i in temp['M']:\n                if temp['A'][0] - 1 == i[0] and temp['A'][1] == i[1]:\n                    out.append((i[0] - 1, i[1]))\n                else:\n                    out.append((i[0], i[1]))\n            temp['M'] = out\n            if temp['A'][0] - 1 == temp['T'][0] and temp['A'][1] == temp['T'][1]:\n                temp['T'] = (temp['T'][0] - 1, temp['T'][1])\n            temp['A'] = (temp['A'][0] - 1, temp['A'][1])\n\n        elif action == \"pushDown\":\n            out = []\n            for i in temp['M']:\n                if temp['A'][0] + 1 == i[0] and temp['A'][1] == i[1]:\n                    out.append((i[0] + 1, i[1]))\n                else:\n                    out.append((i[0], i[1]))\n            temp['M'] = out\n            if temp['A'][0] + 1 == temp['T'][0] and temp['A'][1] == temp['T'][1]:\n                temp['T'] = (temp['T'][0] + 1, temp['T'][1])\n            temp['A'] = (temp['A'][0] + 1, temp['A'][1])\n            \n        elif action == \"pullRight\":\n            out = []\n            for i in temp['M']:\n                if temp['A'][0] == i[0] and temp['A'][1] - 1 == i[1]:\n                    out.append((i[0], i[1] + 1))\n                else:\n                    out.append((i[0], i[1]))\n            temp['M'] = out\n            if temp['A'][0] == temp['T'][0] and temp['A'][1] - 1 == temp['T'][1]:\n                temp['T'] = (temp['T'][0], temp['T'][1] + 1)\n            temp['A'] = (temp['A'][0], temp['A'][1] + 1)\n            \n        elif action == \"pullLeft\":\n            out = []\n            for i in temp['M']:\n                if temp['A'][0] == i[0] and temp['A'][1] + 1 == i[1]:\n                    out.append((i[0], i[1] - 1))\n                else:\n                    out.append((i[0], i[1]))\n            temp['M'] = out\n            if temp['A'][0] == temp['T'][0] and temp['A'][1] + 1 == temp['T'][1]:\n                temp['T'] = (temp['T'][0], temp['T'][1] - 1)\n            temp['A'] = (temp['A'][0], temp['A'][1] - 1)\n        \n        elif action == \"pullUp\":\n            out = []\n            for i in temp['M']:\n                if temp['A'][0] + 1 == i[0] and temp['A'][1] == i[1]:\n                    out.append((i[0] - 1, i[1]))\n                else:\n                    out.append((i[0], i[1]))\n            temp['M'] = out\n            if temp['A'][0] + 1 == temp['T'][0] and temp['A'][1] == temp['T'][1]:\n                temp['T'] = (temp['T'][0] - 1, temp['T'][1])\n            temp['A'] = (temp['A'][0] - 1, temp['A'][1])\n            \n        elif action == \"pullDown\":\n            out = []\n            for i in temp['M']:\n                if temp['A'][0] - 1 == i[0] and temp['A'][1] == i[1]:\n                    out.append((i[0] + 1, i[1]))\n                else:\n                    out.append((i[0], i[1]))\n            temp['M'] = out\n            if temp['A'][0] - 1 == temp['T'][0] and temp['A'][1] == temp['T'][1]:\n                temp['T'] = (temp['T'][0] + 1, temp['T'][1])\n            temp['A'] = (temp['A'][0] + 1, temp['A'][1])\n            \n        else:\n            if action == 'moveRight':\n                temp['A'] = (temp['A'][0], temp['A'][1] + 1)\n            elif action == 'moveLeft':\n                temp['A'] = (temp['A'][0], temp['A'][1] - 1)\n            elif action == 'moveUp':\n                temp['A'] = (temp['A'][0] - 1, temp['A'][1])\n            elif action == 'moveDown':\n                temp['A'] = (temp['A'][0] + 1, temp['A'][1])\n            #The new state has the agent move accordingly\n        \n        #This next block simply builds a proper tuple formatted state from the edited dictionary\n        out = {}\n        out['A'] = temp['A']\n        out['T'] = temp['T']\n        out['M'] = tuple(temp['M'])\n        out['O'] = temp['O']\n        \n        result = []\n        for k in out.items():\n            result.append(k)\n                \n        result = tuple(result)\n        return result\n    \n    \n    def in_goal_state(state, goal):\n        state = dict(state)\n        agent = ('A', state['A'])\n        treasure = ('T', state['T'])\n\n        for g in goal:\n            g_agent = g[0]\n            g_treasure = g[1]\n            if g_agent == agent and g_treasure == treasure:\n                return True\n        return False",
      "execution_count": 4,
      "outputs": []
    },
    {
      "metadata": {
        "trusted": true
      },
      "cell_type": "code",
      "source": "def graph_search(problem, frontier): #This is just a default AIMA search algorithm which is ran from an agent's search method\n    \"\"\"Search through the successors of a problem to find a goal.\n    The argument frontier should be an empty queue.\n    If two paths reach a state, only use the first one. [Figure 3.7]\"\"\"\n    frontier.append(Node(problem.initial))\n    explored = set()\n    while frontier:\n        node = frontier.pop()\n        if problem.goal_test(node.state):\n            return node\n        explored.add(node.state)\n        frontier.extend(child for child in node.expand(problem)\n                        if child.state not in explored and\n                        child not in frontier)\n    return None",
      "execution_count": 5,
      "outputs": []
    },
    {
      "metadata": {
        "trusted": true
      },
      "cell_type": "code",
      "source": "",
      "execution_count": null,
      "outputs": []
    }
  ],
  "metadata": {
    "kernelspec": {
      "name": "python36",
      "display_name": "Python 3.6",
      "language": "python"
    },
    "language": "fsharp",
    "language_info": {
      "mimetype": "text/x-python",
      "nbconvert_exporter": "python",
      "name": "python",
      "pygments_lexer": "ipython3",
      "version": "3.6.6",
      "file_extension": ".py",
      "codemirror_mode": {
        "version": 3,
        "name": "ipython"
      }
    }
  },
  "nbformat": 4,
  "nbformat_minor": 2
}
