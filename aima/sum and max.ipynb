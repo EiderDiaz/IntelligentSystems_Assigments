{
 "cells": [
  {
   "cell_type": "code",
   "execution_count": 8,
   "metadata": {},
   "outputs": [],
   "source": [
    "def summ(n): #returns the the sum 1 + 2 + ... + n \n",
    "        suma =0\n",
    "        i = 1;\n",
    "        while i<=n:\n",
    "            #invariant sum = 1 + 2 + ... + (i−1) \n",
    "            invariant = summ(i-1)\n",
    "            print(suma,invariant)\n",
    "            suma = suma + i\n",
    "            i=i+1\n",
    "        \n",
    "        return suma"
   ]
  },
  {
   "cell_type": "code",
   "execution_count": 9,
   "metadata": {},
   "outputs": [
    {
     "name": "stdout",
     "output_type": "stream",
     "text": [
      "0 0\n",
      "0 0\n",
      "1 1\n",
      "0 0\n",
      "0 0\n",
      "1 1\n",
      "3 3\n"
     ]
    },
    {
     "data": {
      "text/plain": [
       "6"
      ]
     },
     "execution_count": 9,
     "metadata": {},
     "output_type": "execute_result"
    }
   ],
   "source": [
    "sum(5)"
   ]
  },
  {
   "cell_type": "code",
   "execution_count": 94,
   "metadata": {},
   "outputs": [],
   "source": [
    "def maximo(A):\n",
    "    #returns the the sum 1 + 2 + ... + n\n",
    "    if len(A)<=1:\n",
    "        maxim = A[0]\n",
    "        return maxim\n",
    "    maxim = A[0]\n",
    "    for i in range(len(A)-1):\n",
    "        #invariant:  max = max(A[0], A[1], ..., A[i-1])\n",
    "        invariant = maximo(A[i:-1])\n",
    "        #print(invariant == maxim)\n",
    "        if A[i] > maxim:\n",
    "            maxim = A[i]\n",
    "    return maxim"
   ]
  },
  {
   "cell_type": "code",
   "execution_count": 95,
   "metadata": {},
   "outputs": [
    {
     "data": {
      "text/plain": [
       "8"
      ]
     },
     "execution_count": 95,
     "metadata": {},
     "output_type": "execute_result"
    }
   ],
   "source": [
    "A = [1,4,5,6,8,0]\n",
    "maximo(A)\n"
   ]
  }
 ],
 "metadata": {
  "kernelspec": {
   "display_name": "Python 3",
   "language": "python",
   "name": "python3"
  },
  "language": "fsharp"
 },
 "nbformat": 4,
 "nbformat_minor": 2
}
